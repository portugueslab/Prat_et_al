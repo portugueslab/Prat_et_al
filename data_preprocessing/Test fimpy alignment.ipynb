{
 "cells": [
  {
   "cell_type": "code",
   "execution_count": null,
   "metadata": {},
   "outputs": [],
   "source": [
    "%load_ext autoreload\n",
    "import deepdish as dd\n",
    "import numpy as np\n",
    "import pandas as pd\n",
    "import json\n",
    "from skimage import io\n",
    "from notebook_utilities.display import stack_browser, display_array\n",
    "from matplotlib import pyplot as plt\n",
    "from fimpy.core.split_dataset import H5SplitDataset\n",
    "%matplotlib notebook\n",
    "from pathlib import Path\n",
    "from scipy.ndimage import median_filter"
   ]
  },
  {
   "cell_type": "code",
   "execution_count": null,
   "metadata": {},
   "outputs": [],
   "source": [
    "%autoreload\n",
    "from fimpy.registration.reg_from_skimage import register_translation\n",
    "from fimpy.registration.volume import (\n",
    "    align_block_shift,\n",
    "    find_shifts_sobel,\n",
    "    shift_stack,\n",
    "    sobel_stack)\n",
    "from fimpy.registration.plane import align_single_planes_sobel, displacement_between_planes"
   ]
  },
  {
   "cell_type": "markdown",
   "metadata": {},
   "source": [
    "# Check alignment function"
   ]
  },
  {
   "cell_type": "code",
   "execution_count": null,
   "metadata": {},
   "outputs": [],
   "source": [
    "path = Path(r\"J:\\_Shared\\experiments\\E0032_luminance\\v01_flashes\\IO\\181024_f1\\181024_f1_io6fef05_6dpf_im\\src\")\n",
    "ds = H5SplitDataset(path)"
   ]
  },
  {
   "cell_type": "code",
   "execution_count": null,
   "metadata": {},
   "outputs": [],
   "source": [
    "i = 30\n",
    "plane = dd.io.load(path / \"src_{0:0>3}.h5\".format(i), \"/stack_4D\")\n",
    "display_array(plane[0,0,:,:])"
   ]
  },
  {
   "cell_type": "code",
   "execution_count": null,
   "metadata": {},
   "outputs": [],
   "source": [
    "display_array(np.max(plane[:,0,:,:], 0))"
   ]
  },
  {
   "cell_type": "markdown",
   "metadata": {},
   "source": [
    "### Sobel filtering of the plane"
   ]
  },
  {
   "cell_type": "code",
   "execution_count": null,
   "metadata": {},
   "outputs": [],
   "source": [
    "prefilter_sigma = 4.3\n",
    "ref = np.mean(ds[:10,:,:,:,], 0)\n",
    "full_sob = sobel_stack(ref, prefilter_sigma)"
   ]
  },
  {
   "cell_type": "code",
   "execution_count": null,
   "metadata": {},
   "outputs": [],
   "source": [
    "display_array(full_sob)"
   ]
  },
  {
   "cell_type": "markdown",
   "metadata": {},
   "source": [
    "Calculate fft reference"
   ]
  },
  {
   "cell_type": "code",
   "execution_count": null,
   "metadata": {},
   "outputs": [],
   "source": [
    "full_fft_reference = np.fft.fftn(sobel_stack(ref, prefilter_sigma))"
   ]
  },
  {
   "cell_type": "code",
   "execution_count": null,
   "metadata": {},
   "outputs": [],
   "source": [
    "plane_sob = sobel_stack(plane[:,0,:,:].astype(np.float), prefilter_sigma)"
   ]
  },
  {
   "cell_type": "code",
   "execution_count": null,
   "metadata": {},
   "outputs": [],
   "source": [
    "display_array(sobel_stack(plane[-1, :,:,:].astype(float), prefilter_sigma) - full_sob[i:i+1,:,:])"
   ]
  },
  {
   "cell_type": "markdown",
   "metadata": {},
   "source": [
    "### Try registration"
   ]
  },
  {
   "cell_type": "code",
   "execution_count": null,
   "metadata": {},
   "outputs": [],
   "source": [
    "find_shifts_sobel(plane[:1, :, :, :], np.fft.fftn(sobel_stack(ds[-1, i:i+1, :, :], prefilter_sigma)), prefilter_sigma)"
   ]
  },
  {
   "cell_type": "code",
   "execution_count": null,
   "metadata": {},
   "outputs": [],
   "source": [
    "sample_im_f = np.fft.fftn(sobel_stack(plane[0, :,:,:], prefilter_sigma))\n",
    "sample_im_l = np.fft.fftn(sobel_stack(plane[-1, :,:,:], prefilter_sigma))"
   ]
  },
  {
   "cell_type": "code",
   "execution_count": null,
   "metadata": {},
   "outputs": [],
   "source": [
    "register_translation(sample_im_f, np.fft.fftn(full_sob[i:i+1,:,:]), space=\"fourier\", upsample_factor=10, return_error=False)"
   ]
  },
  {
   "cell_type": "code",
   "execution_count": null,
   "metadata": {},
   "outputs": [],
   "source": [
    "register_translation(sample_im_l, np.fft.fftn(full_sob[i:i+1,:,:]), upsample_factor=10, space=\"fourier\", return_error=False)"
   ]
  },
  {
   "cell_type": "code",
   "execution_count": null,
   "metadata": {},
   "outputs": [],
   "source": [
    "register_translation(sample_im_l, sample_im_f, upsample_factor=10, space=\"fourier\", return_error=False)"
   ]
  },
  {
   "cell_type": "markdown",
   "metadata": {},
   "source": [
    "### Test actual fimpy function"
   ]
  },
  {
   "cell_type": "code",
   "execution_count": null,
   "metadata": {},
   "outputs": [],
   "source": []
  },
  {
   "cell_type": "code",
   "execution_count": null,
   "metadata": {},
   "outputs": [],
   "source": [
    "find_shifts_sobel(plane[-2, :, :,:], np.fft.fftn(full_sob[i:i+1,:,:]), prefilter_sigma)"
   ]
  },
  {
   "cell_type": "code",
   "execution_count": null,
   "metadata": {},
   "outputs": [],
   "source": [
    "align_single_planes"
   ]
  },
  {
   "cell_type": "code",
   "execution_count": null,
   "metadata": {},
   "outputs": [],
   "source": [
    "def find_shifts_sobel_plane(plane, fft_ref, prefilter_sigma, window):\n",
    "    \n",
    "\n",
    "def _get_plane_shifts(ds, reference, plane_i, prefilter_sigma):\n",
    "    find_shifts_sobel(ds[:,:,:], np.fft.fftn(full_sob[i+1:i+2,:,:]), prefilter_sigma)"
   ]
  },
  {
   "cell_type": "code",
   "execution_count": null,
   "metadata": {},
   "outputs": [],
   "source": [
    "i = 30\n",
    "stack = ds[:,j:j+1,:,:]\n",
    "ref = np.mean(ds[:10,:,:,:], 0)"
   ]
  },
  {
   "cell_type": "code",
   "execution_count": null,
   "metadata": {},
   "outputs": [],
   "source": [
    "find_shifts_sobel(stack[-1:, :, :, :], np.fft.fftn(sobel_stack(ref[i:i+1, :, :], prefilter_sigma)), prefilter_sigma)"
   ]
  },
  {
   "cell_type": "code",
   "execution_count": null,
   "metadata": {},
   "outputs": [],
   "source": [
    "sob_ref = sobel_stack(ref, prefilter_sigma)"
   ]
  },
  {
   "cell_type": "code",
   "execution_count": null,
   "metadata": {},
   "outputs": [],
   "source": [
    "a, shifts = align_single_planes_sobel(stack, np.fft.fftn(sob_ref[i:i+1, :, :]), \n",
    "                                      prefilter_sigma=prefilter_sigma, upsample_factor=10, maxshift=15)"
   ]
  },
  {
   "cell_type": "code",
   "execution_count": null,
   "metadata": {},
   "outputs": [],
   "source": [
    "display_array(a)"
   ]
  },
  {
   "cell_type": "markdown",
   "metadata": {},
   "source": [
    "### Alignment between planes"
   ]
  },
  {
   "cell_type": "code",
   "execution_count": null,
   "metadata": {},
   "outputs": [],
   "source": [
    "display_array(ref)"
   ]
  },
  {
   "cell_type": "code",
   "execution_count": null,
   "metadata": {},
   "outputs": [],
   "source": [
    "%autoreload\n",
    "from fimpy.registration.plane import align_single_planes_sobel, displacement_between_planes, shift_planes\n",
    "from scipy.ndimage.interpolation import shift"
   ]
  },
  {
   "cell_type": "code",
   "execution_count": null,
   "metadata": {},
   "outputs": [],
   "source": [
    "shifts = displacement_between_planes(ref, upsampling=10)"
   ]
  },
  {
   "cell_type": "code",
   "execution_count": null,
   "metadata": {},
   "outputs": [],
   "source": [
    "display_array(shift_planes(ref, shifts))"
   ]
  },
  {
   "cell_type": "code",
   "execution_count": null,
   "metadata": {},
   "outputs": [],
   "source": [
    "meanvolume = ref # sobel_stack(ref, prefilter_sigma)\n",
    "num_planes = meanvolume.shape[0]\n",
    "centre_plane = int(num_planes // 2)"
   ]
  },
  {
   "cell_type": "code",
   "execution_count": null,
   "metadata": {},
   "outputs": [],
   "source": [
    "aligned = np.empty_like(meanvolume)"
   ]
  },
  {
   "cell_type": "code",
   "execution_count": null,
   "metadata": {},
   "outputs": [],
   "source": [
    "shifts = np.zeros((meanvolume.shape[0], 2))\n",
    "\n",
    "for i in range(centre_plane, meanvolume.shape[0]-1):\n",
    "    s, error, diffphase = register_translation(meanvolume[i,:,:], meanvolume[i+1,:,:], 10)\n",
    "    shifts[i+1,:] = shifts[i,:] + s\n",
    "for i in range(centre_plane, 0, -1):\n",
    "    s, error, diffphase = register_translation(meanvolume[i,:,:], meanvolume[i-1,:,:], 10)\n",
    "    shifts[i-1,:] = shifts[i,:] + s"
   ]
  },
  {
   "cell_type": "code",
   "execution_count": null,
   "metadata": {},
   "outputs": [],
   "source": [
    "display_array(shift_planes(ds[:10,:,:,:], dict(shifts=shifts)))"
   ]
  },
  {
   "cell_type": "markdown",
   "metadata": {},
   "source": [
    "## Combine all alignments for final function"
   ]
  },
  {
   "cell_type": "code",
   "execution_count": null,
   "metadata": {},
   "outputs": [],
   "source": [
    "%load_ext autoreload"
   ]
  },
  {
   "cell_type": "code",
   "execution_count": null,
   "metadata": {},
   "outputs": [],
   "source": [
    "% autoreload\n",
    "from fimpy.registration.plane import align_single_planes_sobel, displacement_between_planes, shift_planes\n",
    "from fimpy.registration.volume import sobel_stack"
   ]
  },
  {
   "cell_type": "code",
   "execution_count": null,
   "metadata": {},
   "outputs": [],
   "source": [
    "path = Path(r\"J:\\_Shared\\exp22_2p\\EC\\imported\\180526 f1\\src\")\n",
    "ds = H5SplitDataset(path)\n",
    "ref = np.mean(ds[:10,:,:,:], 0)\n",
    "prefilter_sigma = 3.3\n",
    "upsampling=10"
   ]
  },
  {
   "cell_type": "code",
   "execution_count": null,
   "metadata": {},
   "outputs": [],
   "source": [
    "sob_ref = sobel_stack(ref, prefilter_sigma)"
   ]
  },
  {
   "cell_type": "code",
   "execution_count": null,
   "metadata": {},
   "outputs": [],
   "source": [
    "%%time\n",
    "whole_stack = ds[:,:,:,:][::50, :,:,:]"
   ]
  },
  {
   "cell_type": "code",
   "execution_count": null,
   "metadata": {},
   "outputs": [],
   "source": [
    "%%time\n",
    "\n",
    "for i in whole_stack.shape[:, ]\n",
    "shifts = align_single_planes_sobel(p[::10, :,:,:], np.fft.fftn(sob_ref[i:i+1, :, :]), \n",
    "                                   prefilter_sigma=prefilter_sigma, upsample_factor=10, maxshift=15)"
   ]
  },
  {
   "cell_type": "code",
   "execution_count": null,
   "metadata": {},
   "outputs": [],
   "source": []
  }
 ],
 "metadata": {
  "kernelspec": {
   "display_name": "Python 3",
   "language": "python",
   "name": "python3"
  },
  "language_info": {
   "codemirror_mode": {
    "name": "ipython",
    "version": 3
   },
   "file_extension": ".py",
   "mimetype": "text/x-python",
   "name": "python",
   "nbconvert_exporter": "python",
   "pygments_lexer": "ipython3",
   "version": "3.7.10"
  }
 },
 "nbformat": 4,
 "nbformat_minor": 4
}
