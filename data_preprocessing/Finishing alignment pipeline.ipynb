{
 "cells": [
  {
   "cell_type": "code",
   "execution_count": 1,
   "metadata": {},
   "outputs": [],
   "source": [
    "%load_ext autoreload\n",
    "import deepdish as dd\n",
    "import numpy as np\n",
    "import pandas as pd\n",
    "import json\n",
    "from skimage import io\n",
    "from notebook_utilities.display import stack_browser, display_array\n",
    "from matplotlib import pyplot as plt\n",
    "from fimpy.core.split_dataset import H5SplitDataset\n",
    "\n",
    "from pathlib import Path"
   ]
  },
  {
   "cell_type": "code",
   "execution_count": 21,
   "metadata": {
    "collapsed": true
   },
   "outputs": [],
   "source": [
    "% autoreload\n",
    "from fimpy.registration.plane import align_single_planes_sobel, displacement_between_planes, shift_planes\n",
    "from fimpy.registration.volume import sobel_stack\n",
    "from fimpy.registration.reg_from_skimage import register_translation"
   ]
  },
  {
   "cell_type": "code",
   "execution_count": 3,
   "metadata": {
    "collapsed": true
   },
   "outputs": [],
   "source": [
    "path = Path(r\"J:\\_Shared\\exp22_2p\\EC\\imported\\180526 f1\\src\")\n",
    "ds = H5SplitDataset(path)\n",
    "ref = np.mean(ds[:10,:,:,:], 0)\n",
    "prefilter_sigma = 3.3\n",
    "upsampling=10"
   ]
  },
  {
   "cell_type": "code",
   "execution_count": 4,
   "metadata": {},
   "outputs": [
    {
     "data": {
      "text/plain": [
       "(1226, 80, 200, 410)"
      ]
     },
     "execution_count": 4,
     "metadata": {},
     "output_type": "execute_result"
    }
   ],
   "source": [
    "ds.shape"
   ]
  },
  {
   "cell_type": "code",
   "execution_count": 8,
   "metadata": {},
   "outputs": [
    {
     "data": {
      "text/plain": [
       "(24, 80, 200, 410)"
      ]
     },
     "execution_count": 8,
     "metadata": {},
     "output_type": "execute_result"
    }
   ],
   "source": [
    "whole_stack.shape"
   ]
  },
  {
   "cell_type": "code",
   "execution_count": 11,
   "metadata": {
    "collapsed": true
   },
   "outputs": [],
   "source": [
    "whole_stack = np.zeros((ds.shape[0]//50+1,) + ds.shape[1:])"
   ]
  },
  {
   "cell_type": "code",
   "execution_count": 12,
   "metadata": {},
   "outputs": [
    {
     "name": "stdout",
     "output_type": "stream",
     "text": [
      "Wall time: 1min 29s\n"
     ]
    }
   ],
   "source": [
    "%%time\n",
    "whole_stack[:,:,:,:] = ds[:,:,:,:][::50, :,:,:]"
   ]
  },
  {
   "cell_type": "code",
   "execution_count": 13,
   "metadata": {
    "collapsed": true
   },
   "outputs": [],
   "source": [
    "ref = whole_stack[:2,:,:,:].mean(0)\n",
    "sob_ref = sobel_stack(ref, prefilter_sigma)"
   ]
  },
  {
   "cell_type": "markdown",
   "metadata": {},
   "source": [
    "Find between-planes shifts"
   ]
  },
  {
   "cell_type": "code",
   "execution_count": 14,
   "metadata": {},
   "outputs": [],
   "source": [
    "shifts_planes = np.zeros((ref.shape[0], 2))\n",
    "num_planes = ref.shape[0]\n",
    "centre_plane = int(num_planes // 2)\n",
    "\n",
    "for i in range(centre_plane, ref.shape[0]-1):\n",
    "    s, error, diffphase = register_translation(ref[i,:,:], ref[i+1,:,:], 10)\n",
    "    shifts_planes[i+1,:] = shifts_planes[i,:] + s\n",
    "for i in range(centre_plane, 0, -1):\n",
    "    s, error, diffphase = register_translation(ref[i,:,:], ref[i-1,:,:], 10)\n",
    "    shifts_planes[i-1,:] = shifts_planes[i,:] + s"
   ]
  },
  {
   "cell_type": "code",
   "execution_count": null,
   "metadata": {
    "collapsed": true
   },
   "outputs": [],
   "source": [
    "display_array(shift_planes(ref[np.newaxis, :,:,:], dict(shifts=shifts_planes)))"
   ]
  },
  {
   "cell_type": "code",
   "execution_count": 27,
   "metadata": {},
   "outputs": [
    {
     "data": {
      "text/plain": [
       "array([22.3, -6.9])"
      ]
     },
     "execution_count": 27,
     "metadata": {},
     "output_type": "execute_result"
    }
   ],
   "source": [
    "shifts_planes[30,:]"
   ]
  },
  {
   "cell_type": "code",
   "execution_count": 22,
   "metadata": {},
   "outputs": [],
   "source": [
    "i = 30\n",
    "shifted, shifts = align_single_planes_sobel(whole_stack[:,i:i+1,:,:], np.fft.fftn(sob_ref[i:i+1, :, :]), \n",
    "                                   prefilter_sigma=prefilter_sigma, upsample_factor=10, maxshift=15)"
   ]
  },
  {
   "cell_type": "code",
   "execution_count": null,
   "metadata": {
    "collapsed": true
   },
   "outputs": [],
   "source": [
    "display_array(whole_stack[0,i:i+1,:,:] - whole_stack[-1,i:i+1,:,:])"
   ]
  },
  {
   "cell_type": "code",
   "execution_count": null,
   "metadata": {
    "collapsed": true
   },
   "outputs": [],
   "source": [
    "display_array(shifted[0,:,:,:] - shifted[-1,:,:,:])"
   ]
  },
  {
   "cell_type": "code",
   "execution_count": null,
   "metadata": {
    "collapsed": true
   },
   "outputs": [],
   "source": []
  }
 ],
 "metadata": {
  "kernelspec": {
   "display_name": "Python 3",
   "language": "python",
   "name": "python3"
  },
  "language_info": {
   "codemirror_mode": {
    "name": "ipython",
    "version": 3
   },
   "file_extension": ".py",
   "mimetype": "text/x-python",
   "name": "python",
   "nbconvert_exporter": "python",
   "pygments_lexer": "ipython3",
   "version": "3.6.3"
  }
 },
 "nbformat": 4,
 "nbformat_minor": 2
}
