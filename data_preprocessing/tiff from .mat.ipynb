{
 "cells": [
  {
   "cell_type": "code",
   "execution_count": null,
   "metadata": {},
   "outputs": [],
   "source": [
    "from pathlib import Path\n",
    "from scipy import io\n",
    "from skimage.external.tifffile import imsave\n",
    "import numpy as np"
   ]
  },
  {
   "cell_type": "code",
   "execution_count": null,
   "metadata": {},
   "outputs": [],
   "source": [
    "#path = Path(r\"J:\\_Shared\\experiments\\E0032_luminance\\v01_flashes\\GC\") #GC Flashes\n",
    "path = Path(r\"J:\\_Shared\\experiments\\E0032_luminance\\v02_steps\\GC\") #GC Steps\n",
    "path_list = list(path.glob(\"*_f[0-9]\"))"
   ]
  },
  {
   "cell_type": "code",
   "execution_count": null,
   "metadata": {},
   "outputs": [],
   "source": [
    "for folder in path_list:\n",
    "    print(folder)\n",
    "    roi_stack = io.loadmat(folder / 'rois3d.mat')['rois']\n",
    "    roi_stack = np.swapaxes(roi_stack, 0,2)\n",
    "    roi_stack = np.swapaxes(roi_stack, 1,2)\n",
    "    print(roi_stack.shape)\n",
    "    imsave(str(folder / \"manual_rois.tif\"), roi_stack)\n",
    "    print('...is done!')"
   ]
  }
 ],
 "metadata": {
  "kernelspec": {
   "display_name": "Python 3",
   "language": "python",
   "name": "python3"
  },
  "language_info": {
   "codemirror_mode": {
    "name": "ipython",
    "version": 3
   },
   "file_extension": ".py",
   "mimetype": "text/x-python",
   "name": "python",
   "nbconvert_exporter": "python",
   "pygments_lexer": "ipython3",
   "version": "3.7.1"
  }
 },
 "nbformat": 4,
 "nbformat_minor": 2
}
