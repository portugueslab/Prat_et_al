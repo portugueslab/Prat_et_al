{
 "cells": [
  {
   "cell_type": "code",
   "execution_count": 1,
   "metadata": {
    "collapsed": true
   },
   "outputs": [],
   "source": [
    "from fimpy.core import H5SplitDataset\n",
    "from fimpy.pipeline.twop import align_2p_volume\n",
    "from pathlib import Path\n",
    "\n",
    "from fimpy.loading.twop import load_2p"
   ]
  },
  {
   "cell_type": "markdown",
   "metadata": {},
   "source": [
    "# Load one"
   ]
  },
  {
   "cell_type": "code",
   "execution_count": 11,
   "metadata": {
    "collapsed": true
   },
   "outputs": [],
   "source": [
    "path = Path(r\"J:\\_Shared\\experiments\\E0032_luminance\\v01_flashes\\IO\\181024_f1\")"
   ]
  },
  {
   "cell_type": "code",
   "execution_count": 14,
   "metadata": {},
   "outputs": [
    {
     "name": "stdout",
     "output_type": "stream",
     "text": [
      "Microscope config: {'frame_time': 246.384, 'frames_per_plane': 1299, 'frames_per_stack': 433, 'x_zoom': 1.5, 'y_zoom': 1.4999999999999978, 'z_indicator': 12313, 'z_step': 1}\n",
      "Stacks per plane: 1 (1299/1299)\n",
      "Saving J:\\_Shared\\experiments\\E0032_luminance\\v01_flashes\\IO\\181024_f1\\181024_f1_io6fef05_6dpf_im\\mat_aligned\\src_000.h5\n",
      "Saving J:\\_Shared\\experiments\\E0032_luminance\\v01_flashes\\IO\\181024_f1\\181024_f1_io6fef05_6dpf_im\\mat_aligned\\src_001.h5\n",
      "Saving J:\\_Shared\\experiments\\E0032_luminance\\v01_flashes\\IO\\181024_f1\\181024_f1_io6fef05_6dpf_im\\mat_aligned\\src_002.h5\n",
      "Saving J:\\_Shared\\experiments\\E0032_luminance\\v01_flashes\\IO\\181024_f1\\181024_f1_io6fef05_6dpf_im\\mat_aligned\\src_003.h5\n",
      "Saving J:\\_Shared\\experiments\\E0032_luminance\\v01_flashes\\IO\\181024_f1\\181024_f1_io6fef05_6dpf_im\\mat_aligned\\src_004.h5\n",
      "Saving J:\\_Shared\\experiments\\E0032_luminance\\v01_flashes\\IO\\181024_f1\\181024_f1_io6fef05_6dpf_im\\mat_aligned\\src_005.h5\n",
      "Saving J:\\_Shared\\experiments\\E0032_luminance\\v01_flashes\\IO\\181024_f1\\181024_f1_io6fef05_6dpf_im\\mat_aligned\\src_006.h5\n",
      "Saving J:\\_Shared\\experiments\\E0032_luminance\\v01_flashes\\IO\\181024_f1\\181024_f1_io6fef05_6dpf_im\\mat_aligned\\src_007.h5\n",
      "Saving J:\\_Shared\\experiments\\E0032_luminance\\v01_flashes\\IO\\181024_f1\\181024_f1_io6fef05_6dpf_im\\mat_aligned\\src_008.h5\n",
      "Saving J:\\_Shared\\experiments\\E0032_luminance\\v01_flashes\\IO\\181024_f1\\181024_f1_io6fef05_6dpf_im\\mat_aligned\\src_009.h5\n",
      "Saving J:\\_Shared\\experiments\\E0032_luminance\\v01_flashes\\IO\\181024_f1\\181024_f1_io6fef05_6dpf_im\\mat_aligned\\src_010.h5\n",
      "Saving J:\\_Shared\\experiments\\E0032_luminance\\v01_flashes\\IO\\181024_f1\\181024_f1_io6fef05_6dpf_im\\mat_aligned\\src_011.h5\n",
      "Saving J:\\_Shared\\experiments\\E0032_luminance\\v01_flashes\\IO\\181024_f1\\181024_f1_io6fef05_6dpf_im\\mat_aligned\\src_012.h5\n",
      "Saving J:\\_Shared\\experiments\\E0032_luminance\\v01_flashes\\IO\\181024_f1\\181024_f1_io6fef05_6dpf_im\\mat_aligned\\src_013.h5\n",
      "Saving J:\\_Shared\\experiments\\E0032_luminance\\v01_flashes\\IO\\181024_f1\\181024_f1_io6fef05_6dpf_im\\mat_aligned\\src_014.h5\n",
      "Saving J:\\_Shared\\experiments\\E0032_luminance\\v01_flashes\\IO\\181024_f1\\181024_f1_io6fef05_6dpf_im\\mat_aligned\\src_015.h5\n",
      "Saving J:\\_Shared\\experiments\\E0032_luminance\\v01_flashes\\IO\\181024_f1\\181024_f1_io6fef05_6dpf_im\\mat_aligned\\src_016.h5\n",
      "Saving J:\\_Shared\\experiments\\E0032_luminance\\v01_flashes\\IO\\181024_f1\\181024_f1_io6fef05_6dpf_im\\mat_aligned\\src_017.h5\n",
      "Saving J:\\_Shared\\experiments\\E0032_luminance\\v01_flashes\\IO\\181024_f1\\181024_f1_io6fef05_6dpf_im\\mat_aligned\\src_018.h5\n",
      "Saving J:\\_Shared\\experiments\\E0032_luminance\\v01_flashes\\IO\\181024_f1\\181024_f1_io6fef05_6dpf_im\\mat_aligned\\src_019.h5\n",
      "Saving J:\\_Shared\\experiments\\E0032_luminance\\v01_flashes\\IO\\181024_f1\\181024_f1_io6fef05_6dpf_im\\mat_aligned\\src_020.h5\n",
      "Saving J:\\_Shared\\experiments\\E0032_luminance\\v01_flashes\\IO\\181024_f1\\181024_f1_io6fef05_6dpf_im\\mat_aligned\\src_021.h5\n",
      "Saving J:\\_Shared\\experiments\\E0032_luminance\\v01_flashes\\IO\\181024_f1\\181024_f1_io6fef05_6dpf_im\\mat_aligned\\src_022.h5\n",
      "Saving J:\\_Shared\\experiments\\E0032_luminance\\v01_flashes\\IO\\181024_f1\\181024_f1_io6fef05_6dpf_im\\mat_aligned\\src_023.h5\n",
      "Saving J:\\_Shared\\experiments\\E0032_luminance\\v01_flashes\\IO\\181024_f1\\181024_f1_io6fef05_6dpf_im\\mat_aligned\\src_024.h5\n",
      "Saving J:\\_Shared\\experiments\\E0032_luminance\\v01_flashes\\IO\\181024_f1\\181024_f1_io6fef05_6dpf_im\\mat_aligned\\src_025.h5\n",
      "Saving J:\\_Shared\\experiments\\E0032_luminance\\v01_flashes\\IO\\181024_f1\\181024_f1_io6fef05_6dpf_im\\mat_aligned\\src_026.h5\n",
      "Saving J:\\_Shared\\experiments\\E0032_luminance\\v01_flashes\\IO\\181024_f1\\181024_f1_io6fef05_6dpf_im\\mat_aligned\\src_027.h5\n",
      "Saving J:\\_Shared\\experiments\\E0032_luminance\\v01_flashes\\IO\\181024_f1\\181024_f1_io6fef05_6dpf_im\\mat_aligned\\src_028.h5\n",
      "Saving J:\\_Shared\\experiments\\E0032_luminance\\v01_flashes\\IO\\181024_f1\\181024_f1_io6fef05_6dpf_im\\mat_aligned\\src_029.h5\n",
      "Saving J:\\_Shared\\experiments\\E0032_luminance\\v01_flashes\\IO\\181024_f1\\181024_f1_io6fef05_6dpf_im\\mat_aligned\\src_030.h5\n",
      "Saving J:\\_Shared\\experiments\\E0032_luminance\\v01_flashes\\IO\\181024_f1\\181024_f1_io6fef05_6dpf_im\\mat_aligned\\src_031.h5\n",
      "Saving J:\\_Shared\\experiments\\E0032_luminance\\v01_flashes\\IO\\181024_f1\\181024_f1_io6fef05_6dpf_im\\mat_aligned\\src_032.h5\n",
      "Saving J:\\_Shared\\experiments\\E0032_luminance\\v01_flashes\\IO\\181024_f1\\181024_f1_io6fef05_6dpf_im\\mat_aligned\\src_033.h5\n",
      "Saving J:\\_Shared\\experiments\\E0032_luminance\\v01_flashes\\IO\\181024_f1\\181024_f1_io6fef05_6dpf_im\\mat_aligned\\src_034.h5\n",
      "Saving J:\\_Shared\\experiments\\E0032_luminance\\v01_flashes\\IO\\181024_f1\\181024_f1_io6fef05_6dpf_im\\mat_aligned\\src_035.h5\n",
      "Saving J:\\_Shared\\experiments\\E0032_luminance\\v01_flashes\\IO\\181024_f1\\181024_f1_io6fef05_6dpf_im\\mat_aligned\\src_036.h5\n",
      "Saving J:\\_Shared\\experiments\\E0032_luminance\\v01_flashes\\IO\\181024_f1\\181024_f1_io6fef05_6dpf_im\\mat_aligned\\src_037.h5\n",
      "Saving J:\\_Shared\\experiments\\E0032_luminance\\v01_flashes\\IO\\181024_f1\\181024_f1_io6fef05_6dpf_im\\mat_aligned\\src_038.h5\n",
      "Saving J:\\_Shared\\experiments\\E0032_luminance\\v01_flashes\\IO\\181024_f1\\181024_f1_io6fef05_6dpf_im\\mat_aligned\\src_039.h5\n",
      "Saving J:\\_Shared\\experiments\\E0032_luminance\\v01_flashes\\IO\\181024_f1\\181024_f1_io6fef05_6dpf_im\\mat_aligned\\src_040.h5\n",
      "Saving J:\\_Shared\\experiments\\E0032_luminance\\v01_flashes\\IO\\181024_f1\\181024_f1_io6fef05_6dpf_im\\mat_aligned\\src_041.h5\n",
      "Saving J:\\_Shared\\experiments\\E0032_luminance\\v01_flashes\\IO\\181024_f1\\181024_f1_io6fef05_6dpf_im\\mat_aligned\\src_042.h5\n",
      "Saving J:\\_Shared\\experiments\\E0032_luminance\\v01_flashes\\IO\\181024_f1\\181024_f1_io6fef05_6dpf_im\\mat_aligned\\src_043.h5\n",
      "Saving J:\\_Shared\\experiments\\E0032_luminance\\v01_flashes\\IO\\181024_f1\\181024_f1_io6fef05_6dpf_im\\mat_aligned\\src_044.h5\n",
      "Saving J:\\_Shared\\experiments\\E0032_luminance\\v01_flashes\\IO\\181024_f1\\181024_f1_io6fef05_6dpf_im\\mat_aligned\\src_045.h5\n",
      "Saving J:\\_Shared\\experiments\\E0032_luminance\\v01_flashes\\IO\\181024_f1\\181024_f1_io6fef05_6dpf_im\\mat_aligned\\src_046.h5\n",
      "Saving J:\\_Shared\\experiments\\E0032_luminance\\v01_flashes\\IO\\181024_f1\\181024_f1_io6fef05_6dpf_im\\mat_aligned\\src_047.h5\n",
      "Saving J:\\_Shared\\experiments\\E0032_luminance\\v01_flashes\\IO\\181024_f1\\181024_f1_io6fef05_6dpf_im\\mat_aligned\\src_048.h5\n",
      "Saving J:\\_Shared\\experiments\\E0032_luminance\\v01_flashes\\IO\\181024_f1\\181024_f1_io6fef05_6dpf_im\\mat_aligned\\src_049.h5\n",
      "Saving J:\\_Shared\\experiments\\E0032_luminance\\v01_flashes\\IO\\181024_f1\\181024_f1_io6fef05_6dpf_im\\mat_aligned\\src_050.h5\n",
      "Saving J:\\_Shared\\experiments\\E0032_luminance\\v01_flashes\\IO\\181024_f1\\181024_f1_io6fef05_6dpf_im\\mat_aligned\\src_051.h5\n",
      "Saving J:\\_Shared\\experiments\\E0032_luminance\\v01_flashes\\IO\\181024_f1\\181024_f1_io6fef05_6dpf_im\\mat_aligned\\src_052.h5\n",
      "Saving J:\\_Shared\\experiments\\E0032_luminance\\v01_flashes\\IO\\181024_f1\\181024_f1_io6fef05_6dpf_im\\mat_aligned\\src_053.h5\n",
      "Saving J:\\_Shared\\experiments\\E0032_luminance\\v01_flashes\\IO\\181024_f1\\181024_f1_io6fef05_6dpf_im\\mat_aligned\\src_054.h5\n",
      "Saving J:\\_Shared\\experiments\\E0032_luminance\\v01_flashes\\IO\\181024_f1\\181024_f1_io6fef05_6dpf_im\\mat_aligned\\src_055.h5\n",
      "Saving J:\\_Shared\\experiments\\E0032_luminance\\v01_flashes\\IO\\181024_f1\\181024_f1_io6fef05_6dpf_im\\mat_aligned\\src_056.h5\n",
      "Saving J:\\_Shared\\experiments\\E0032_luminance\\v01_flashes\\IO\\181024_f1\\181024_f1_io6fef05_6dpf_im\\mat_aligned\\src_057.h5\n",
      "Saving J:\\_Shared\\experiments\\E0032_luminance\\v01_flashes\\IO\\181024_f1\\181024_f1_io6fef05_6dpf_im\\mat_aligned\\src_058.h5\n",
      "Saving J:\\_Shared\\experiments\\E0032_luminance\\v01_flashes\\IO\\181024_f1\\181024_f1_io6fef05_6dpf_im\\mat_aligned\\src_059.h5\n",
      "Saving J:\\_Shared\\experiments\\E0032_luminance\\v01_flashes\\IO\\181024_f1\\181024_f1_io6fef05_6dpf_im\\mat_aligned\\src_060.h5\n",
      "Saving J:\\_Shared\\experiments\\E0032_luminance\\v01_flashes\\IO\\181024_f1\\181024_f1_io6fef05_6dpf_im\\mat_aligned\\src_061.h5\n",
      "Saving J:\\_Shared\\experiments\\E0032_luminance\\v01_flashes\\IO\\181024_f1\\181024_f1_io6fef05_6dpf_im\\mat_aligned\\src_062.h5\n",
      "Saving J:\\_Shared\\experiments\\E0032_luminance\\v01_flashes\\IO\\181024_f1\\181024_f1_io6fef05_6dpf_im\\mat_aligned\\src_063.h5\n",
      "Saving J:\\_Shared\\experiments\\E0032_luminance\\v01_flashes\\IO\\181024_f1\\181024_f1_io6fef05_6dpf_im\\mat_aligned\\src_064.h5\n",
      "Saving J:\\_Shared\\experiments\\E0032_luminance\\v01_flashes\\IO\\181024_f1\\181024_f1_io6fef05_6dpf_im\\mat_aligned\\src_065.h5\n",
      "Saving J:\\_Shared\\experiments\\E0032_luminance\\v01_flashes\\IO\\181024_f1\\181024_f1_io6fef05_6dpf_im\\mat_aligned\\src_066.h5\n"
     ]
    },
    {
     "name": "stdout",
     "output_type": "stream",
     "text": [
      "Saving J:\\_Shared\\experiments\\E0032_luminance\\v01_flashes\\IO\\181024_f1\\181024_f1_io6fef05_6dpf_im\\mat_aligned\\src_067.h5\n",
      "Saving J:\\_Shared\\experiments\\E0032_luminance\\v01_flashes\\IO\\181024_f1\\181024_f1_io6fef05_6dpf_im\\mat_aligned\\src_068.h5\n",
      "Saving J:\\_Shared\\experiments\\E0032_luminance\\v01_flashes\\IO\\181024_f1\\181024_f1_io6fef05_6dpf_im\\mat_aligned\\src_069.h5\n",
      "Saving J:\\_Shared\\experiments\\E0032_luminance\\v01_flashes\\IO\\181024_f1\\181024_f1_io6fef05_6dpf_im\\mat_aligned\\src_070.h5\n",
      "Saving J:\\_Shared\\experiments\\E0032_luminance\\v01_flashes\\IO\\181024_f1\\181024_f1_io6fef05_6dpf_im\\mat_aligned\\src_071.h5\n",
      "Saving J:\\_Shared\\experiments\\E0032_luminance\\v01_flashes\\IO\\181024_f1\\181024_f1_io6fef05_6dpf_im\\mat_aligned\\src_072.h5\n",
      "Saving J:\\_Shared\\experiments\\E0032_luminance\\v01_flashes\\IO\\181024_f1\\181024_f1_io6fef05_6dpf_im\\mat_aligned\\src_073.h5\n",
      "Saving J:\\_Shared\\experiments\\E0032_luminance\\v01_flashes\\IO\\181024_f1\\181024_f1_io6fef05_6dpf_im\\mat_aligned\\src_074.h5\n",
      "Saving J:\\_Shared\\experiments\\E0032_luminance\\v01_flashes\\IO\\181024_f1\\181024_f1_io6fef05_6dpf_im\\mat_aligned\\src_075.h5\n",
      "Saving J:\\_Shared\\experiments\\E0032_luminance\\v01_flashes\\IO\\181024_f1\\181024_f1_io6fef05_6dpf_im\\mat_aligned\\src_076.h5\n",
      "Saving J:\\_Shared\\experiments\\E0032_luminance\\v01_flashes\\IO\\181024_f1\\181024_f1_io6fef05_6dpf_im\\mat_aligned\\src_077.h5\n",
      "Saving J:\\_Shared\\experiments\\E0032_luminance\\v01_flashes\\IO\\181024_f1\\181024_f1_io6fef05_6dpf_im\\mat_aligned\\src_078.h5\n",
      "Saving J:\\_Shared\\experiments\\E0032_luminance\\v01_flashes\\IO\\181024_f1\\181024_f1_io6fef05_6dpf_im\\mat_aligned\\src_079.h5\n",
      "Saving J:\\_Shared\\experiments\\E0032_luminance\\v01_flashes\\IO\\181024_f1\\181024_f1_io6fef05_6dpf_im\\mat_aligned\\src_080.h5\n",
      "Saving J:\\_Shared\\experiments\\E0032_luminance\\v01_flashes\\IO\\181024_f1\\181024_f1_io6fef05_6dpf_im\\mat_aligned\\src_081.h5\n",
      "Saving J:\\_Shared\\experiments\\E0032_luminance\\v01_flashes\\IO\\181024_f1\\181024_f1_io6fef05_6dpf_im\\mat_aligned\\src_082.h5\n",
      "Saving J:\\_Shared\\experiments\\E0032_luminance\\v01_flashes\\IO\\181024_f1\\181024_f1_io6fef05_6dpf_im\\mat_aligned\\src_083.h5\n",
      "Saving J:\\_Shared\\experiments\\E0032_luminance\\v01_flashes\\IO\\181024_f1\\181024_f1_io6fef05_6dpf_im\\mat_aligned\\src_084.h5\n",
      "Saving J:\\_Shared\\experiments\\E0032_luminance\\v01_flashes\\IO\\181024_f1\\181024_f1_io6fef05_6dpf_im\\mat_aligned\\src_085.h5\n",
      "Saving J:\\_Shared\\experiments\\E0032_luminance\\v01_flashes\\IO\\181024_f1\\181024_f1_io6fef05_6dpf_im\\mat_aligned\\src_086.h5\n",
      "Saving J:\\_Shared\\experiments\\E0032_luminance\\v01_flashes\\IO\\181024_f1\\181024_f1_io6fef05_6dpf_im\\mat_aligned\\src_087.h5\n",
      "Saving J:\\_Shared\\experiments\\E0032_luminance\\v01_flashes\\IO\\181024_f1\\181024_f1_io6fef05_6dpf_im\\mat_aligned\\src_088.h5\n",
      "Saving J:\\_Shared\\experiments\\E0032_luminance\\v01_flashes\\IO\\181024_f1\\181024_f1_io6fef05_6dpf_im\\mat_aligned\\src_089.h5\n"
     ]
    }
   ],
   "source": [
    " load_2p(path, pattern=\"*im*/*mat_files*/aligned_nofilt/*mat\", folder_dest=next(path.glob(\"*im*\")) / \"mat_aligned\")"
   ]
  },
  {
   "cell_type": "code",
   "execution_count": null,
   "metadata": {
    "collapsed": true
   },
   "outputs": [],
   "source": []
  },
  {
   "cell_type": "markdown",
   "metadata": {},
   "source": [
    "# Load multiple"
   ]
  },
  {
   "cell_type": "code",
   "execution_count": 3,
   "metadata": {
    "collapsed": true
   },
   "outputs": [],
   "source": [
    "path = Path(r\"J:\\_Shared\\experiments\\E0032_luminance\")"
   ]
  },
  {
   "cell_type": "code",
   "execution_count": 4,
   "metadata": {
    "collapsed": true
   },
   "outputs": [],
   "source": [
    "paths = list(path.glob(\"*/*/*f*/\"))"
   ]
  },
  {
   "cell_type": "code",
   "execution_count": 5,
   "metadata": {},
   "outputs": [
    {
     "data": {
      "text/plain": [
       "[WindowsPath('J:/_Shared/experiments/E0032_luminance/v01_flashes/GC/181011_f0'),\n",
       " WindowsPath('J:/_Shared/experiments/E0032_luminance/v01_flashes/GC/181016_f0'),\n",
       " WindowsPath('J:/_Shared/experiments/E0032_luminance/v01_flashes/GC/181016_f1'),\n",
       " WindowsPath('J:/_Shared/experiments/E0032_luminance/v01_flashes/GC/181017_f0'),\n",
       " WindowsPath('J:/_Shared/experiments/E0032_luminance/v01_flashes/GC/181017_f1'),\n",
       " WindowsPath('J:/_Shared/experiments/E0032_luminance/v01_flashes/IO/181018_f0'),\n",
       " WindowsPath('J:/_Shared/experiments/E0032_luminance/v01_flashes/IO/181022_f0'),\n",
       " WindowsPath('J:/_Shared/experiments/E0032_luminance/v01_flashes/IO/181023_f0'),\n",
       " WindowsPath('J:/_Shared/experiments/E0032_luminance/v01_flashes/IO/181024_f1'),\n",
       " WindowsPath('J:/_Shared/experiments/E0032_luminance/v01_flashes/IO/181025_f0'),\n",
       " WindowsPath('J:/_Shared/experiments/E0032_luminance/v02_steps/GC/181031_f0'),\n",
       " WindowsPath('J:/_Shared/experiments/E0032_luminance/v02_steps/GC/181031_f1'),\n",
       " WindowsPath('J:/_Shared/experiments/E0032_luminance/v02_steps/GC/181101_f0'),\n",
       " WindowsPath('J:/_Shared/experiments/E0032_luminance/v02_steps/GC/181105_f0'),\n",
       " WindowsPath('J:/_Shared/experiments/E0032_luminance/v02_steps/GC/181106_f1'),\n",
       " WindowsPath('J:/_Shared/experiments/E0032_luminance/v02_steps/IO/181106_f0'),\n",
       " WindowsPath('J:/_Shared/experiments/E0032_luminance/v02_steps/IO/181114_f0'),\n",
       " WindowsPath('J:/_Shared/experiments/E0032_luminance/v02_steps/IO/181115_f1'),\n",
       " WindowsPath('J:/_Shared/experiments/E0032_luminance/v02_steps/IO/181128_f1'),\n",
       " WindowsPath('J:/_Shared/experiments/E0032_luminance/v02_steps/IO/181203_f0')]"
      ]
     },
     "execution_count": 5,
     "metadata": {},
     "output_type": "execute_result"
    }
   ],
   "source": [
    "paths"
   ]
  },
  {
   "cell_type": "code",
   "execution_count": null,
   "metadata": {
    "collapsed": true
   },
   "outputs": [],
   "source": [
    "for p in paths:\n",
    "    if len(list(p.glob(\"*im*/src\"))) == 0:\n",
    "        print(next(p.glob(\"*im*\")) / \"src\")\n",
    "        try:\n",
    "            load_2p(p, pattern=\"*im*/*mat_files*/*mat\", folder_dest=next(p.glob(\"*im*\")) / \"src\")\n",
    "        except:\n",
    "            print(\"got problems\")"
   ]
  },
  {
   "cell_type": "code",
   "execution_count": null,
   "metadata": {
    "collapsed": true
   },
   "outputs": [],
   "source": []
  },
  {
   "cell_type": "markdown",
   "metadata": {},
   "source": [
    "# Align one"
   ]
  },
  {
   "cell_type": "code",
   "execution_count": 11,
   "metadata": {
    "collapsed": true
   },
   "outputs": [],
   "source": [
    "stack = H5SplitDataset(path / \"src\")"
   ]
  },
  {
   "cell_type": "code",
   "execution_count": 12,
   "metadata": {},
   "outputs": [
    {
     "name": "stdout",
     "output_type": "stream",
     "text": [
      "calculating sobel_ref...\n",
      "registering across planes...\n",
      "Aligning individual planes...\n",
      "got problems in frames [210, 211, 212, 220, 221, 222, 223, 224, 225, 226, 244, 245, 246, 247, 248, 439, 443, 444, 448, 449, 458, 553, 589, 592, 601, 607, 614, 628, 635, 647, 650, 651, 652, 653, 654, 656, 658, 660, 661, 662, 667, 690, 730, 744, 749, 750, 752, 756, 764, 771, 772, 778, 835, 836]\n",
      "got problems in frames [144, 145, 146, 147, 148, 149, 150, 151, 152, 153, 154, 155, 156, 157, 158, 159, 160, 161, 162, 207, 208, 213, 214, 215, 279, 280, 281, 286, 287, 288, 289, 290, 291, 292, 293, 713, 1074, 1075]\n",
      "Saved /Users/luigipetrucco/Desktop/single_cells/181219_f0/aligned/0002.h5...\n",
      "Saved /Users/luigipetrucco/Desktop/single_cells/181219_f0/aligned/0001.h5...\n",
      "Saved /Users/luigipetrucco/Desktop/single_cells/181219_f0/aligned/0003.h5...\n",
      "Saved /Users/luigipetrucco/Desktop/single_cells/181219_f0/aligned/0000.h5...\n",
      "got problems in frames [122, 203, 204, 276, 277, 278, 283, 284, 285, 286, 287, 288, 289, 290, 291, 292, 293, 294, 295, 296, 297, 298, 299, 300, 301, 302, 303, 304, 305, 306, 307, 308, 309, 310, 311, 312, 313, 314, 315, 316, 317, 318, 319, 320, 321, 322, 323, 716, 717, 718, 719]\n",
      "got problems in frames [123, 125, 126, 127, 128, 277, 278, 279, 280, 281, 282, 283, 284, 286, 287, 288, 289, 290, 291, 292, 293, 294, 295, 296]\n",
      "Saved /Users/luigipetrucco/Desktop/single_cells/181219_f0/aligned/0004.h5...\n",
      "Saved /Users/luigipetrucco/Desktop/single_cells/181219_f0/aligned/0005.h5...\n",
      "CPU times: user 1.72 s, sys: 221 ms, total: 1.94 s\n",
      "Wall time: 7min 25s\n"
     ]
    }
   ],
   "source": [
    "%%time\n",
    "align_2p_volume(stack, prefilter_sigma=3.3, ref_mean_frames=10, upsample_factor=10)"
   ]
  },
  {
   "cell_type": "markdown",
   "metadata": {},
   "source": [
    "# Align multiple"
   ]
  },
  {
   "cell_type": "code",
   "execution_count": 7,
   "metadata": {
    "collapsed": true
   },
   "outputs": [],
   "source": [
    "master= path = Path(r\"J:\\_Shared\\experiments\\E0032_luminance\")"
   ]
  },
  {
   "cell_type": "code",
   "execution_count": 8,
   "metadata": {
    "collapsed": true
   },
   "outputs": [],
   "source": [
    "paths = list(path.glob(\"*/*/*f*/*im*/src\"))"
   ]
  },
  {
   "cell_type": "code",
   "execution_count": 9,
   "metadata": {},
   "outputs": [
    {
     "data": {
      "text/plain": [
       "[WindowsPath('J:/_Shared/experiments/E0032_luminance/v01_flashes/GC/181011_f0/181011_f0_gc6fef05_8dpf_im/src'),\n",
       " WindowsPath('J:/_Shared/experiments/E0032_luminance/v01_flashes/GC/181016_f0/181016_f0_gc6fef05_6dpf_im/src'),\n",
       " WindowsPath('J:/_Shared/experiments/E0032_luminance/v01_flashes/GC/181016_f1/181016_f1_gc6fef05_6dpf_im/src'),\n",
       " WindowsPath('J:/_Shared/experiments/E0032_luminance/v01_flashes/GC/181017_f0/181017_f0_gc6fef05_7dpf_im/src'),\n",
       " WindowsPath('J:/_Shared/experiments/E0032_luminance/v01_flashes/GC/181017_f1/181017_f1_gc6fef05_7dpf_im/src'),\n",
       " WindowsPath('J:/_Shared/experiments/E0032_luminance/v01_flashes/IO/181018_f0/181018_f0_io6fef05_8dpf_im/src'),\n",
       " WindowsPath('J:/_Shared/experiments/E0032_luminance/v01_flashes/IO/181022_f0/181022_f0_io6fef05_6dpf_im/src'),\n",
       " WindowsPath('J:/_Shared/experiments/E0032_luminance/v01_flashes/IO/181023_f0/181023_f0_io6fef05_7dpf_im/src'),\n",
       " WindowsPath('J:/_Shared/experiments/E0032_luminance/v01_flashes/IO/181024_f1/181024_f1_io6fef05_6dpf_im/src'),\n",
       " WindowsPath('J:/_Shared/experiments/E0032_luminance/v01_flashes/IO/181025_f0/181025_f0_io6fef05_7dpf_im/src'),\n",
       " WindowsPath('J:/_Shared/experiments/E0032_luminance/v02_steps/GC/181031_f0/181031_f0_gc6fef05_7dpf_im/src'),\n",
       " WindowsPath('J:/_Shared/experiments/E0032_luminance/v02_steps/GC/181031_f1/181031_f1_gc6fef05_7dpf_im/src'),\n",
       " WindowsPath('J:/_Shared/experiments/E0032_luminance/v02_steps/GC/181101_f0/181101_f0_gc6fef05_8dpf_im/src'),\n",
       " WindowsPath('J:/_Shared/experiments/E0032_luminance/v02_steps/GC/181105_f0/181105_f0_gc6fef05_6dpf_im/src'),\n",
       " WindowsPath('J:/_Shared/experiments/E0032_luminance/v02_steps/GC/181106_f1/181106_f1_gc6fef05_7dpf_im/src'),\n",
       " WindowsPath('J:/_Shared/experiments/E0032_luminance/v02_steps/IO/181106_f0/181106_f0_io6fef05_7dpf_im/src'),\n",
       " WindowsPath('J:/_Shared/experiments/E0032_luminance/v02_steps/IO/181114_f0/181114_f0_io6fef05_6dpf_im/src'),\n",
       " WindowsPath('J:/_Shared/experiments/E0032_luminance/v02_steps/IO/181115_f1/181115_f1_io6fef05_7dpf_im/src'),\n",
       " WindowsPath('J:/_Shared/experiments/E0032_luminance/v02_steps/IO/181128_f1/181128_f1_io6fef05_7dpf_im/src'),\n",
       " WindowsPath('J:/_Shared/experiments/E0032_luminance/v02_steps/IO/181203_f0/181203_f0_io6fef05_6dpf_im/src')]"
      ]
     },
     "execution_count": 9,
     "metadata": {},
     "output_type": "execute_result"
    }
   ],
   "source": [
    "paths"
   ]
  },
  {
   "cell_type": "code",
   "execution_count": 10,
   "metadata": {},
   "outputs": [
    {
     "name": "stdout",
     "output_type": "stream",
     "text": [
      "J:\\_Shared\\experiments\\E0032_luminance\\v01_flashes\\IO\\181018_f0\\181018_f0_io6fef05_8dpf_im\\src\n",
      "calculating sobel_ref...\n",
      "registering across planes...\n",
      "Aligning individual planes...\n",
      "J:\\_Shared\\experiments\\E0032_luminance\\v01_flashes\\IO\\181022_f0\\181022_f0_io6fef05_6dpf_im\\src\n",
      "calculating sobel_ref...\n",
      "registering across planes...\n",
      "Aligning individual planes...\n",
      "J:\\_Shared\\experiments\\E0032_luminance\\v01_flashes\\IO\\181023_f0\\181023_f0_io6fef05_7dpf_im\\src\n",
      "calculating sobel_ref...\n",
      "registering across planes...\n",
      "Aligning individual planes...\n",
      "J:\\_Shared\\experiments\\E0032_luminance\\v01_flashes\\IO\\181024_f1\\181024_f1_io6fef05_6dpf_im\\src\n",
      "calculating sobel_ref...\n",
      "registering across planes...\n",
      "Aligning individual planes...\n",
      "J:\\_Shared\\experiments\\E0032_luminance\\v01_flashes\\IO\\181025_f0\\181025_f0_io6fef05_7dpf_im\\src\n",
      "calculating sobel_ref...\n",
      "registering across planes...\n",
      "Aligning individual planes...\n",
      "J:\\_Shared\\experiments\\E0032_luminance\\v02_steps\\GC\\181031_f0\\181031_f0_gc6fef05_7dpf_im\\src\n",
      "calculating sobel_ref...\n",
      "registering across planes...\n",
      "Aligning individual planes...\n",
      "J:\\_Shared\\experiments\\E0032_luminance\\v02_steps\\GC\\181031_f1\\181031_f1_gc6fef05_7dpf_im\\src\n",
      "calculating sobel_ref...\n",
      "registering across planes...\n",
      "Aligning individual planes...\n",
      "J:\\_Shared\\experiments\\E0032_luminance\\v02_steps\\GC\\181101_f0\\181101_f0_gc6fef05_8dpf_im\\src\n",
      "calculating sobel_ref...\n",
      "registering across planes...\n",
      "Aligning individual planes...\n",
      "J:\\_Shared\\experiments\\E0032_luminance\\v02_steps\\GC\\181105_f0\\181105_f0_gc6fef05_6dpf_im\\src\n",
      "calculating sobel_ref...\n",
      "registering across planes...\n",
      "Aligning individual planes...\n",
      "J:\\_Shared\\experiments\\E0032_luminance\\v02_steps\\GC\\181106_f1\\181106_f1_gc6fef05_7dpf_im\\src\n",
      "calculating sobel_ref...\n",
      "registering across planes...\n",
      "Aligning individual planes...\n",
      "J:\\_Shared\\experiments\\E0032_luminance\\v02_steps\\IO\\181106_f0\\181106_f0_io6fef05_7dpf_im\\src\n",
      "calculating sobel_ref...\n",
      "registering across planes...\n",
      "Aligning individual planes...\n",
      "J:\\_Shared\\experiments\\E0032_luminance\\v02_steps\\IO\\181114_f0\\181114_f0_io6fef05_6dpf_im\\src\n",
      "calculating sobel_ref...\n",
      "registering across planes...\n",
      "Aligning individual planes...\n",
      "J:\\_Shared\\experiments\\E0032_luminance\\v02_steps\\IO\\181115_f1\\181115_f1_io6fef05_7dpf_im\\src\n",
      "calculating sobel_ref...\n",
      "registering across planes...\n",
      "Aligning individual planes...\n",
      "J:\\_Shared\\experiments\\E0032_luminance\\v02_steps\\IO\\181128_f1\\181128_f1_io6fef05_7dpf_im\\src\n",
      "calculating sobel_ref...\n",
      "registering across planes...\n",
      "Aligning individual planes...\n",
      "J:\\_Shared\\experiments\\E0032_luminance\\v02_steps\\IO\\181203_f0\\181203_f0_io6fef05_6dpf_im\\src\n",
      "calculating sobel_ref...\n",
      "registering across planes...\n",
      "Aligning individual planes...\n"
     ]
    }
   ],
   "source": [
    "for p in paths:\n",
    "    if not (p.parent / \"aligned\").exists():\n",
    "        print(p)\n",
    "        try:\n",
    "            align_2p_volume(H5SplitDataset(p), prefilter_sigma=3.3, ref_mean_frames=10, upsample_factor=10)\n",
    "        except:\n",
    "            print(\"got problems!\")"
   ]
  },
  {
   "cell_type": "code",
   "execution_count": null,
   "metadata": {
    "collapsed": true
   },
   "outputs": [],
   "source": [
    "f."
   ]
  }
 ],
 "metadata": {
  "kernelspec": {
   "display_name": "Python 3",
   "language": "python",
   "name": "python3"
  },
  "language_info": {
   "codemirror_mode": {
    "name": "ipython",
    "version": 3
   },
   "file_extension": ".py",
   "mimetype": "text/x-python",
   "name": "python",
   "nbconvert_exporter": "python",
   "pygments_lexer": "ipython3",
   "version": "3.6.3"
  }
 },
 "nbformat": 4,
 "nbformat_minor": 2
}
