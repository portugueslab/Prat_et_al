{
 "cells": [
  {
   "cell_type": "code",
   "execution_count": null,
   "metadata": {},
   "outputs": [],
   "source": [
    "%load_ext autoreload\n",
    "%autoreload 1\n",
    "%matplotlib widget"
   ]
  },
  {
   "cell_type": "code",
   "execution_count": null,
   "metadata": {},
   "outputs": [],
   "source": [
    "import flammkuchen as fl\n",
    "from numba import jit\n",
    "import numpy as np\n",
    "import matplotlib.pyplot as plt\n",
    "# plt.style.use(\"v_paper\")\n",
    "plt.style.use(\"figures.mplstyle\")\n",
    "import cmocean as cmo\n",
    "from pathlib import Path\n",
    "import os\n",
    "\n",
    "from sklearn.linear_model import Ridge, LogisticRegression\n",
    "from sklearn.svm import SVC, SVR\n",
    "from sklearn.model_selection import GridSearchCV"
   ]
  },
  {
   "cell_type": "code",
   "execution_count": null,
   "metadata": {},
   "outputs": [],
   "source": [
    "import pandas as pd"
   ]
  },
  {
   "cell_type": "code",
   "execution_count": null,
   "metadata": {},
   "outputs": [],
   "source": [
    "full_dict = fl.load(r\"\\\\FUNES\\Shared\\experiments\\E0032_luminance\\neat_exps\\data_dict4decoding_complete.h5\")"
   ]
  },
  {
   "cell_type": "code",
   "execution_count": null,
   "metadata": {},
   "outputs": [],
   "source": [
    "%aimport decoding"
   ]
  },
  {
   "cell_type": "code",
   "execution_count": null,
   "metadata": {},
   "outputs": [],
   "source": [
    "from decoding import confmat, get_population, decode_from_population\n",
    "from stim_encoding import time_since_flash, get_valid_periods_steps"
   ]
  },
  {
   "cell_type": "code",
   "execution_count": null,
   "metadata": {},
   "outputs": [],
   "source": [
    "fig_fold = Path(r\"C:\\Users\\otprat\\Documents\\figures\\luminance\\manuscript_figures\\decoding\")\n",
    "\n",
    "if not os.path.isdir(fig_fold):\n",
    "    os.mkdir(fig_fold)"
   ]
  },
  {
   "cell_type": "markdown",
   "metadata": {},
   "source": [
    "# Flashes protocol"
   ]
  },
  {
   "cell_type": "code",
   "execution_count": null,
   "metadata": {},
   "outputs": [],
   "source": [
    "t_flashes    = full_dict[\"flashes_img_time\"][:, 0]\n",
    "stim_flashes = full_dict[\"flashes_img_time\"][:, 1]"
   ]
  },
  {
   "cell_type": "code",
   "execution_count": null,
   "metadata": {},
   "outputs": [],
   "source": [
    "plt.figure()\n",
    "plt.plot(t_flashes, stim_flashes);"
   ]
  },
  {
   "cell_type": "markdown",
   "metadata": {},
   "source": [
    "We will try to answer the following:\n",
    "\n",
    "Is there a linearly-separable representation\n",
    "* of time since stimulus onset\n",
    "* of certain time windows"
   ]
  },
  {
   "cell_type": "markdown",
   "metadata": {},
   "source": [
    "## Generate data to decode"
   ]
  },
  {
   "cell_type": "code",
   "execution_count": null,
   "metadata": {},
   "outputs": [],
   "source": [
    "stim_since = time_since_flash(stim_flashes, dt=t_flashes[1]-t_flashes[0])"
   ]
  },
  {
   "cell_type": "code",
   "execution_count": null,
   "metadata": {},
   "outputs": [],
   "source": [
    "plt.figure()\n",
    "plt.plot(t_flashes, stim_since);"
   ]
  },
  {
   "cell_type": "code",
   "execution_count": null,
   "metadata": {},
   "outputs": [],
   "source": [
    "valid_periods = np.logical_not(np.isnan(stim_since))\n",
    "\n",
    "stim_cut = stim_since[valid_periods]\n",
    "t_cut = t_flashes[valid_periods]\n",
    "\n",
    "n_t_decode = len(t_cut)"
   ]
  },
  {
   "cell_type": "markdown",
   "metadata": {},
   "source": [
    "## Generate populations"
   ]
  },
  {
   "cell_type": "markdown",
   "metadata": {},
   "source": [
    "Select a subpopulation which has more than 6 repeats"
   ]
  },
  {
   "cell_type": "code",
   "execution_count": null,
   "metadata": {},
   "outputs": [],
   "source": [
    "n_rep = 12\n",
    "n_pop = 26 # Number of IO cells"
   ]
  },
  {
   "cell_type": "markdown",
   "metadata": {},
   "source": [
    "Cut the data so only the valid flash periods are taken into account"
   ]
  },
  {
   "cell_type": "markdown",
   "metadata": {},
   "source": [
    "Run the decoding on many samples of GC population"
   ]
  },
  {
   "cell_type": "code",
   "execution_count": null,
   "metadata": {},
   "outputs": [],
   "source": [
    "from tqdm import tqdm"
   ]
  },
  {
   "cell_type": "code",
   "execution_count": null,
   "metadata": {},
   "outputs": [],
   "source": [
    "n_samples = 200"
   ]
  },
  {
   "cell_type": "code",
   "execution_count": null,
   "metadata": {},
   "outputs": [],
   "source": [
    "n_test = 2"
   ]
  },
  {
   "cell_type": "code",
   "execution_count": null,
   "metadata": {},
   "outputs": [],
   "source": [
    "traces = get_population(full_dict, \"GC\", \"flashes\")"
   ]
  },
  {
   "cell_type": "code",
   "execution_count": null,
   "metadata": {},
   "outputs": [],
   "source": [
    "predictions = []\n",
    "best_params = []\n",
    "for i in tqdm(range(n_samples)):\n",
    "    sel_cells_subset = np.random.choice(traces.shape[0], n_pop, replace=False)\n",
    "    population  = traces[sel_cells_subset, :, 0:n_rep]\n",
    "    population = population[:, valid_periods, :]\n",
    "    model, pred = decoding.decode_from_population(population, stim_cut, 2)\n",
    "    predictions.append(pred)\n",
    "    best_params.append(model.best_params_[\"alpha\"])"
   ]
  },
  {
   "cell_type": "code",
   "execution_count": null,
   "metadata": {},
   "outputs": [],
   "source": [
    "outputs_gt = np.tile(stim_cut, n_test)"
   ]
  },
  {
   "cell_type": "code",
   "execution_count": null,
   "metadata": {},
   "outputs": [],
   "source": [
    "preds = np.stack(predictions)\n",
    "preds = np.concatenate([preds[:,:n_t_decode], preds[:,n_t_decode:]], 0)"
   ]
  },
  {
   "cell_type": "code",
   "execution_count": null,
   "metadata": {},
   "outputs": [],
   "source": [
    "mnc = np.mean(stim_cut)"
   ]
  },
  {
   "cell_type": "code",
   "execution_count": null,
   "metadata": {},
   "outputs": [],
   "source": [
    "GC_subset_rsq = 1 - np.sum((preds - stim_cut[None, :])**2,1)/(np.sum((stim_cut-mnc)**2))"
   ]
  },
  {
   "cell_type": "code",
   "execution_count": null,
   "metadata": {},
   "outputs": [],
   "source": [
    "out_order = np.argsort(stim_cut)\n",
    "out_xtime = stim_cut[out_order]"
   ]
  },
  {
   "cell_type": "markdown",
   "metadata": {},
   "source": [
    "Sort out the data so that the same times are not calculated twice"
   ]
  },
  {
   "cell_type": "code",
   "execution_count": null,
   "metadata": {},
   "outputs": [],
   "source": [
    "stim_cut_slices = [(0, 21), (21, 50), (50, 135)]\n",
    "n_sl = len(stim_cut_slices)"
   ]
  },
  {
   "cell_type": "code",
   "execution_count": null,
   "metadata": {},
   "outputs": [],
   "source": [
    "full_pred = np.full((n_sl*preds.shape[0], stim_cut_slices[2][1]-stim_cut_slices[2][0]), np.nan)"
   ]
  },
  {
   "cell_type": "code",
   "execution_count": null,
   "metadata": {},
   "outputs": [],
   "source": [
    "for i_sl, (left, right) in enumerate(stim_cut_slices):\n",
    "    full_pred[i_sl*n_samples*n_test:(i_sl+1)*n_samples*n_test,:right-left] = preds[:, left:right]"
   ]
  },
  {
   "cell_type": "code",
   "execution_count": null,
   "metadata": {},
   "outputs": [],
   "source": [
    "time_long = stim_cut[stim_cut_slices[2][0]: stim_cut_slices[2][1]]"
   ]
  },
  {
   "cell_type": "code",
   "execution_count": null,
   "metadata": {},
   "outputs": [],
   "source": [
    "pred_mn = np.nanmean(full_pred, 0)\n",
    "pred_sd = np.nanstd(full_pred, 0)"
   ]
  },
  {
   "cell_type": "markdown",
   "metadata": {},
   "source": [
    "## IO"
   ]
  },
  {
   "cell_type": "code",
   "execution_count": null,
   "metadata": {},
   "outputs": [],
   "source": [
    "cell_type = \"IO\"\n",
    "\n",
    "traces = full_dict[\"{}_flashes\".format(cell_type)][\"clean_traces\"]\n",
    "\n",
    "n_valid_traces = np.sum(np.logical_not(np.all(np.isnan(traces), axis=1)), axis=1)"
   ]
  },
  {
   "cell_type": "code",
   "execution_count": null,
   "metadata": {},
   "outputs": [],
   "source": [
    "n_rep = 12\n",
    "\n",
    "sel_cells = np.where(n_valid_traces >= n_rep)[0]\n",
    "\n",
    "n_pop = 26 # Number of IO cells\n",
    "\n",
    "population  = traces[sel_cells, :, 0:n_rep]\n",
    "population = population[:, valid_periods, :]"
   ]
  },
  {
   "cell_type": "code",
   "execution_count": null,
   "metadata": {},
   "outputs": [],
   "source": [
    "model_IO, pred_IO = decoding.decode_from_population(population, stim_cut, 2)"
   ]
  },
  {
   "cell_type": "code",
   "execution_count": null,
   "metadata": {},
   "outputs": [],
   "source": [
    "time_IO = np.tile(stim_cut, 2)"
   ]
  },
  {
   "cell_type": "code",
   "execution_count": null,
   "metadata": {},
   "outputs": [],
   "source": [
    "IO_rsq = 1 - np.sum((pred_IO - time_IO)**2)/(np.sum((time_IO-np.mean(time_IO))**2))"
   ]
  },
  {
   "cell_type": "code",
   "execution_count": null,
   "metadata": {},
   "outputs": [],
   "source": [
    "duration_decoding_dict = {\n",
    "    \"GC\": {'time':time_long,\n",
    "           'full_pred': full_pred,\n",
    "           'preds': preds,\n",
    "           'rsquared': GC_subset_rsq\n",
    "          },\n",
    "    \"IO\":{'time':time_IO,\n",
    "          'preds': pred_IO,\n",
    "          'rsquared': IO_rsq\n",
    "         }\n",
    "}\n",
    "fl.save('duration_decoding.h5', duration_decoding_dict)"
   ]
  },
  {
   "cell_type": "code",
   "execution_count": null,
   "metadata": {},
   "outputs": [],
   "source": [
    "fig, ax = plt.subplots()\n",
    "ax.fill_between(time_long, pred_mn-pred_sd, pred_mn+pred_sd, color=(0.1,0.1,0.1,0.07), linewidth=0)\n",
    "ax.plot(time_long, pred_mn, label=\"GC, average of 26 random cell selections\")\n",
    "ax.scatter(time_IO, np.concatenate([preds[0], preds[1]]), color=(0.4,0.4,0.4), s=1.0, label=\"GC, 26 cells\")\n",
    "ax.scatter(time_IO, pred_IO, color=(0.9,0.3,0.1), s=1.5, label=\"IO, 26 cells\")\n",
    "\n",
    "ax.plot(time_long, time_long, color=(0.3, 0.3, 0.3,0.7))\n",
    "ax.set_xlabel(\"actual time since flash onset\")\n",
    "ax.set_ylabel(\"prediceted time since flash onset\")\n",
    "ax.set_aspect(1)\n",
    "ax.legend()"
   ]
  },
  {
   "cell_type": "code",
   "execution_count": null,
   "metadata": {},
   "outputs": [],
   "source": [
    "fig.savefig(fig_fold/\"time_decoding.pdf\")"
   ]
  },
  {
   "cell_type": "code",
   "execution_count": null,
   "metadata": {},
   "outputs": [],
   "source": [
    "plt.figure()\n",
    "plt.hist(GC_subset_rsq, bins=20, label=\"GC 26 cells R squared distribution\")\n",
    "plt.axvline(IO_rsq, color=(0.9,0.3,0.1), label=\"IO R squared\")\n",
    "plt.xlabel(\"R squared\")\n",
    "plt.legend()"
   ]
  },
  {
   "cell_type": "code",
   "execution_count": null,
   "metadata": {},
   "outputs": [],
   "source": [
    "IO_rsq"
   ]
  },
  {
   "cell_type": "markdown",
   "metadata": {},
   "source": [
    "## Now, trying to classify time bins"
   ]
  },
  {
   "cell_type": "code",
   "execution_count": null,
   "metadata": {},
   "outputs": [],
   "source": [
    "n_time_bins = 7"
   ]
  },
  {
   "cell_type": "code",
   "execution_count": null,
   "metadata": {},
   "outputs": [],
   "source": [
    "bin_boundaries = np.linspace(0, 21, num=n_time_bins+1)\n",
    "bin_ids = np.digitize(stim_cut, bin_boundaries)-1"
   ]
  },
  {
   "cell_type": "markdown",
   "metadata": {},
   "source": [
    "### On all GCs"
   ]
  },
  {
   "cell_type": "code",
   "execution_count": null,
   "metadata": {},
   "outputs": [],
   "source": [
    "n_test = 2"
   ]
  },
  {
   "cell_type": "code",
   "execution_count": null,
   "metadata": {},
   "outputs": [],
   "source": [
    "cell_type = \"GC\"\n",
    "\n",
    "traces = full_dict[\"{}_flashes\".format(cell_type)][\"clean_traces\"]\n",
    "\n",
    "n_valid_traces = np.sum(np.logical_not(np.all(np.isnan(traces), axis=1)), axis=1)\n",
    "\n",
    "n_rep = 12\n",
    "\n",
    "sel_cells = np.where(n_valid_traces >= n_rep)[0]\n",
    "\n",
    "n_pop = len(sel_cells)\n",
    "\n",
    "population = traces[sel_cells, :, 0:n_rep]\n",
    "population = population[:, valid_periods, :]"
   ]
  },
  {
   "cell_type": "markdown",
   "metadata": {},
   "source": [
    "### One vs all"
   ]
  },
  {
   "cell_type": "code",
   "execution_count": null,
   "metadata": {},
   "outputs": [],
   "source": [
    "bin_probabilities = []\n",
    "for i_bin in range(n_time_bins):\n",
    "    mod_bins_allgc, pred_bins_allgc = \\\n",
    "            decoding.decode_from_population(population,\n",
    "                                            bin_ids==i_bin, n_test,\n",
    "                                            model=LogisticRegression(class_weight=\"balanced\",\n",
    "                                                                     solver=\"liblinear\",\n",
    "                                                                     multi_class=\"ovr\"),\n",
    "                                            hyperparams=dict(C=10.0 ** np.arange(-4, 2)),\n",
    "                                            probabilities=True)\n",
    "    bin_probabilities.append(pred_bins_allgc)"
   ]
  },
  {
   "cell_type": "code",
   "execution_count": null,
   "metadata": {},
   "outputs": [],
   "source": [
    "accs = []\n",
    "n_tot = len(bin_ids)*n_test\n",
    "for i_bin in range(n_time_bins):\n",
    "    positive = np.tile(bin_ids == i_bin, n_test)\n",
    "    correct_preds = positive == (bin_probabilities[i_bin][:,1] > 0.5)    \n",
    "    correct_pos = np.sum(correct_preds[positive])/np.sum(positive)\n",
    "    correct_neg = np.sum(correct_preds[~positive])/np.sum(~positive)\n",
    "    accs.append((correct_pos,correct_neg))"
   ]
  },
  {
   "cell_type": "code",
   "execution_count": null,
   "metadata": {},
   "outputs": [],
   "source": [
    "plt.figure()\n",
    "plt.plot(np.array(accs))"
   ]
  },
  {
   "cell_type": "markdown",
   "metadata": {},
   "source": [
    "## Decode any"
   ]
  },
  {
   "cell_type": "code",
   "execution_count": null,
   "metadata": {},
   "outputs": [],
   "source": [
    "mod_bins_simult_allgc, pred_bins_simult_allgc = \\\n",
    "    decoding.decode_from_population(population,\n",
    "                                            bin_ids, n_test,\n",
    "                                            model=LogisticRegression(class_weight=\"balanced\",\n",
    "                                                                     solver=\"liblinear\",\n",
    "                                                                     multi_class=\"ovr\"),\n",
    "                                            hyperparams=dict(C=10.0 ** np.arange(-4, 2)),\n",
    "                                   probabilities=True)"
   ]
  },
  {
   "cell_type": "code",
   "execution_count": null,
   "metadata": {},
   "outputs": [],
   "source": [
    "confusion_mat = confmat(pred_bins_simult_allgc, np.tile(bin_ids, n_test))"
   ]
  },
  {
   "cell_type": "code",
   "execution_count": null,
   "metadata": {},
   "outputs": [],
   "source": [
    "fig, ax = plt.subplots()\n",
    "im = ax.imshow(confusion_mat, cmap=cmo.cm.tempo, extent=[bin_boundaries[0], bin_boundaries[-1], bin_boundaries[-1], bin_boundaries[0]])\n",
    "ax.set_xticks(bin_boundaries)\n",
    "ax.set_yticks(bin_boundaries)\n",
    "ax.set_ylabel(\"Actual time bin\")\n",
    "ax.set_xlabel(\"Predicted time bin\")\n",
    "bar = fig.colorbar(im)\n",
    "ax.spines[\"bottom\"].set_visible(False)\n",
    "ax.spines[\"left\"].set_visible(False)\n",
    "bar.set_label(\"Probability\")"
   ]
  },
  {
   "cell_type": "code",
   "execution_count": null,
   "metadata": {},
   "outputs": [],
   "source": []
  },
  {
   "cell_type": "code",
   "execution_count": null,
   "metadata": {},
   "outputs": [],
   "source": []
  },
  {
   "cell_type": "code",
   "execution_count": null,
   "metadata": {},
   "outputs": [],
   "source": []
  },
  {
   "cell_type": "code",
   "execution_count": null,
   "metadata": {},
   "outputs": [],
   "source": []
  },
  {
   "cell_type": "code",
   "execution_count": null,
   "metadata": {},
   "outputs": [],
   "source": []
  },
  {
   "cell_type": "code",
   "execution_count": null,
   "metadata": {},
   "outputs": [],
   "source": []
  },
  {
   "cell_type": "markdown",
   "metadata": {},
   "source": [
    "# Decoding luminance"
   ]
  },
  {
   "cell_type": "code",
   "execution_count": null,
   "metadata": {},
   "outputs": [],
   "source": [
    "t_steps    = full_dict[\"steps_img_time\"][:, 0]\n",
    "stim_steps = full_dict[\"steps_img_time\"][:, 1]"
   ]
  },
  {
   "cell_type": "code",
   "execution_count": null,
   "metadata": {},
   "outputs": [],
   "source": [
    "plt.figure()\n",
    "plt.plot(t_steps, stim_steps)"
   ]
  },
  {
   "cell_type": "code",
   "execution_count": null,
   "metadata": {},
   "outputs": [],
   "source": [
    "valid_periods = get_valid_periods_steps(stim_steps).astype(np.bool)\n",
    "\n",
    "steps_cut = stim_steps[valid_periods]\n",
    "t_steps_cut = t_steps[valid_periods]\n",
    "\n",
    "n_t_decode = len(t_steps_cut)"
   ]
  },
  {
   "cell_type": "markdown",
   "metadata": {},
   "source": [
    "## Decoding absoulute luminance"
   ]
  },
  {
   "cell_type": "markdown",
   "metadata": {},
   "source": [
    "### IO"
   ]
  },
  {
   "cell_type": "code",
   "execution_count": null,
   "metadata": {},
   "outputs": [],
   "source": [
    "from sklearn.svm import SVR\n",
    "import seaborn as sns"
   ]
  },
  {
   "cell_type": "code",
   "execution_count": null,
   "metadata": {},
   "outputs": [],
   "source": [
    "lum_levels = np.sort(np.unique(steps_cut))"
   ]
  },
  {
   "cell_type": "code",
   "execution_count": null,
   "metadata": {},
   "outputs": [],
   "source": [
    "pop = get_population(full_dict, cell_type=\"IO\", protocol=\"steps\")[:, valid_periods, :]"
   ]
  },
  {
   "cell_type": "code",
   "execution_count": null,
   "metadata": {},
   "outputs": [],
   "source": [
    "# lum_model_lin, pred_lin = decoding.decode_from_population(pop, steps_cut)\n",
    "# lum_model_svm, pred_lum_svm = decoding.decode_from_population(pop, steps_cut, model=SVR(), hyperparams=dict(C=10.0**np.arange(-4,4)))\n",
    "# pred_data = pd.DataFrame(dict(lum_true=np.tile(steps_cut, n_test), lum_lin=pred_lin,  lum_svm=pred_lum_svm))\n",
    "# fl.save(\"abs_lum_decoding_results_IO_final.h5\", pred_data, compression=\"blosc\")\n",
    "\n",
    "pred_data = fl.load(\"abs_lum_decoding_results_IO_final.h5\")"
   ]
  },
  {
   "cell_type": "code",
   "execution_count": null,
   "metadata": {},
   "outputs": [],
   "source": [
    "fig, axes = plt.subplots(1, 2)\n",
    "for pred, ax in zip([\"lin\", \"svm\"], axes):\n",
    "    sns.swarmplot(x=pred_data.lum_true, y=pred_data[\"lum_\"+pred], s=2, ax=ax, color=sns.color_palette()[1])\n",
    "    ax.hlines(lum_levels, np.arange(-0.4, 3.6, 1), np.arange(0.4, 3.5, 1), lw=1, color=(0.4, 0.4, 0.4))\n",
    "    ax.set_title(\"Predictions of absolute luminance, \"+pred)"
   ]
  },
  {
   "cell_type": "markdown",
   "metadata": {},
   "source": [
    "### GC"
   ]
  },
  {
   "cell_type": "code",
   "execution_count": null,
   "metadata": {},
   "outputs": [],
   "source": [
    "pop = get_population(full_dict, cell_type=\"GC\", protocol=\"steps\")[:, valid_periods, :]"
   ]
  },
  {
   "cell_type": "code",
   "execution_count": null,
   "metadata": {},
   "outputs": [],
   "source": [
    "# lum_model_lin, pred_lin = decoding.decode_from_population(pop, steps_cut)\n",
    "# lum_model_svm, pred_lum_svm = decoding.decode_from_population(pop, steps_cut, model=SVR(), hyperparams=dict(C=10.0**np.arange(-4,4)))\n",
    "# pred_data = pd.DataFrame(dict(lum_true=np.tile(steps_cut, n_test), lum_lin=pred_lin,  lum_svm=pred_lum_svm))\n",
    "# fl.save(\"abs_lum_decoding_results_GC_final.h5\", pred_data, compression=\"blosc\")\n",
    "\n",
    "pred_data = fl.load(\"abs_lum_decoding_results_GC_final.h5\")"
   ]
  },
  {
   "cell_type": "code",
   "execution_count": null,
   "metadata": {},
   "outputs": [],
   "source": [
    "fig, axes = plt.subplots(1, 2)\n",
    "for pred, ax in zip([\"lin\", \"svm\"], axes):\n",
    "    sns.swarmplot(x=pred_data.lum_true, y=pred_data[\"lum_\"+pred], s=2, ax=ax, color=sns.color_palette()[0])\n",
    "    ax.hlines(lum_levels, np.arange(-0.4, 3.6, 1), np.arange(0.4, 3.5, 1), lw=1, color=(0.4, 0.4, 0.4))\n",
    "    ax.set_title(\"Predictions of absolute luminance, \"+pred)"
   ]
  },
  {
   "cell_type": "markdown",
   "metadata": {},
   "source": [
    "#### and GC subsampled"
   ]
  },
  {
   "cell_type": "code",
   "execution_count": null,
   "metadata": {},
   "outputs": [],
   "source": [
    "n_incl_GCs = get_population(full_dict, cell_type=\"IO\", protocol=\"steps\")[:, valid_periods, :].shape[0]\n",
    "n_incl_GCs"
   ]
  },
  {
   "cell_type": "code",
   "execution_count": null,
   "metadata": {},
   "outputs": [],
   "source": [
    "pred_data = []\n",
    "n_iters = 20\n",
    "\n",
    "# for i in tqdm(range(n_iters)):\n",
    "#     pop = get_population(full_dict, cell_type=\"GC\", protocol=\"steps\", max_rois_incl=n_incl_GCs)[:, valid_periods, :]\n",
    "#     lum_model_lin, pred_lin = decoding.decode_from_population(pop, steps_cut)\n",
    "#     lum_model_svm, pred_lum_svm = decoding.decode_from_population(pop, steps_cut, model=SVR(), hyperparams=dict(C=10.0**np.arange(-4,4)))\n",
    "#     pred_data.append(pd.DataFrame(dict(lum_true=np.tile(steps_cut, n_test), lum_lin=pred_lin,  lum_svm=pred_lum_svm)))\n",
    "    \n",
    "# fl.save(\"abs_lum_decoding_results_GCsubsampled_final.h5\", pred_data, compression=\"blosc\")\n",
    "\n",
    "pred_data = fl.load(\"abs_lum_decoding_results_GCsubsampled_final.h5\")"
   ]
  },
  {
   "cell_type": "code",
   "execution_count": null,
   "metadata": {},
   "outputs": [],
   "source": [
    "plot_iter = 5\n",
    "\n",
    "fig, axes = plt.subplots(1, 2)\n",
    "for pred, ax in zip([\"lin\", \"svm\"], axes):\n",
    "    sns.swarmplot(x=pred_data[plot_iter].lum_true, y=pred_data[plot_iter][\"lum_\"+pred], s=2, ax=ax, color=sns.color_palette()[0])\n",
    "    ax.hlines(lum_levels, np.arange(-0.4, 3.6, 1), np.arange(0.4, 3.5, 1), lw=1, color=(0.4, 0.4, 0.4))\n",
    "    ax.set_title(\"Predictions of absolute luminance, \"+pred)"
   ]
  },
  {
   "cell_type": "code",
   "execution_count": null,
   "metadata": {},
   "outputs": [],
   "source": []
  },
  {
   "cell_type": "code",
   "execution_count": null,
   "metadata": {},
   "outputs": [],
   "source": []
  },
  {
   "cell_type": "code",
   "execution_count": null,
   "metadata": {},
   "outputs": [],
   "source": []
  },
  {
   "cell_type": "code",
   "execution_count": null,
   "metadata": {},
   "outputs": [],
   "source": []
  },
  {
   "cell_type": "markdown",
   "metadata": {},
   "source": [
    "## Transition finding"
   ]
  },
  {
   "cell_type": "code",
   "execution_count": null,
   "metadata": {},
   "outputs": [],
   "source": [
    "from collections import namedtuple\n",
    "from itertools import product, starmap\n",
    "\n",
    "def named_product(**items):\n",
    "    Product = namedtuple(\"Product\", items.keys())\n",
    "    return starmap(Product, product(*items.values()))"
   ]
  },
  {
   "cell_type": "code",
   "execution_count": null,
   "metadata": {},
   "outputs": [],
   "source": [
    "transition_cont = np.r_[0, np.diff(stim_steps)]\n",
    "transition_cont = np.convolve(transition_cont, [1, 1, 1 ,1], mode=\"same\")\n",
    "transition_cont = np.digitize(transition_cont, [-1.1, -0.3, -0.1, -0.001, 0.001, 0.1, 0.3, 1.1])-1"
   ]
  },
  {
   "cell_type": "code",
   "execution_count": null,
   "metadata": {},
   "outputs": [],
   "source": [
    "def prepare_stim(s, n_convolve=4):\n",
    "    for i in range(1, n_convolve):\n",
    "        s = np.logical_or(s, np.r_[0, s[:-1]])\n",
    "    return s"
   ]
  },
  {
   "cell_type": "code",
   "execution_count": null,
   "metadata": {},
   "outputs": [],
   "source": [
    "all_options = dict(features = dict(\n",
    "    updown=prepare_stim(np.abs(np.r_[0, np.diff(stim_steps)])>0.01),\n",
    "    up=prepare_stim(np.r_[0, np.diff(stim_steps)]>0.01),\n",
    "    down=prepare_stim(np.r_[0, np.diff(stim_steps)]<-0.01),\n",
    "    category=transition_cont\n",
    "),\n",
    "population = dict(GC=get_population(full_dict, \"GC\", \"steps\"),\n",
    "                   IO=get_population(full_dict, \"IO\", \"steps\")),\n",
    "decoder = dict(svm=SVC(gamma=\"auto\", probability=True),\n",
    "                linear=LogisticRegression(class_weight=\"balanced\", solver=\"liblinear\", multi_class=\"ovr\")))"
   ]
  },
  {
   "cell_type": "code",
   "execution_count": null,
   "metadata": {},
   "outputs": [],
   "source": [
    "fl.save(\"all_options.h5\", all_options)"
   ]
  },
  {
   "cell_type": "code",
   "execution_count": null,
   "metadata": {},
   "outputs": [],
   "source": [
    "option_it = named_product(**all_options)"
   ]
  },
  {
   "cell_type": "code",
   "execution_count": null,
   "metadata": {},
   "outputs": [],
   "source": [
    "def get_fit(opt):\n",
    "    luminance_transitions = all_options[\"features\"][opt.features]\n",
    "    print(opt)\n",
    "    mod, pred  = \\\n",
    "            decoding.decode_from_population(all_options[\"population\"][opt.population], luminance_transitions, n_test,\n",
    "                                            model=all_options[\"decoder\"][opt.decoder],\n",
    "                                            hyperparams=dict(C=10.0 ** np.arange(-4, 4)), probabilities=True)\n",
    "    return pred"
   ]
  },
  {
   "cell_type": "code",
   "execution_count": null,
   "metadata": {},
   "outputs": [],
   "source": [
    "from joblib import Parallel, delayed"
   ]
  },
  {
   "cell_type": "code",
   "execution_count": null,
   "metadata": {},
   "outputs": [],
   "source": [
    "# results = Parallel(n_jobs=20, backend=\"threading\")(delayed(get_fit)(opt) for opt in option_it)\n",
    "# fl.save(\"transition_results.h5\", results, compression=\"blosc\")\n",
    "results = fl.load(\"transition_results.h5\")"
   ]
  },
  {
   "cell_type": "code",
   "execution_count": null,
   "metadata": {},
   "outputs": [],
   "source": [
    "option_list = list(named_product(**all_options))"
   ]
  },
  {
   "cell_type": "code",
   "execution_count": null,
   "metadata": {},
   "outputs": [],
   "source": [
    "for opt in option_list:\n",
    "    print(opt)"
   ]
  },
  {
   "cell_type": "code",
   "execution_count": null,
   "metadata": {},
   "outputs": [],
   "source": [
    "for i_item in range(12,16):\n",
    "    copt = option_list[i_item]\n",
    "\n",
    "    confusion_mat_t = confmat(results[i_item],\n",
    "                              np.tile(all_options[\"features\"][copt.features], n_test))\n",
    "    plt.figure()\n",
    "    plt.imshow(confusion_mat_t, cmap=cmo.cm.tempo)\n",
    "    plt.colorbar()\n",
    "    plt.title(\"transition {} decoded from {} with a {} decoder\".format(copt.features, copt.population, copt.decoder))"
   ]
  },
  {
   "cell_type": "code",
   "execution_count": null,
   "metadata": {},
   "outputs": [],
   "source": []
  },
  {
   "cell_type": "code",
   "execution_count": null,
   "metadata": {},
   "outputs": [],
   "source": []
  },
  {
   "cell_type": "code",
   "execution_count": null,
   "metadata": {},
   "outputs": [],
   "source": []
  },
  {
   "cell_type": "markdown",
   "metadata": {},
   "source": [
    "### Trying to replicate plots"
   ]
  },
  {
   "cell_type": "code",
   "execution_count": null,
   "metadata": {},
   "outputs": [],
   "source": [
    "def plot_confmat(confusion_mat):\n",
    "\n",
    "    plt.figure()\n",
    "    plt.imshow(confusion_mat, cmap=cmo.cm.tempo, origin='lower')\n",
    "    plt.colorbar()\n",
    "    plt.title(\"transition {} decoded from {} with a {} decoder\".format(copt.features, copt.population, copt.decoder))\n",
    "    plt.xlabel('Predicted transition')\n",
    "    plt.ylabel('Actual transition')"
   ]
  },
  {
   "cell_type": "code",
   "execution_count": null,
   "metadata": {},
   "outputs": [],
   "source": [
    "def get_fit(opt):\n",
    "    luminance_transitions = all_options[\"features\"][opt.features]\n",
    "    print(opt)\n",
    "    mod, pred  = \\\n",
    "            decoding.decode_from_population(all_options[\"population\"][opt.population], luminance_transitions, n_test,\n",
    "                                            model=all_options[\"decoder\"][opt.decoder],\n",
    "                                            hyperparams=dict(C=10.0 ** np.arange(-4, 4)), probabilities=True)\n",
    "    return pred"
   ]
  },
  {
   "cell_type": "markdown",
   "metadata": {},
   "source": [
    "### Run IO decoding"
   ]
  },
  {
   "cell_type": "code",
   "execution_count": null,
   "metadata": {},
   "outputs": [],
   "source": [
    "all_options = dict(features = dict(\n",
    "    category=transition_cont\n",
    "),\n",
    "population = dict(IO=get_population(full_dict, \"IO\", \"steps\")\n",
    "                   ),\n",
    "decoder = dict(svm=SVC(gamma=\"auto\", probability=True),\n",
    "                ))"
   ]
  },
  {
   "cell_type": "code",
   "execution_count": null,
   "metadata": {},
   "outputs": [],
   "source": [
    "option_it = named_product(**all_options)"
   ]
  },
  {
   "cell_type": "code",
   "execution_count": null,
   "metadata": {},
   "outputs": [],
   "source": [
    "# results = Parallel(n_jobs=20, backend=\"threading\")(delayed(get_fit)(opt) for opt in option_it)\n",
    "# fl.save(\"transition_results_IO_final.h5\", results, compression=\"blosc\")\n",
    "\n",
    "results = fl.load(\"transition_results_IO_final.h5\")"
   ]
  },
  {
   "cell_type": "code",
   "execution_count": null,
   "metadata": {},
   "outputs": [],
   "source": [
    "option_it = list(named_product(**all_options))\n",
    "\n",
    "copt = option_it[0]\n",
    "confusion_mat_t = confmat(results[0], np.tile(all_options[\"features\"][copt.features], n_test))"
   ]
  },
  {
   "cell_type": "code",
   "execution_count": null,
   "metadata": {},
   "outputs": [],
   "source": [
    "plot_confmat(confusion_mat_t)"
   ]
  },
  {
   "cell_type": "markdown",
   "metadata": {},
   "source": [
    "### Run GC decoding"
   ]
  },
  {
   "cell_type": "code",
   "execution_count": null,
   "metadata": {},
   "outputs": [],
   "source": [
    "n_incl_GCs = get_population(full_dict, \"IO\", \"steps\").shape[0]\n",
    "n_incl_GCs"
   ]
  },
  {
   "cell_type": "code",
   "execution_count": null,
   "metadata": {},
   "outputs": [],
   "source": [
    "#Make options dict\n",
    "all_options = dict(features = dict(\n",
    "    category=transition_cont\n",
    "),\n",
    "population = dict(GC=get_population(full_dict, \"GC\", \"steps\", max_rois_incl=n_incl_GCs)\n",
    "                   ),\n",
    "decoder = dict(svm=SVC(gamma=\"auto\", probability=True),\n",
    "                ))\n"
   ]
  },
  {
   "cell_type": "code",
   "execution_count": null,
   "metadata": {},
   "outputs": [],
   "source": [
    "# n_iters = 20\n",
    "# results = []\n",
    "\n",
    "# for i in tqdm(range(n_iters)):\n",
    "    \n",
    "#     #Make options dict\n",
    "#     all_options = dict(features = dict(\n",
    "#         category=transition_cont\n",
    "#     ),\n",
    "#     population = dict(GC=get_population(full_dict, \"GC\", \"steps\", max_rois_incl=n_incl_GCs)\n",
    "#                        ),\n",
    "#     decoder = dict(svm=SVC(gamma=\"auto\", probability=True),\n",
    "#                     ))\n",
    "    \n",
    "#     #Make iterator\n",
    "#     option_it = named_product(**all_options)\n",
    "    \n",
    "#     #Decoding\n",
    "#     results.append(Parallel(n_jobs=20, backend=\"threading\")(delayed(get_fit)(opt) for opt in option_it))\n",
    "\n",
    "# fl.save(\"transition_results_GC_final.h5\", results, compression=\"blosc\")\n",
    "\n",
    "results = fl.load(\"transition_results_GC_final.h5\")"
   ]
  },
  {
   "cell_type": "code",
   "execution_count": null,
   "metadata": {},
   "outputs": [],
   "source": [
    "confusion_mats_list = []\n",
    "\n",
    "for i in range(n_iters):\n",
    "    option_it = list(named_product(**all_options))\n",
    "\n",
    "    copt = option_it[0]\n",
    "    confusion_mats_list.append(confmat(results[i][0], np.tile(all_options[\"features\"][copt.features], n_test)))\n",
    "    \n",
    "confusion_mats = np.stack(confusion_mats_list)"
   ]
  },
  {
   "cell_type": "code",
   "execution_count": null,
   "metadata": {},
   "outputs": [],
   "source": [
    "# for i in range(n_iters):\n",
    "#     plot_confmat(confusion_mats[i, :, :])"
   ]
  },
  {
   "cell_type": "code",
   "execution_count": null,
   "metadata": {},
   "outputs": [],
   "source": [
    "plot_confmat(np.nanmean(confusion_mats, 0))"
   ]
  },
  {
   "cell_type": "code",
   "execution_count": null,
   "metadata": {},
   "outputs": [],
   "source": []
  },
  {
   "cell_type": "code",
   "execution_count": null,
   "metadata": {},
   "outputs": [],
   "source": []
  },
  {
   "cell_type": "code",
   "execution_count": null,
   "metadata": {},
   "outputs": [],
   "source": []
  },
  {
   "cell_type": "code",
   "execution_count": null,
   "metadata": {},
   "outputs": [],
   "source": []
  },
  {
   "cell_type": "code",
   "execution_count": null,
   "metadata": {},
   "outputs": [],
   "source": []
  },
  {
   "cell_type": "markdown",
   "metadata": {},
   "source": [
    "# Shifts"
   ]
  },
  {
   "cell_type": "markdown",
   "metadata": {},
   "source": [
    "Investigate whether a time-shift enables better prediction of transitions"
   ]
  },
  {
   "cell_type": "code",
   "execution_count": null,
   "metadata": {},
   "outputs": [],
   "source": [
    "def shift_ar(ar, i_shift):\n",
    "    if i_shift > 0:\n",
    "        return np.r_[np.zeros(i_shift, dtype=ar.dtype), ar[:-i_shift]]\n",
    "    if i_shift < 0:\n",
    "        return np.r_[ar[np.abs(i_shift):], np.zeros(abs(i_shift), dtype=ar.dtype)]\n",
    "    return ar"
   ]
  },
  {
   "cell_type": "code",
   "execution_count": null,
   "metadata": {},
   "outputs": [],
   "source": [
    "luminance_transitions = all_options[\"features\"][opt.features]"
   ]
  },
  {
   "cell_type": "code",
   "execution_count": null,
   "metadata": {},
   "outputs": [],
   "source": [
    "conditions = dict(pos=[], neg=[], both=[])\n",
    "for cond, cl in conditions.items():\n",
    "    for i_delay in tqdm(range(-4, 5)):\n",
    "        if cond == \"pos\":\n",
    "            ltr = luminance_transitions>0.01\n",
    "        elif cond == \"neg\":\n",
    "            ltr =luminance_transitions<-0.01\n",
    "        else:\n",
    "            ltr = np.abs(luminance_transitions)>0.01\n",
    "        gt = shift_ar(ltr, i_delay)\n",
    "        tr_model_io_lin, tr_predictions_io_lin = \\\n",
    "            decoding.decode_from_population(transition_IO_pop, gt>0.1, n_test,\n",
    "                                            model=LogisticRegression(class_weight=\"balanced\",\n",
    "                                                                         solver=\"liblinear\",\n",
    "                                                                         multi_class=\"ovr\"),\n",
    "                                            hyperparams=dict(C=10.0 ** np.arange(-4, 2)), probabilities=True)\n",
    "        cl.append((np.tile(gt, n_test), tr_predictions_io_lin))"
   ]
  },
  {
   "cell_type": "code",
   "execution_count": null,
   "metadata": {},
   "outputs": [],
   "source": [
    "@jit(nopython=True)\n",
    "def extract_around(signal, events, n_before=8, n_after=8):\n",
    "    n_events = np.sum(events>0)\n",
    "    signals_around = np.empty((n_events, n_after+n_before), dtype=signal.dtype)\n",
    "    i_ev = 0\n",
    "    for i_t in range(n_before, len(events)-n_after):\n",
    "        if events[i_t]:\n",
    "            signals_around[i_ev, :] = signal[i_t-n_before:i_t+n_after]\n",
    "            i_ev += 1\n",
    "    return signals_around"
   ]
  },
  {
   "cell_type": "code",
   "execution_count": null,
   "metadata": {},
   "outputs": [],
   "source": [
    "preds[0][1].shape"
   ]
  },
  {
   "cell_type": "code",
   "execution_count": null,
   "metadata": {},
   "outputs": [],
   "source": [
    "plt.figure()\n",
    "i_delay=5\n",
    "plt.plot(preds[i_delay][1][:,1])\n",
    "plt.plot(gt)"
   ]
  },
  {
   "cell_type": "code",
   "execution_count": null,
   "metadata": {},
   "outputs": [],
   "source": [
    "plt.figure()\n",
    "i_delay = 7\n",
    "sigs_around = extract_around(preds[i_delay][1][:,1], preds[i_delay][0])\n",
    "plt.plot(sigs_around.T, color=(0,0,0,0.5), lw=0.5)"
   ]
  },
  {
   "cell_type": "code",
   "execution_count": null,
   "metadata": {},
   "outputs": [],
   "source": [
    "i_d = 6\n",
    "plt.figure()\n",
    "plt.plot(preds[i_d][0])\n",
    "plt.plot(preds[i_d][1])"
   ]
  },
  {
   "cell_type": "code",
   "execution_count": null,
   "metadata": {},
   "outputs": [],
   "source": [
    "plt.plot(np.tile(luminance_transitions, n_test))"
   ]
  },
  {
   "cell_type": "code",
   "execution_count": null,
   "metadata": {},
   "outputs": [],
   "source": [
    "model_svr, predictions_svr = decoding.decode_from_population(population, stim_steps, 2, model=SVR, hyperparams=dict(C=10.0**np.arange(-4,4)))"
   ]
  },
  {
   "cell_type": "code",
   "execution_count": null,
   "metadata": {},
   "outputs": [],
   "source": [
    "pred_gt = np.tile(stim_steps, 2)"
   ]
  },
  {
   "cell_type": "code",
   "execution_count": null,
   "metadata": {},
   "outputs": [],
   "source": [
    "plt.figure()\n",
    "plt.plot(pred_gt)\n",
    "plt.plot(predictions_svr)"
   ]
  },
  {
   "cell_type": "code",
   "execution_count": null,
   "metadata": {},
   "outputs": [],
   "source": [
    "fig, ax = plt.subplots()\n",
    "ax.scatter(pred_gt+np.random.randn(*pred_gt.shape)*0.01, predictions_svr)\n",
    "ax.plot([0, 1], [0,1], color=(0.1, 0.1, 0.1, 0.3))\n",
    "ax.set_aspect(1)"
   ]
  },
  {
   "cell_type": "code",
   "execution_count": null,
   "metadata": {},
   "outputs": [],
   "source": []
  }
 ],
 "metadata": {
  "kernelspec": {
   "display_name": "Python 3",
   "language": "python",
   "name": "python3"
  },
  "language_info": {
   "codemirror_mode": {
    "name": "ipython",
    "version": 3
   },
   "file_extension": ".py",
   "mimetype": "text/x-python",
   "name": "python",
   "nbconvert_exporter": "python",
   "pygments_lexer": "ipython3",
   "version": "3.7.10"
  }
 },
 "nbformat": 4,
 "nbformat_minor": 4
}
