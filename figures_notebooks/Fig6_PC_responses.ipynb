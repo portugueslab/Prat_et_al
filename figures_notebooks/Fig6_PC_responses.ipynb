{
 "cells": [
  {
   "cell_type": "code",
   "execution_count": 1,
   "metadata": {},
   "outputs": [],
   "source": [
    "%matplotlib widget"
   ]
  },
  {
   "cell_type": "code",
   "execution_count": 2,
   "metadata": {},
   "outputs": [],
   "source": [
    "import flammkuchen as fl\n",
    "from matplotlib import pyplot as plt\n",
    "import numpy as np\n",
    "from scipy import io\n",
    "import os\n",
    "import seaborn as sns\n",
    "import matplotlib.gridspec as gridspec\n",
    "from matplotlib.ticker import FormatStrFormatter\n",
    "from pathlib import Path\n",
    "import pandas as pd\n",
    "from luminance_analysis import PooledData, traces_stim_from_path, get_meanresp_during_interval\n",
    "\n",
    "plt.style.use(\"figures.mplstyle\")"
   ]
  },
  {
   "cell_type": "code",
   "execution_count": 3,
   "metadata": {},
   "outputs": [],
   "source": [
    "fig_fold = Path(r\"C:\\Users\\otprat\\Documents\\figures\\luminance\\manuscript_figures\\fig6\")\n",
    "\n",
    "if not os.path.isdir(fig_fold):\n",
    "    os.mkdir(fig_fold)"
   ]
  },
  {
   "cell_type": "markdown",
   "metadata": {},
   "source": [
    "## Load all data"
   ]
  },
  {
   "cell_type": "code",
   "execution_count": 4,
   "metadata": {},
   "outputs": [],
   "source": [
    "master_path = Path(r\"\\\\FUNES2\\legacy\\experiments\\E0032_luminance\\neat_exps\")\n",
    "# master_path = Path(r\"J:\\_Shared\\GC_IO_luminance\\data\\neat_exps\")\n",
    "# master_path = Path(r\"/Users/luigipetrucco/Desktop/data_dictionaries\")"
   ]
  },
  {
   "cell_type": "code",
   "execution_count": 5,
   "metadata": {},
   "outputs": [],
   "source": [
    "from luminance_analysis.utilities import deconv_resamp_norm_trace, reliability, nanzscore\n",
    "from skimage.filters import threshold_otsu\n",
    "from scipy.cluster.hierarchy import dendrogram, linkage, cut_tree, to_tree, set_link_color_palette\n",
    "from luminance_analysis.plotting import plot_clusters_dendro, shade_plot, stim_plot, cluster_cols\n",
    "from luminance_analysis.clustering import cluster_id_search, find_trunc_dendro_clusters"
   ]
  },
  {
   "cell_type": "code",
   "execution_count": 6,
   "metadata": {},
   "outputs": [
    {
     "name": "stdout",
     "output_type": "stream",
     "text": [
      "[<luminance_analysis.FishData object at 0x00000216FF9B3CC8>, <luminance_analysis.FishData object at 0x00000216FF9B3D48>, <luminance_analysis.FishData object at 0x00000216FF991808>, <luminance_analysis.FishData object at 0x00000216FF990F48>, <luminance_analysis.FishData object at 0x00000216FF98B6C8>]\n",
      "[<luminance_analysis.FishData object at 0x00000216FF9B4C08>, <luminance_analysis.FishData object at 0x00000216FF9B4B88>, <luminance_analysis.FishData object at 0x00000216FF991848>, <luminance_analysis.FishData object at 0x00000216FF9909C8>, <luminance_analysis.FishData object at 0x00000216FF98B6C8>]\n"
     ]
    },
    {
     "name": "stderr",
     "output_type": "stream",
     "text": [
      "C:\\tools\\miniconda3\\envs\\rplab\\lib\\site-packages\\numpy\\lib\\function_base.py:2642: RuntimeWarning: invalid value encountered in true_divide\n",
      "  c /= stddev[:, None]\n",
      "C:\\tools\\miniconda3\\envs\\rplab\\lib\\site-packages\\numpy\\lib\\function_base.py:2643: RuntimeWarning: invalid value encountered in true_divide\n",
      "  c /= stddev[None, :]\n"
     ]
    },
    {
     "name": "stdout",
     "output_type": "stream",
     "text": [
      "[<luminance_analysis.FishData object at 0x0000021680440EC8>, <luminance_analysis.FishData object at 0x0000021680440F48>, <luminance_analysis.FishData object at 0x0000021680458488>, <luminance_analysis.FishData object at 0x00000216804559C8>, <luminance_analysis.FishData object at 0x000002168044DF08>]\n"
     ]
    },
    {
     "data": {
      "application/vnd.jupyter.widget-view+json": {
       "model_id": "bbf729f1e87e40a6895cca6e8ded0193",
       "version_major": 2,
       "version_minor": 0
      },
      "text/plain": [
       "Canvas(toolbar=Toolbar(toolitems=[('Home', 'Reset original view', 'home', 'home'), ('Back', 'Back to previous …"
      ]
     },
     "metadata": {},
     "output_type": "display_data"
    },
    {
     "name": "stdout",
     "output_type": "stream",
     "text": [
      "[<luminance_analysis.FishData object at 0x000002168050C048>, <luminance_analysis.FishData object at 0x000002168050C6C8>, <luminance_analysis.FishData object at 0x000002168050AB88>, <luminance_analysis.FishData object at 0x00000216805E4088>, <luminance_analysis.FishData object at 0x00000216805E7548>]\n",
      "[<luminance_analysis.FishData object at 0x00000216805E1CC8>, <luminance_analysis.FishData object at 0x00000216805E1C08>, <luminance_analysis.FishData object at 0x00000216805E4DC8>, <luminance_analysis.FishData object at 0x00000216805E7F08>, <luminance_analysis.FishData object at 0x00000216805F1D88>]\n",
      "[<luminance_analysis.FishData object at 0x000002168047D148>, <luminance_analysis.FishData object at 0x000002168047D3C8>, <luminance_analysis.FishData object at 0x0000021680461448>, <luminance_analysis.FishData object at 0x00000216805F1EC8>, <luminance_analysis.FishData object at 0x00000216805EF108>]\n",
      "[<luminance_analysis.FishData object at 0x000002168050ED88>, <luminance_analysis.FishData object at 0x00000216805E7708>, <luminance_analysis.FishData object at 0x00000216FF9AB408>, <luminance_analysis.FishData object at 0x00000216805EF148>, <luminance_analysis.FishData object at 0x00000216805E1B08>]\n",
      "[<luminance_analysis.FishData object at 0x000002168050ED88>, <luminance_analysis.FishData object at 0x0000021680494C48>, <luminance_analysis.FishData object at 0x000002168050D988>, <luminance_analysis.FishData object at 0x00000216805E18C8>, <luminance_analysis.FishData object at 0x00000216805E7748>]\n",
      "[<luminance_analysis.FishData object at 0x0000021680494C48>, <luminance_analysis.FishData object at 0x00000216FF9AB448>, <luminance_analysis.FishData object at 0x00000216805EFA88>, <luminance_analysis.FishData object at 0x00000216805E19C8>, <luminance_analysis.FishData object at 0x0000021680461648>]\n"
     ]
    },
    {
     "data": {
      "application/vnd.jupyter.widget-view+json": {
       "model_id": "5c7aae9666c9435c8a40321baf99cb7e",
       "version_major": 2,
       "version_minor": 0
      },
      "text/plain": [
       "Canvas(toolbar=Toolbar(toolitems=[('Home', 'Reset original view', 'home', 'home'), ('Back', 'Back to previous …"
      ]
     },
     "metadata": {},
     "output_type": "display_data"
    },
    {
     "name": "stdout",
     "output_type": "stream",
     "text": [
      "[<luminance_analysis.FishData object at 0x000002168037E088>, <luminance_analysis.FishData object at 0x000002168037F088>, <luminance_analysis.FishData object at 0x000002168038D588>, <luminance_analysis.FishData object at 0x0000021680389D48>, <luminance_analysis.FishData object at 0x0000021680387548>]\n",
      "[<luminance_analysis.FishData object at 0x000002168037FC08>, <luminance_analysis.FishData object at 0x000002168037FB88>, <luminance_analysis.FishData object at 0x000002168038DA88>, <luminance_analysis.FishData object at 0x0000021680374488>, <luminance_analysis.FishData object at 0x0000021680391B48>]\n",
      "[<luminance_analysis.FishData object at 0x0000021680383148>, <luminance_analysis.FishData object at 0x0000021680383388>, <luminance_analysis.FishData object at 0x000002168038D408>, <luminance_analysis.FishData object at 0x00000216803871C8>, <luminance_analysis.FishData object at 0x00000216803312C8>]\n",
      "[<luminance_analysis.FishData object at 0x0000021680617B48>, <luminance_analysis.FishData object at 0x0000021680617208>, <luminance_analysis.FishData object at 0x0000021680387B08>, <luminance_analysis.FishData object at 0x0000021680391288>, <luminance_analysis.FishData object at 0x00000216803831C8>]\n",
      "[<luminance_analysis.FishData object at 0x000002168038D808>, <luminance_analysis.FishData object at 0x000002168038DA08>, <luminance_analysis.FishData object at 0x00000216803889C8>, <luminance_analysis.FishData object at 0x000002168037F7C8>, <luminance_analysis.FishData object at 0x00000216803965C8>]\n",
      "[<luminance_analysis.FishData object at 0x00000216803312C8>, <luminance_analysis.FishData object at 0x00000216805FAE48>, <luminance_analysis.FishData object at 0x0000021680374808>, <luminance_analysis.FishData object at 0x0000021680387A08>, <luminance_analysis.FishData object at 0x000002168038D6C8>]\n"
     ]
    },
    {
     "data": {
      "application/vnd.jupyter.widget-view+json": {
       "model_id": "8220f9b802904de69d6090cf05a8c139",
       "version_major": 2,
       "version_minor": 0
      },
      "text/plain": [
       "Canvas(toolbar=Toolbar(toolitems=[('Home', 'Reset original view', 'home', 'home'), ('Back', 'Back to previous …"
      ]
     },
     "metadata": {},
     "output_type": "display_data"
    },
    {
     "name": "stdout",
     "output_type": "stream",
     "text": [
      "[<luminance_analysis.FishData object at 0x0000021680545148>, <luminance_analysis.FishData object at 0x0000021680545888>, <luminance_analysis.FishData object at 0x000002168053D8C8>, <luminance_analysis.FishData object at 0x0000021680558A88>, <luminance_analysis.FishData object at 0x0000021680551D48>]\n",
      "[<luminance_analysis.FishData object at 0x00000216803BF9C8>, <luminance_analysis.FishData object at 0x000002168039CE88>, <luminance_analysis.FishData object at 0x0000021680550F48>, <luminance_analysis.FishData object at 0x0000021680551BC8>, <luminance_analysis.FishData object at 0x0000021680546D88>]\n",
      "[<luminance_analysis.FishData object at 0x000002168053DAC8>, <luminance_analysis.FishData object at 0x000002168053DEC8>, <luminance_analysis.FishData object at 0x000002168054A348>, <luminance_analysis.FishData object at 0x0000021680550208>, <luminance_analysis.FishData object at 0x0000021680551188>]\n",
      "[<luminance_analysis.FishData object at 0x00000216803BBD08>, <luminance_analysis.FishData object at 0x0000021680559FC8>, <luminance_analysis.FishData object at 0x000002168039CF88>, <luminance_analysis.FishData object at 0x0000021680550E88>, <luminance_analysis.FishData object at 0x000002168056F408>]\n",
      "[<luminance_analysis.FishData object at 0x0000021680399D48>, <luminance_analysis.FishData object at 0x00000216803BBC88>, <luminance_analysis.FishData object at 0x00000216803A1F48>, <luminance_analysis.FishData object at 0x0000021680551D48>, <luminance_analysis.FishData object at 0x0000021680563548>]\n",
      "[<luminance_analysis.FishData object at 0x0000021680559208>, <luminance_analysis.FishData object at 0x0000021680559E88>, <luminance_analysis.FishData object at 0x00000216803A2348>, <luminance_analysis.FishData object at 0x0000021680551548>, <luminance_analysis.FishData object at 0x000002168055D3C8>]\n"
     ]
    },
    {
     "name": "stderr",
     "output_type": "stream",
     "text": [
      "c:\\users\\otprat\\repos\\luminance_analysis\\luminance_analysis\\__init__.py:448: RuntimeWarning: Mean of empty slice\n",
      "  meanresps = np.nanmean(traces, 2)\n",
      "c:\\users\\otprat\\repos\\luminance_analysis\\luminance_analysis\\utilities.py:86: RuntimeWarning: Mean of empty slice\n",
      "  reliability[i] = np.nanmean(corr)\n"
     ]
    },
    {
     "name": "stdout",
     "output_type": "stream",
     "text": [
      "[<luminance_analysis.FishData object at 0x00000216F6BEAF48>, <luminance_analysis.FishData object at 0x00000216803CDE08>, <luminance_analysis.FishData object at 0x000002168057C108>, <luminance_analysis.FishData object at 0x00000216805513C8>, <luminance_analysis.FishData object at 0x0000021680559388>]\n"
     ]
    },
    {
     "data": {
      "application/vnd.jupyter.widget-view+json": {
       "model_id": "994122a360eb4ef5bfa9b344a089be36",
       "version_major": 2,
       "version_minor": 0
      },
      "text/plain": [
       "Canvas(toolbar=Toolbar(toolitems=[('Home', 'Reset original view', 'home', 'home'), ('Back', 'Back to previous …"
      ]
     },
     "metadata": {},
     "output_type": "display_data"
    },
    {
     "name": "stdout",
     "output_type": "stream",
     "text": [
      "[<luminance_analysis.FishData object at 0x00000216805DD1C8>, <luminance_analysis.FishData object at 0x00000216805DD648>, <luminance_analysis.FishData object at 0x00000216805D2AC8>, <luminance_analysis.FishData object at 0x00000216805DBF48>, <luminance_analysis.FishData object at 0x00000216805C1408>]\n"
     ]
    },
    {
     "name": "stderr",
     "output_type": "stream",
     "text": [
      "c:\\users\\otprat\\repos\\luminance_analysis\\luminance_analysis\\__init__.py:471: RuntimeWarning: Mean of empty slice\n",
      "  for t in timepoints])\n"
     ]
    },
    {
     "name": "stdout",
     "output_type": "stream",
     "text": [
      "[<luminance_analysis.FishData object at 0x00000216805DBE48>, <luminance_analysis.FishData object at 0x00000216805DBDC8>, <luminance_analysis.FishData object at 0x00000216805DABC8>, <luminance_analysis.FishData object at 0x00000216805C1E48>, <luminance_analysis.FishData object at 0x00000216805CEB88>]\n",
      "[<luminance_analysis.FishData object at 0x0000021680550E88>, <luminance_analysis.FishData object at 0x0000021680550508>, <luminance_analysis.FishData object at 0x00000216805C2D08>, <luminance_analysis.FishData object at 0x00000216805C1608>, <luminance_analysis.FishData object at 0x00000216805CE7C8>]\n",
      "[<luminance_analysis.FishData object at 0x00000216805C2188>, <luminance_analysis.FishData object at 0x00000216805C2548>, <luminance_analysis.FishData object at 0x00000216805DD8C8>, <luminance_analysis.FishData object at 0x00000216805C15C8>, <luminance_analysis.FishData object at 0x00000216805CEB48>]\n",
      "[<luminance_analysis.FishData object at 0x0000021680574F88>, <luminance_analysis.FishData object at 0x000002168053D5C8>, <luminance_analysis.FishData object at 0x00000216805DB0C8>, <luminance_analysis.FishData object at 0x00000216805CEB08>, <luminance_analysis.FishData object at 0x00000216805DA8C8>]\n",
      "[<luminance_analysis.FishData object at 0x000002168056B308>, <luminance_analysis.FishData object at 0x00000216805DB2C8>, <luminance_analysis.FishData object at 0x00000216805CE848>, <luminance_analysis.FishData object at 0x00000216805DA088>, <luminance_analysis.FishData object at 0x00000216805C28C8>]\n"
     ]
    },
    {
     "data": {
      "application/vnd.jupyter.widget-view+json": {
       "model_id": "5cbff3975cd74e87a28458644f729210",
       "version_major": 2,
       "version_minor": 0
      },
      "text/plain": [
       "Canvas(toolbar=Toolbar(toolitems=[('Home', 'Reset original view', 'home', 'home'), ('Back', 'Back to previous …"
      ]
     },
     "metadata": {},
     "output_type": "display_data"
    },
    {
     "name": "stdout",
     "output_type": "stream",
     "text": [
      "[<luminance_analysis.FishData object at 0x0000021680EEEB88>, <luminance_analysis.FishData object at 0x0000021680EEEC08>, <luminance_analysis.FishData object at 0x0000021680EFA188>, <luminance_analysis.FishData object at 0x0000021680EF86C8>, <luminance_analysis.FishData object at 0x0000021680EF7C08>]\n",
      "[<luminance_analysis.FishData object at 0x0000021680EF1D08>, <luminance_analysis.FishData object at 0x0000021680EF1C88>, <luminance_analysis.FishData object at 0x0000021680EFA908>, <luminance_analysis.FishData object at 0x0000021680EF8B08>, <luminance_analysis.FishData object at 0x0000021680EF79C8>]\n",
      "[<luminance_analysis.FishData object at 0x0000021680EFAAC8>, <luminance_analysis.FishData object at 0x0000021680EFA0C8>, <luminance_analysis.FishData object at 0x0000021680EF4808>, <luminance_analysis.FishData object at 0x0000021680EF8A08>, <luminance_analysis.FishData object at 0x0000021680EF7988>]\n",
      "[<luminance_analysis.FishData object at 0x0000021680EFA688>, <luminance_analysis.FishData object at 0x0000021680EFA708>, <luminance_analysis.FishData object at 0x0000021680EF4C88>, <luminance_analysis.FishData object at 0x0000021680FE13C8>, <luminance_analysis.FishData object at 0x0000021680EF7D48>]\n",
      "[<luminance_analysis.FishData object at 0x0000021680EF88C8>, <luminance_analysis.FishData object at 0x0000021680EF8C48>, <luminance_analysis.FishData object at 0x0000021680EEEEC8>, <luminance_analysis.FishData object at 0x0000021680F0CC48>, <luminance_analysis.FishData object at 0x0000021680EFA8C8>]\n",
      "[<luminance_analysis.FishData object at 0x0000021680EF7B08>, <luminance_analysis.FishData object at 0x0000021680EF7B88>, <luminance_analysis.FishData object at 0x0000021680F0CEC8>, <luminance_analysis.FishData object at 0x0000021680EF85C8>, <luminance_analysis.FishData object at 0x0000021680F1B208>]\n"
     ]
    },
    {
     "data": {
      "application/vnd.jupyter.widget-view+json": {
       "model_id": "9fd757d166054b73b5fc30a4172c4bcd",
       "version_major": 2,
       "version_minor": 0
      },
      "text/plain": [
       "Canvas(toolbar=Toolbar(toolitems=[('Home', 'Reset original view', 'home', 'home'), ('Back', 'Back to previous …"
      ]
     },
     "metadata": {},
     "output_type": "display_data"
    },
    {
     "name": "stdout",
     "output_type": "stream",
     "text": [
      "[<luminance_analysis.FishData object at 0x0000021680F707C8>, <luminance_analysis.FishData object at 0x0000021680F70C48>, <luminance_analysis.FishData object at 0x0000021680F6ED48>, <luminance_analysis.FishData object at 0x0000021680F80D88>, <luminance_analysis.FishData object at 0x0000021680F74088>]\n",
      "[<luminance_analysis.FishData object at 0x0000021680F6FCC8>, <luminance_analysis.FishData object at 0x0000021680F6FC88>, <luminance_analysis.FishData object at 0x0000021680F69E48>, <luminance_analysis.FishData object at 0x0000021680EFB7C8>, <luminance_analysis.FishData object at 0x0000021680F98708>]\n",
      "[<luminance_analysis.FishData object at 0x0000021680F6D3C8>, <luminance_analysis.FishData object at 0x0000021680F6D248>, <luminance_analysis.FishData object at 0x0000021680F69F08>, <luminance_analysis.FishData object at 0x0000021680F78908>, <luminance_analysis.FishData object at 0x0000021680F983C8>]\n",
      "[<luminance_analysis.FishData object at 0x0000021680EFBC48>, <luminance_analysis.FishData object at 0x0000021680EFB9C8>, <luminance_analysis.FishData object at 0x0000021680F76548>, <luminance_analysis.FishData object at 0x0000021680F98F48>, <luminance_analysis.FishData object at 0x0000021680F706C8>]\n"
     ]
    }
   ],
   "source": [
    "tau_6f = 5\n",
    "tau_6s = 8\n",
    "ker_len = 20\n",
    "normalization = \"zscore\"\n",
    "\n",
    "\n",
    "brain_regions_list = [\"GC\", \"IO\", \"PC\"]\n",
    "tau_list = [tau_6f, tau_6f, tau_6s]\n",
    "nan_thr_list = [0, 1, 1]\n",
    "n_cluster_dict = dict(steps=[8, 6, 8], flashes=[4, 5, 4])\n",
    "\n",
    "protocol_data_dict = dict()\n",
    "\n",
    "for protocol in [\"steps\", \"flashes\"]:\n",
    "    #load stimulus of GCs and use it as a the reference for time array and stimulus array:\n",
    "    stim_ref = PooledData(path = master_path / protocol / \"GC\").stimarray_rep\n",
    "\n",
    "    # Get number of clusters for each protocol:\n",
    "    n_cluster_list = n_cluster_dict[protocol]\n",
    "    \n",
    "    data_dict = {k:{} for k in brain_regions_list}\n",
    "\n",
    "    for brain_region, tau, n_cluster, nan_thr in zip(brain_regions_list, tau_list, \n",
    "                                                     n_cluster_list, nan_thr_list):\n",
    "        #Load data :\n",
    "        path = master_path / protocol / brain_region\n",
    "        stim, traces, meanresps = traces_stim_from_path(path)\n",
    "\n",
    "        # Mean traces, calculate reliability index :\n",
    "        rel_idxs = reliability(traces)\n",
    "\n",
    "        # Find threshold from reliability histogram...\n",
    "        rel_thr = threshold_otsu(rel_idxs[~np.isnan(rel_idxs)])\n",
    "\n",
    "        # ...and load again filtering with the threshold:\n",
    "        _, traces, meanresps, pooled_data = traces_stim_from_path(path, resp_threshold=rel_thr, nanfraction_thr=nan_thr, return_pooled_data=True)\n",
    "\n",
    "        # Hierarchical clustering:\n",
    "        linked = linkage(meanresps, 'ward')\n",
    "\n",
    "        # Truncate dendrogram at n_cluster level:\n",
    "        plt.figure(figsize=(0.1, 0.1))  \n",
    "        dendro = dendrogram(linked, n_cluster, truncate_mode =\"lastp\")\n",
    "        plt.close()\n",
    "        cluster_ids = dendro[\"leaves\"]\n",
    "        labels = find_trunc_dendro_clusters(linked, dendro) \n",
    "\n",
    "        # Deconvolution, resampling / normalization:\n",
    "        deconv_meanresps = np.empty((meanresps.shape[0], stim_ref.shape[0]))\n",
    "        resamp_meanresps = np.empty((meanresps.shape[0], stim_ref.shape[0]))\n",
    "        for roi_i in range(deconv_meanresps.shape[0]):\n",
    "            deconv_meanresps[roi_i, :] = deconv_resamp_norm_trace(meanresps[roi_i, :], stim[:, 0],\n",
    "                                                                    stim_ref[:, 0], tau, ker_len,\n",
    "                                                                    smooth_wnd=4,\n",
    "                                                                    normalization=normalization)\n",
    "            resamp_meanresps[roi_i, :] = deconv_resamp_norm_trace(meanresps[roi_i, :], stim[:, 0],\n",
    "                                                                    stim_ref[:, 0], None, ker_len,\n",
    "                                                                    smooth_wnd=4,\n",
    "                                                                    normalization=normalization)\n",
    "\n",
    "        cluster_resps = np.empty((n_cluster, stim_ref.shape[0]))\n",
    "        for clust_i in range(n_cluster):\n",
    "            cluster_resp = np.nanmean(deconv_meanresps[labels==clust_i, :], 0)  # average cluster responses\n",
    "            cluster_resps[clust_i, :] = nanzscore(cluster_resp)  # normalize\n",
    "\n",
    "        # Get mean responses of all ROIs to the different luminances of the two step series (upward and downward)\n",
    "        start_after_stim = 2.5\n",
    "        post_int_s = 5\n",
    "        start_after_isi = 4.5\n",
    "        post_isi_s = 7\n",
    "        ##Calculate average activity during a luminance value when it was approached from below:\n",
    "        up_trans_t_sec = np.array([34, 46, 58]) #Times [s.] of upward transitions\n",
    "        resp_upward = get_meanresp_during_interval(path, up_trans_t_sec, start_after_stim, post_int_s, resp_threshold=rel_thr, nanfraction_thr=nan_thr)\n",
    "        resp_upward_isi = get_meanresp_during_interval(path, up_trans_t_sec-7, start_after_isi, post_isi_s, resp_threshold=rel_thr, nanfraction_thr=nan_thr)\n",
    "        ##Calculate average activity during a luminance value when it was approached from above:\n",
    "        down_trans_t_sec = np.array([101, 89, 77]) #Times [s.] of downward transitions (sorted to match order of upward transitions\n",
    "        resp_downward = get_meanresp_during_interval(path, down_trans_t_sec, start_after_stim, post_int_s, resp_threshold=rel_thr, nanfraction_thr=nan_thr)\n",
    "        resp_downward_isi = get_meanresp_during_interval(path, down_trans_t_sec-7, start_after_isi, post_isi_s, resp_threshold=rel_thr, nanfraction_thr=nan_thr)\n",
    "\n",
    "        # Add everything to dictionary:\n",
    "        data_dict[brain_region][\"linkage_mat\"] = linked\n",
    "        data_dict[brain_region][\"clust_labels\"] = labels\n",
    "        data_dict[brain_region][\"pooled_data\"] = pooled_data\n",
    "        data_dict[brain_region][\"raw_mn_resps\"] = meanresps\n",
    "        data_dict[brain_region][\"deconv_mn_resps\"] = deconv_meanresps\n",
    "        data_dict[brain_region][\"resamp_mn_resps\"] = resamp_meanresps\n",
    "        data_dict[brain_region][\"rel_idxs\"] = rel_idxs\n",
    "        data_dict[brain_region][\"rel_thr\"] = rel_thr\n",
    "        data_dict[brain_region][\"clust_resps\"] = cluster_resps\n",
    "        \n",
    "    protocol_data_dict[protocol] = data_dict"
   ]
  },
  {
   "cell_type": "markdown",
   "metadata": {},
   "source": [
    "### PC responses panels"
   ]
  },
  {
   "cell_type": "code",
   "execution_count": 7,
   "metadata": {},
   "outputs": [],
   "source": [
    "from luminance_analysis.plotting import plot_clusters_dendro, re_histogram"
   ]
  },
  {
   "cell_type": "code",
   "execution_count": 8,
   "metadata": {},
   "outputs": [
    {
     "data": {
      "application/vnd.jupyter.widget-view+json": {
       "model_id": "5b83e3972b7a48b783951c9d0a8743d5",
       "version_major": 2,
       "version_minor": 0
      },
      "text/plain": [
       "Canvas(toolbar=Toolbar(toolitems=[('Home', 'Reset original view', 'home', 'home'), ('Back', 'Back to previous …"
      ]
     },
     "metadata": {},
     "output_type": "display_data"
    },
    {
     "name": "stdout",
     "output_type": "stream",
     "text": [
      "[<luminance_analysis.FishData object at 0x0000021680F6C748>, <luminance_analysis.FishData object at 0x0000021680F6C6C8>, <luminance_analysis.FishData object at 0x0000021680F8AB48>, <luminance_analysis.FishData object at 0x0000021680F87348>, <luminance_analysis.FishData object at 0x0000021680F70048>]\n"
     ]
    },
    {
     "name": "stderr",
     "output_type": "stream",
     "text": [
      "c:\\users\\otprat\\repos\\luminance_analysis\\luminance_analysis\\plotting.py:291: UserWarning: This figure includes Axes that are not compatible with tight_layout, so results might be incorrect.\n",
      "  plt.tight_layout()\n"
     ]
    },
    {
     "name": "stdout",
     "output_type": "stream",
     "text": [
      "[211 299 341 411 457 543 605 672]\n"
     ]
    },
    {
     "name": "stderr",
     "output_type": "stream",
     "text": [
      "c:\\users\\otprat\\repos\\luminance_analysis\\luminance_analysis\\plotting.py:229: RuntimeWarning: Mean of empty slice\n",
      "  np.nanmean(traces[labels == i, :], 0) -\n",
      "c:\\users\\otprat\\repos\\luminance_analysis\\luminance_analysis\\plotting.py:229: RuntimeWarning: Mean of empty slice\n",
      "  np.nanmean(traces[labels == i, :], 0) -\n",
      "c:\\users\\otprat\\repos\\luminance_analysis\\luminance_analysis\\plotting.py:229: RuntimeWarning: Mean of empty slice\n",
      "  np.nanmean(traces[labels == i, :], 0) -\n",
      "c:\\users\\otprat\\repos\\luminance_analysis\\luminance_analysis\\plotting.py:229: RuntimeWarning: Mean of empty slice\n",
      "  np.nanmean(traces[labels == i, :], 0) -\n",
      "c:\\users\\otprat\\repos\\luminance_analysis\\luminance_analysis\\plotting.py:229: RuntimeWarning: Mean of empty slice\n",
      "  np.nanmean(traces[labels == i, :], 0) -\n",
      "c:\\users\\otprat\\repos\\luminance_analysis\\luminance_analysis\\plotting.py:229: RuntimeWarning: Mean of empty slice\n",
      "  np.nanmean(traces[labels == i, :], 0) -\n",
      "c:\\users\\otprat\\repos\\luminance_analysis\\luminance_analysis\\plotting.py:229: RuntimeWarning: Mean of empty slice\n",
      "  np.nanmean(traces[labels == i, :], 0) -\n",
      "c:\\users\\otprat\\repos\\luminance_analysis\\luminance_analysis\\plotting.py:229: RuntimeWarning: Mean of empty slice\n",
      "  np.nanmean(traces[labels == i, :], 0) -\n"
     ]
    },
    {
     "name": "stdout",
     "output_type": "stream",
     "text": [
      "[<luminance_analysis.FishData object at 0x0000021688855B48>, <luminance_analysis.FishData object at 0x0000021688855E08>, <luminance_analysis.FishData object at 0x0000021680F90108>, <luminance_analysis.FishData object at 0x00000216BD6BA248>, <luminance_analysis.FishData object at 0x00000216BD6B9748>]\n"
     ]
    },
    {
     "name": "stderr",
     "output_type": "stream",
     "text": [
      "c:\\users\\otprat\\repos\\luminance_analysis\\luminance_analysis\\plotting.py:291: UserWarning: This figure includes Axes that are not compatible with tight_layout, so results might be incorrect.\n",
      "  plt.tight_layout()\n"
     ]
    },
    {
     "name": "stdout",
     "output_type": "stream",
     "text": [
      "[103 221 514 690]\n"
     ]
    },
    {
     "name": "stderr",
     "output_type": "stream",
     "text": [
      "c:\\users\\otprat\\repos\\luminance_analysis\\luminance_analysis\\plotting.py:229: RuntimeWarning: Mean of empty slice\n",
      "  np.nanmean(traces[labels == i, :], 0) -\n",
      "c:\\users\\otprat\\repos\\luminance_analysis\\luminance_analysis\\plotting.py:229: RuntimeWarning: Mean of empty slice\n",
      "  np.nanmean(traces[labels == i, :], 0) -\n",
      "c:\\users\\otprat\\repos\\luminance_analysis\\luminance_analysis\\plotting.py:229: RuntimeWarning: Mean of empty slice\n",
      "  np.nanmean(traces[labels == i, :], 0) -\n",
      "c:\\users\\otprat\\repos\\luminance_analysis\\luminance_analysis\\plotting.py:229: RuntimeWarning: Mean of empty slice\n",
      "  np.nanmean(traces[labels == i, :], 0) -\n"
     ]
    },
    {
     "data": {
      "text/plain": [
       "Text(0.01, 0.525, 'B')"
      ]
     },
     "execution_count": 8,
     "metadata": {},
     "output_type": "execute_result"
    }
   ],
   "source": [
    "color = sns.color_palette()[2]\n",
    "k = \"PC\"\n",
    "spacing = 3\n",
    "fig_clust = plt.figure(figsize=(7, 6))\n",
    "\n",
    "#for protocol in [\"steps\", \"flashes\"]:\n",
    "\n",
    "for i, (protocol, dendrolim, cbar, x_pos) in enumerate(zip([\"steps\", \"flashes\"], [392, 292], \n",
    "                                                           [False, True], [0.45, 0.0])):\n",
    "    data_dict = protocol_data_dict[protocol]\n",
    "    stim_ref = PooledData(path = master_path / protocol / \"GC\").stimarray_rep\n",
    "    f_hist = re_histogram(data_dict[k][\"rel_idxs\"], data_dict[k][\"rel_thr\"], fig_clust,  \n",
    "                          w=0.18, h=0.08, w_p=0.02, h_p=x_pos+0.42, color=color)\n",
    "\n",
    "    meanresps = data_dict[k][\"resamp_mn_resps\"]  # data_dict[k][\"deconv_mn_resps\"]\n",
    "    smooth_mean_resps = pd.DataFrame(meanresps.T).rolling(4, center=True).mean().values.T\n",
    "\n",
    "    fig_clust = plot_clusters_dendro(smooth_mean_resps, stim_ref,\n",
    "                                 data_dict[k][\"linkage_mat\"], data_dict[k][\"clust_labels\"], prefix=k,\n",
    "                                 figure=fig_clust, w=1., h=0.66, w_p=0.1, h_p=x_pos, f_lim=2,\n",
    "                                 dendrolims=(dendrolim, 0), gamma=0.4, spacing=spacing, colorbar=cbar)\n",
    "    \n",
    "fig_clust.text(0.01, 0.975, 'A')\n",
    "fig_clust.text(0.01, 0.525, 'B')"
   ]
  },
  {
   "cell_type": "code",
   "execution_count": 9,
   "metadata": {},
   "outputs": [],
   "source": [
    "if fig_fold is not None:\n",
    "    fig_clust.savefig(str(fig_fold / \"steps_panel.pdf\"))"
   ]
  },
  {
   "cell_type": "markdown",
   "metadata": {},
   "source": [
    "### Supplementary panels with all responses together"
   ]
  },
  {
   "cell_type": "code",
   "execution_count": 10,
   "metadata": {},
   "outputs": [],
   "source": [
    "fig_fold = Path(r\"C:\\Users\\otprat\\Documents\\figures\\luminance\\manuscript_figures\\fig6supp\")\n",
    "\n",
    "if not os.path.isdir(fig_fold):\n",
    "    os.mkdir(fig_fold)"
   ]
  },
  {
   "cell_type": "code",
   "execution_count": 11,
   "metadata": {},
   "outputs": [
    {
     "name": "stdout",
     "output_type": "stream",
     "text": [
      "[<luminance_analysis.FishData object at 0x00000216FF974908>, <luminance_analysis.FishData object at 0x00000216BD63D508>, <luminance_analysis.FishData object at 0x00000216AE080908>, <luminance_analysis.FishData object at 0x00000216AE077E48>, <luminance_analysis.FishData object at 0x00000216AE06E448>]\n"
     ]
    },
    {
     "data": {
      "application/vnd.jupyter.widget-view+json": {
       "model_id": "de9fb4d314274f3789be4e1455b19164",
       "version_major": 2,
       "version_minor": 0
      },
      "text/plain": [
       "Canvas(toolbar=Toolbar(toolitems=[('Home', 'Reset original view', 'home', 'home'), ('Back', 'Back to previous …"
      ]
     },
     "metadata": {},
     "output_type": "display_data"
    },
    {
     "name": "stderr",
     "output_type": "stream",
     "text": [
      "c:\\users\\otprat\\repos\\luminance_analysis\\luminance_analysis\\plotting.py:291: UserWarning: This figure includes Axes that are not compatible with tight_layout, so results might be incorrect.\n",
      "  plt.tight_layout()\n"
     ]
    },
    {
     "name": "stdout",
     "output_type": "stream",
     "text": [
      "[ 108  328  819  965 1023 1211 1595 2365]\n"
     ]
    },
    {
     "name": "stderr",
     "output_type": "stream",
     "text": [
      "c:\\users\\otprat\\repos\\luminance_analysis\\luminance_analysis\\plotting.py:229: RuntimeWarning: Mean of empty slice\n",
      "  np.nanmean(traces[labels == i, :], 0) -\n",
      "c:\\users\\otprat\\repos\\luminance_analysis\\luminance_analysis\\plotting.py:229: RuntimeWarning: Mean of empty slice\n",
      "  np.nanmean(traces[labels == i, :], 0) -\n",
      "c:\\users\\otprat\\repos\\luminance_analysis\\luminance_analysis\\plotting.py:229: RuntimeWarning: Mean of empty slice\n",
      "  np.nanmean(traces[labels == i, :], 0) -\n",
      "c:\\users\\otprat\\repos\\luminance_analysis\\luminance_analysis\\plotting.py:229: RuntimeWarning: Mean of empty slice\n",
      "  np.nanmean(traces[labels == i, :], 0) -\n",
      "c:\\users\\otprat\\repos\\luminance_analysis\\luminance_analysis\\plotting.py:229: RuntimeWarning: Mean of empty slice\n",
      "  np.nanmean(traces[labels == i, :], 0) -\n",
      "c:\\users\\otprat\\repos\\luminance_analysis\\luminance_analysis\\plotting.py:229: RuntimeWarning: Mean of empty slice\n",
      "  np.nanmean(traces[labels == i, :], 0) -\n",
      "c:\\users\\otprat\\repos\\luminance_analysis\\luminance_analysis\\plotting.py:229: RuntimeWarning: Mean of empty slice\n",
      "  np.nanmean(traces[labels == i, :], 0) -\n",
      "c:\\users\\otprat\\repos\\luminance_analysis\\luminance_analysis\\plotting.py:229: RuntimeWarning: Mean of empty slice\n",
      "  np.nanmean(traces[labels == i, :], 0) -\n",
      "c:\\users\\otprat\\repos\\luminance_analysis\\luminance_analysis\\plotting.py:291: UserWarning: This figure includes Axes that are not compatible with tight_layout, so results might be incorrect.\n",
      "  plt.tight_layout()\n"
     ]
    },
    {
     "name": "stdout",
     "output_type": "stream",
     "text": [
      "[18 32 41 45 54 66]\n"
     ]
    },
    {
     "name": "stderr",
     "output_type": "stream",
     "text": [
      "c:\\users\\otprat\\repos\\luminance_analysis\\luminance_analysis\\plotting.py:229: RuntimeWarning: Mean of empty slice\n",
      "  np.nanmean(traces[labels == i, :], 0) -\n",
      "c:\\users\\otprat\\repos\\luminance_analysis\\luminance_analysis\\plotting.py:229: RuntimeWarning: Mean of empty slice\n",
      "  np.nanmean(traces[labels == i, :], 0) -\n",
      "c:\\users\\otprat\\repos\\luminance_analysis\\luminance_analysis\\plotting.py:229: RuntimeWarning: Mean of empty slice\n",
      "  np.nanmean(traces[labels == i, :], 0) -\n",
      "c:\\users\\otprat\\repos\\luminance_analysis\\luminance_analysis\\plotting.py:229: RuntimeWarning: Mean of empty slice\n",
      "  np.nanmean(traces[labels == i, :], 0) -\n",
      "c:\\users\\otprat\\repos\\luminance_analysis\\luminance_analysis\\plotting.py:229: RuntimeWarning: Mean of empty slice\n",
      "  np.nanmean(traces[labels == i, :], 0) -\n",
      "c:\\users\\otprat\\repos\\luminance_analysis\\luminance_analysis\\plotting.py:229: RuntimeWarning: Mean of empty slice\n",
      "  np.nanmean(traces[labels == i, :], 0) -\n",
      "c:\\users\\otprat\\repos\\luminance_analysis\\luminance_analysis\\plotting.py:291: UserWarning: This figure includes Axes that are not compatible with tight_layout, so results might be incorrect.\n",
      "  plt.tight_layout()\n"
     ]
    },
    {
     "name": "stdout",
     "output_type": "stream",
     "text": [
      "[211 299 341 411 457 543 605 672]\n"
     ]
    },
    {
     "name": "stderr",
     "output_type": "stream",
     "text": [
      "c:\\users\\otprat\\repos\\luminance_analysis\\luminance_analysis\\plotting.py:229: RuntimeWarning: Mean of empty slice\n",
      "  np.nanmean(traces[labels == i, :], 0) -\n",
      "c:\\users\\otprat\\repos\\luminance_analysis\\luminance_analysis\\plotting.py:229: RuntimeWarning: Mean of empty slice\n",
      "  np.nanmean(traces[labels == i, :], 0) -\n",
      "c:\\users\\otprat\\repos\\luminance_analysis\\luminance_analysis\\plotting.py:229: RuntimeWarning: Mean of empty slice\n",
      "  np.nanmean(traces[labels == i, :], 0) -\n",
      "c:\\users\\otprat\\repos\\luminance_analysis\\luminance_analysis\\plotting.py:229: RuntimeWarning: Mean of empty slice\n",
      "  np.nanmean(traces[labels == i, :], 0) -\n",
      "c:\\users\\otprat\\repos\\luminance_analysis\\luminance_analysis\\plotting.py:229: RuntimeWarning: Mean of empty slice\n",
      "  np.nanmean(traces[labels == i, :], 0) -\n",
      "c:\\users\\otprat\\repos\\luminance_analysis\\luminance_analysis\\plotting.py:229: RuntimeWarning: Mean of empty slice\n",
      "  np.nanmean(traces[labels == i, :], 0) -\n",
      "c:\\users\\otprat\\repos\\luminance_analysis\\luminance_analysis\\plotting.py:229: RuntimeWarning: Mean of empty slice\n",
      "  np.nanmean(traces[labels == i, :], 0) -\n",
      "c:\\users\\otprat\\repos\\luminance_analysis\\luminance_analysis\\plotting.py:229: RuntimeWarning: Mean of empty slice\n",
      "  np.nanmean(traces[labels == i, :], 0) -\n"
     ]
    }
   ],
   "source": [
    "protocol = \"steps\"\n",
    "data_dict = protocol_data_dict[protocol]\n",
    "stim_ref = PooledData(path = master_path / protocol / \"GC\").stimarray_rep\n",
    "\n",
    "colors = sns.color_palette()[:3]\n",
    "fig_clust = plt.figure(figsize=(7, 9))\n",
    "for i, (k, dendrolim, spacing, cbar, x_pos, color) in enumerate(zip([\"GC\", \"IO\", \"PC\"], [940, 112, 582],\n",
    "                                                [3, 5, 3], [False, False, True], [0.6, 0.3, 0.0], colors)):\n",
    "    f_hist = re_histogram(data_dict[k][\"rel_idxs\"], data_dict[k][\"rel_thr\"], fig_clust,  \n",
    "                          w=0.18, h=0.08, w_p=0.02, h_p=x_pos+0.26, color=color)\n",
    "    \n",
    "    meanresps = data_dict[k][\"resamp_mn_resps\"]  # data_dict[k][\"deconv_mn_resps\"]\n",
    "    smooth_mean_resps = pd.DataFrame(meanresps.T).rolling(4, center=True).mean().values.T\n",
    "    \n",
    "    fig_clust = plot_clusters_dendro(smooth_mean_resps, stim_ref,\n",
    "                                 data_dict[k][\"linkage_mat\"], data_dict[k][\"clust_labels\"], prefix=k,\n",
    "                                 figure=fig_clust, w=1., h=0.42, w_p=0.1, h_p=x_pos, f_lim=2,\n",
    "                                 dendrolims=(dendrolim, 0), gamma=0.4, spacing=spacing, colorbar=cbar)"
   ]
  },
  {
   "cell_type": "code",
   "execution_count": 12,
   "metadata": {},
   "outputs": [],
   "source": [
    "if fig_fold is not None:\n",
    "    fig_clust.savefig(str(fig_fold / \"steps_panel.pdf\"))"
   ]
  },
  {
   "cell_type": "code",
   "execution_count": 13,
   "metadata": {},
   "outputs": [
    {
     "name": "stdout",
     "output_type": "stream",
     "text": [
      "[<luminance_analysis.FishData object at 0x00000216AE07C488>, <luminance_analysis.FishData object at 0x00000216AE07C308>, <luminance_analysis.FishData object at 0x00000216C5687A48>, <luminance_analysis.FishData object at 0x00000216C5688F48>, <luminance_analysis.FishData object at 0x00000216C56994C8>]\n"
     ]
    },
    {
     "data": {
      "application/vnd.jupyter.widget-view+json": {
       "model_id": "47d1b5b6b051437ba30628a381d885b9",
       "version_major": 2,
       "version_minor": 0
      },
      "text/plain": [
       "Canvas(toolbar=Toolbar(toolitems=[('Home', 'Reset original view', 'home', 'home'), ('Back', 'Back to previous …"
      ]
     },
     "metadata": {},
     "output_type": "display_data"
    },
    {
     "name": "stderr",
     "output_type": "stream",
     "text": [
      "c:\\users\\otprat\\repos\\luminance_analysis\\luminance_analysis\\plotting.py:291: UserWarning: This figure includes Axes that are not compatible with tight_layout, so results might be incorrect.\n",
      "  plt.tight_layout()\n"
     ]
    },
    {
     "name": "stdout",
     "output_type": "stream",
     "text": [
      "[ 445  874 1379 2570]\n"
     ]
    },
    {
     "name": "stderr",
     "output_type": "stream",
     "text": [
      "c:\\users\\otprat\\repos\\luminance_analysis\\luminance_analysis\\plotting.py:229: RuntimeWarning: Mean of empty slice\n",
      "  np.nanmean(traces[labels == i, :], 0) -\n",
      "c:\\users\\otprat\\repos\\luminance_analysis\\luminance_analysis\\plotting.py:229: RuntimeWarning: Mean of empty slice\n",
      "  np.nanmean(traces[labels == i, :], 0) -\n",
      "c:\\users\\otprat\\repos\\luminance_analysis\\luminance_analysis\\plotting.py:229: RuntimeWarning: Mean of empty slice\n",
      "  np.nanmean(traces[labels == i, :], 0) -\n",
      "c:\\users\\otprat\\repos\\luminance_analysis\\luminance_analysis\\plotting.py:229: RuntimeWarning: Mean of empty slice\n",
      "  np.nanmean(traces[labels == i, :], 0) -\n",
      "c:\\users\\otprat\\repos\\luminance_analysis\\luminance_analysis\\plotting.py:291: UserWarning: This figure includes Axes that are not compatible with tight_layout, so results might be incorrect.\n",
      "  plt.tight_layout()\n"
     ]
    },
    {
     "name": "stdout",
     "output_type": "stream",
     "text": [
      "[ 2  8 10 13 26]\n"
     ]
    },
    {
     "name": "stderr",
     "output_type": "stream",
     "text": [
      "c:\\users\\otprat\\repos\\luminance_analysis\\luminance_analysis\\plotting.py:229: RuntimeWarning: Mean of empty slice\n",
      "  np.nanmean(traces[labels == i, :], 0) -\n",
      "c:\\users\\otprat\\repos\\luminance_analysis\\luminance_analysis\\plotting.py:229: RuntimeWarning: Mean of empty slice\n",
      "  np.nanmean(traces[labels == i, :], 0) -\n",
      "c:\\users\\otprat\\repos\\luminance_analysis\\luminance_analysis\\plotting.py:229: RuntimeWarning: Mean of empty slice\n",
      "  np.nanmean(traces[labels == i, :], 0) -\n",
      "c:\\users\\otprat\\repos\\luminance_analysis\\luminance_analysis\\plotting.py:229: RuntimeWarning: Mean of empty slice\n",
      "  np.nanmean(traces[labels == i, :], 0) -\n",
      "c:\\users\\otprat\\repos\\luminance_analysis\\luminance_analysis\\plotting.py:229: RuntimeWarning: Mean of empty slice\n",
      "  np.nanmean(traces[labels == i, :], 0) -\n",
      "c:\\users\\otprat\\repos\\luminance_analysis\\luminance_analysis\\plotting.py:291: UserWarning: This figure includes Axes that are not compatible with tight_layout, so results might be incorrect.\n",
      "  plt.tight_layout()\n"
     ]
    },
    {
     "name": "stdout",
     "output_type": "stream",
     "text": [
      "[103 221 514 690]\n"
     ]
    },
    {
     "name": "stderr",
     "output_type": "stream",
     "text": [
      "c:\\users\\otprat\\repos\\luminance_analysis\\luminance_analysis\\plotting.py:229: RuntimeWarning: Mean of empty slice\n",
      "  np.nanmean(traces[labels == i, :], 0) -\n",
      "c:\\users\\otprat\\repos\\luminance_analysis\\luminance_analysis\\plotting.py:229: RuntimeWarning: Mean of empty slice\n",
      "  np.nanmean(traces[labels == i, :], 0) -\n",
      "c:\\users\\otprat\\repos\\luminance_analysis\\luminance_analysis\\plotting.py:229: RuntimeWarning: Mean of empty slice\n",
      "  np.nanmean(traces[labels == i, :], 0) -\n",
      "c:\\users\\otprat\\repos\\luminance_analysis\\luminance_analysis\\plotting.py:229: RuntimeWarning: Mean of empty slice\n",
      "  np.nanmean(traces[labels == i, :], 0) -\n"
     ]
    }
   ],
   "source": [
    "protocol = \"flashes\"\n",
    "data_dict = protocol_data_dict[protocol]\n",
    "stim_ref = PooledData(path = master_path / protocol / \"GC\").stimarray_rep\n",
    "\n",
    "colors = sns.color_palette()\n",
    "fig_clust = plt.figure(figsize=(7, 9))\n",
    "for i, (k, dendrolim, spacing, cbar, x_pos, color) in enumerate(zip([\"GC\", \"IO\", \"PC\"], [940, 112, 582],\n",
    "                                                [3, 5, 3], [False, False, True], [0.6, 0.3, 0.0], colors)):\n",
    "    f_hist = re_histogram(data_dict[k][\"rel_idxs\"], data_dict[k][\"rel_thr\"], fig_clust,  \n",
    "                          w=0.18, h=0.08, w_p=0.02, h_p=x_pos+0.26, color=color)\n",
    "    \n",
    "    meanresps = data_dict[k][\"resamp_mn_resps\"]  # data_dict[k][\"deconv_mn_resps\"]\n",
    "    smooth_mean_resps = pd.DataFrame(meanresps.T).rolling(4, center=True).mean().values.T\n",
    "    \n",
    "    fig_clust = plot_clusters_dendro(smooth_mean_resps, stim_ref,\n",
    "                                 data_dict[k][\"linkage_mat\"], data_dict[k][\"clust_labels\"], prefix=k, \n",
    "                                 figure=fig_clust, w=1., h=0.42, w_p=0.1, h_p=x_pos, f_lim=2,\n",
    "                                 dendrolims=(dendrolim, 0), gamma=0.4, spacing=spacing, colorbar=cbar)"
   ]
  },
  {
   "cell_type": "code",
   "execution_count": 14,
   "metadata": {},
   "outputs": [],
   "source": [
    "if fig_fold is not None:\n",
    "    fig_clust.savefig(str(fig_fold / \"flashes_panel.pdf\"))"
   ]
  },
  {
   "cell_type": "markdown",
   "metadata": {},
   "source": [
    "#### Fish contributions to each cluster"
   ]
  },
  {
   "cell_type": "code",
   "execution_count": 15,
   "metadata": {},
   "outputs": [],
   "source": [
    "from luminance_analysis.plotting import add_offset_axes"
   ]
  },
  {
   "cell_type": "code",
   "execution_count": 16,
   "metadata": {},
   "outputs": [],
   "source": [
    "def plot_fish_contribution(protocol_data_dict, figure=None, frame=None):\n",
    "    \n",
    "    if figure is None:\n",
    "        figure = plt.figure(figsize=(9, 3))\n",
    "        \n",
    "    barWidth = 0.85\n",
    "    n_fish = 5\n",
    "    colors = (sns.color_palette(\"deep\", 10))\n",
    "    fish_contribution = {protocol:{} for protocol in protocol_data_dict.keys()}\n",
    "    brain_region = \"PC\"\n",
    "      \n",
    "    # Figure formatting parameters:\n",
    "    off = 0.1\n",
    "    size_f = 0.05\n",
    "    k_off = off\n",
    "    \n",
    "    for i, protocol in enumerate(protocol_data_dict.keys()):\n",
    "        data_dict = protocol_data_dict[protocol]\n",
    "        \n",
    "        clusters = np.unique(data_dict[brain_region]['clust_labels'])\n",
    "        n_clust = clusters.shape[0]\n",
    "        roi_map = data_dict[brain_region]['pooled_data'].roi_map\n",
    "\n",
    "        for fish in range(n_fish):\n",
    "            fish_labels = data_dict[brain_region]['clust_labels'][roi_map[0, :] == fish]\n",
    "            fish_contribution[protocol]['{} Fish {}'.format(brain_region, fish+1)] = np.array([np.sum(fish_labels == c) for c in range(n_clust)])\n",
    "\n",
    "        contributions_df = pd.DataFrame(fish_contribution[protocol])\n",
    "        ax_hist = add_offset_axes(figure, (k_off, 0.15, size_f*len(contributions_df), .7), frame=frame)\n",
    "        k_off += size_f*len(contributions_df) + off\n",
    "        \n",
    "        \n",
    "        for i, c in enumerate(contributions_df.columns):\n",
    "            ax_hist.bar(clusters+1, contributions_df[c], \n",
    "                        bottom=sum([contributions_df[prev] for prev in list(contributions_df.columns)[:i]]),\n",
    "                    width=barWidth, label=c, color=colors[i])\n",
    "\n",
    "        #ax_hist.legend()\n",
    "        ax_hist.set_xlabel(\"Cluster #\")\n",
    "        ax_hist.set_ylabel(\"Number of ROIs\")\n",
    "        ax_hist.text(.5, 1, protocol.capitalize(), ha='center', va='top', transform=ax_hist.transAxes, fontsize=8.5)\n",
    "        \n",
    "    plt.tight_layout()    \n",
    "    return(figure)"
   ]
  },
  {
   "cell_type": "code",
   "execution_count": 17,
   "metadata": {},
   "outputs": [
    {
     "data": {
      "application/vnd.jupyter.widget-view+json": {
       "model_id": "6e5102f06a824408b728a37adaee3db0",
       "version_major": 2,
       "version_minor": 0
      },
      "text/plain": [
       "Canvas(toolbar=Toolbar(toolitems=[('Home', 'Reset original view', 'home', 'home'), ('Back', 'Back to previous …"
      ]
     },
     "metadata": {},
     "output_type": "display_data"
    },
    {
     "name": "stderr",
     "output_type": "stream",
     "text": [
      "C:\\tools\\miniconda3\\envs\\rplab\\lib\\site-packages\\ipykernel_launcher.py:43: UserWarning: This figure includes Axes that are not compatible with tight_layout, so results might be incorrect.\n"
     ]
    },
    {
     "data": {
      "text/plain": [
       "Text(0.525, 0.9, 'B')"
      ]
     },
     "execution_count": 17,
     "metadata": {},
     "output_type": "execute_result"
    }
   ],
   "source": [
    "fig_fish_contrib = plot_fish_contribution(protocol_data_dict)\n",
    "\n",
    "fig_fish_contrib.text(.025, .9, 'A')\n",
    "fig_fish_contrib.text(.525, .9, 'B')"
   ]
  },
  {
   "cell_type": "code",
   "execution_count": 18,
   "metadata": {},
   "outputs": [],
   "source": [
    "if fig_fold is not None:\n",
    "    fig_fish_contrib.savefig(str(fig_fold / \"Fish_contributions.pdf\"))"
   ]
  },
  {
   "cell_type": "code",
   "execution_count": null,
   "metadata": {},
   "outputs": [],
   "source": []
  }
 ],
 "metadata": {
  "kernelspec": {
   "display_name": "Python 3",
   "language": "python",
   "name": "python3"
  },
  "language_info": {
   "codemirror_mode": {
    "name": "ipython",
    "version": 3
   },
   "file_extension": ".py",
   "mimetype": "text/x-python",
   "name": "python",
   "nbconvert_exporter": "python",
   "pygments_lexer": "ipython3",
   "version": "3.7.10"
  }
 },
 "nbformat": 4,
 "nbformat_minor": 4
}
