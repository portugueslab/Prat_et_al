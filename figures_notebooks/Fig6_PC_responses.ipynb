{
 "cells": [
  {
   "cell_type": "code",
   "execution_count": null,
   "metadata": {},
   "outputs": [],
   "source": [
    "# %matplotlib widget"
   ]
  },
  {
   "cell_type": "code",
   "execution_count": null,
   "metadata": {},
   "outputs": [],
   "source": [
    "import flammkuchen as fl\n",
    "from matplotlib import pyplot as plt\n",
    "import numpy as np\n",
    "from scipy import io\n",
    "import os\n",
    "import seaborn as sns\n",
    "import matplotlib.gridspec as gridspec\n",
    "from matplotlib.ticker import FormatStrFormatter\n",
    "from pathlib import Path\n",
    "import pandas as pd\n",
    "from luminance_analysis import PooledData, traces_stim_from_path, get_meanresp_during_interval\n",
    "\n",
    "plt.style.use(\"figures.mplstyle\")"
   ]
  },
  {
   "cell_type": "code",
   "execution_count": null,
   "metadata": {},
   "outputs": [],
   "source": [
    "fig_fold = Path(r\"C:\\Users\\otprat\\Documents\\figures\\luminance\\manuscript_figures\\fig6\")\n",
    "\n",
    "if not os.path.isdir(fig_fold):\n",
    "    os.mkdir(fig_fold)"
   ]
  },
  {
   "cell_type": "markdown",
   "metadata": {},
   "source": [
    "## Load all data"
   ]
  },
  {
   "cell_type": "code",
   "execution_count": null,
   "metadata": {},
   "outputs": [],
   "source": [
    "master_path = Path(r\"\\\\FUNES2\\legacy\\experiments\\E0032_luminance\\neat_exps\")\n",
    "# master_path = Path(r\"J:\\_Shared\\GC_IO_luminance\\data\\neat_exps\")\n",
    "# master_path = Path(r\"/Users/luigipetrucco/Desktop/data_dictionaries\")"
   ]
  },
  {
   "cell_type": "code",
   "execution_count": null,
   "metadata": {},
   "outputs": [],
   "source": [
    "from luminance_analysis.utilities import deconv_resamp_norm_trace, reliability, nanzscore\n",
    "from skimage.filters import threshold_otsu\n",
    "from scipy.cluster.hierarchy import dendrogram, linkage, cut_tree, to_tree, set_link_color_palette\n",
    "from luminance_analysis.plotting import plot_clusters_dendro, shade_plot, stim_plot, cluster_cols\n",
    "from luminance_analysis.clustering import cluster_id_search, find_trunc_dendro_clusters"
   ]
  },
  {
   "cell_type": "code",
   "execution_count": null,
   "metadata": {},
   "outputs": [],
   "source": [
    "tau_6f = 5\n",
    "tau_6s = 8\n",
    "ker_len = 20\n",
    "normalization = \"zscore\"\n",
    "\n",
    "\n",
    "brain_regions_list = [\"GC\", \"IO\", \"PC\"]\n",
    "tau_list = [tau_6f, tau_6f, tau_6s]\n",
    "nan_thr_list = [0, 1, 1]\n",
    "n_cluster_dict = dict(steps=[8, 6, 8], flashes=[4, 5, 4])\n",
    "\n",
    "protocol_data_dict = dict()\n",
    "\n",
    "for protocol in [\"steps\", \"flashes\"]:\n",
    "    #load stimulus of GCs and use it as a the reference for time array and stimulus array:\n",
    "    stim_ref = PooledData(path = master_path / protocol / \"GC\").stimarray_rep\n",
    "\n",
    "    # Get number of clusters for each protocol:\n",
    "    n_cluster_list = n_cluster_dict[protocol]\n",
    "    \n",
    "    data_dict = {k:{} for k in brain_regions_list}\n",
    "\n",
    "    for brain_region, tau, n_cluster, nan_thr in zip(brain_regions_list, tau_list, \n",
    "                                                     n_cluster_list, nan_thr_list):\n",
    "        #Load data :\n",
    "        path = master_path / protocol / brain_region\n",
    "        stim, traces, meanresps = traces_stim_from_path(path)\n",
    "\n",
    "        # Mean traces, calculate reliability index :\n",
    "        rel_idxs = reliability(traces)\n",
    "\n",
    "        # Find threshold from reliability histogram...\n",
    "        rel_thr = threshold_otsu(rel_idxs[~np.isnan(rel_idxs)])\n",
    "\n",
    "        # ...and load again filtering with the threshold:\n",
    "        _, traces, meanresps, pooled_data = traces_stim_from_path(path, resp_threshold=rel_thr, nanfraction_thr=nan_thr, return_pooled_data=True)\n",
    "\n",
    "        # Hierarchical clustering:\n",
    "        linked = linkage(meanresps, 'ward')\n",
    "\n",
    "        # Truncate dendrogram at n_cluster level:\n",
    "        plt.figure(figsize=(0.1, 0.1))  \n",
    "        dendro = dendrogram(linked, n_cluster, truncate_mode =\"lastp\")\n",
    "        plt.close()\n",
    "        cluster_ids = dendro[\"leaves\"]\n",
    "        labels = find_trunc_dendro_clusters(linked, dendro) \n",
    "\n",
    "        # Deconvolution, resampling / normalization:\n",
    "        deconv_meanresps = np.empty((meanresps.shape[0], stim_ref.shape[0]))\n",
    "        resamp_meanresps = np.empty((meanresps.shape[0], stim_ref.shape[0]))\n",
    "        for roi_i in range(deconv_meanresps.shape[0]):\n",
    "            deconv_meanresps[roi_i, :] = deconv_resamp_norm_trace(meanresps[roi_i, :], stim[:, 0],\n",
    "                                                                    stim_ref[:, 0], tau, ker_len,\n",
    "                                                                    smooth_wnd=4,\n",
    "                                                                    normalization=normalization)\n",
    "            resamp_meanresps[roi_i, :] = deconv_resamp_norm_trace(meanresps[roi_i, :], stim[:, 0],\n",
    "                                                                    stim_ref[:, 0], None, ker_len,\n",
    "                                                                    smooth_wnd=4,\n",
    "                                                                    normalization=normalization)\n",
    "\n",
    "        cluster_resps = np.empty((n_cluster, stim_ref.shape[0]))\n",
    "        for clust_i in range(n_cluster):\n",
    "            cluster_resp = np.nanmean(deconv_meanresps[labels==clust_i, :], 0)  # average cluster responses\n",
    "            cluster_resps[clust_i, :] = nanzscore(cluster_resp)  # normalize\n",
    "\n",
    "        # Get mean responses of all ROIs to the different luminances of the two step series (upward and downward)\n",
    "        start_after_stim = 2.5\n",
    "        post_int_s = 5\n",
    "        start_after_isi = 4.5\n",
    "        post_isi_s = 7\n",
    "        ##Calculate average activity during a luminance value when it was approached from below:\n",
    "        up_trans_t_sec = np.array([34, 46, 58]) #Times [s.] of upward transitions\n",
    "        resp_upward = get_meanresp_during_interval(path, up_trans_t_sec, start_after_stim, post_int_s, resp_threshold=rel_thr, nanfraction_thr=nan_thr)\n",
    "        resp_upward_isi = get_meanresp_during_interval(path, up_trans_t_sec-7, start_after_isi, post_isi_s, resp_threshold=rel_thr, nanfraction_thr=nan_thr)\n",
    "        ##Calculate average activity during a luminance value when it was approached from above:\n",
    "        down_trans_t_sec = np.array([101, 89, 77]) #Times [s.] of downward transitions (sorted to match order of upward transitions\n",
    "        resp_downward = get_meanresp_during_interval(path, down_trans_t_sec, start_after_stim, post_int_s, resp_threshold=rel_thr, nanfraction_thr=nan_thr)\n",
    "        resp_downward_isi = get_meanresp_during_interval(path, down_trans_t_sec-7, start_after_isi, post_isi_s, resp_threshold=rel_thr, nanfraction_thr=nan_thr)\n",
    "\n",
    "        # Add everything to dictionary:\n",
    "        data_dict[brain_region][\"linkage_mat\"] = linked\n",
    "        data_dict[brain_region][\"clust_labels\"] = labels\n",
    "        data_dict[brain_region][\"pooled_data\"] = pooled_data\n",
    "        data_dict[brain_region][\"raw_mn_resps\"] = meanresps\n",
    "        data_dict[brain_region][\"deconv_mn_resps\"] = deconv_meanresps\n",
    "        data_dict[brain_region][\"resamp_mn_resps\"] = resamp_meanresps\n",
    "        data_dict[brain_region][\"rel_idxs\"] = rel_idxs\n",
    "        data_dict[brain_region][\"rel_thr\"] = rel_thr\n",
    "        data_dict[brain_region][\"clust_resps\"] = cluster_resps\n",
    "        \n",
    "    protocol_data_dict[protocol] = data_dict"
   ]
  },
  {
   "cell_type": "markdown",
   "metadata": {},
   "source": [
    "### PC responses panels"
   ]
  },
  {
   "cell_type": "code",
   "execution_count": null,
   "metadata": {},
   "outputs": [],
   "source": [
    "from luminance_analysis.plotting import plot_clusters_dendro, re_histogram"
   ]
  },
  {
   "cell_type": "code",
   "execution_count": null,
   "metadata": {},
   "outputs": [],
   "source": [
    "color = sns.color_palette()[2]\n",
    "k = \"PC\"\n",
    "spacing = 3\n",
    "fig_clust = plt.figure(figsize=(7, 6))\n",
    "\n",
    "#for protocol in [\"steps\", \"flashes\"]:\n",
    "\n",
    "for i, (protocol, dendrolim, cbar, x_pos) in enumerate(zip([\"steps\", \"flashes\"], [392, 292], \n",
    "                                                           [False, True], [0.45, 0.0])):\n",
    "    data_dict = protocol_data_dict[protocol]\n",
    "    stim_ref = PooledData(path = master_path / protocol / \"GC\").stimarray_rep\n",
    "    f_hist = re_histogram(data_dict[k][\"rel_idxs\"], data_dict[k][\"rel_thr\"], fig_clust,  \n",
    "                          w=0.18, h=0.08, w_p=0.02, h_p=x_pos+0.42, color=color)\n",
    "\n",
    "    meanresps = data_dict[k][\"resamp_mn_resps\"]  # data_dict[k][\"deconv_mn_resps\"]\n",
    "    smooth_mean_resps = pd.DataFrame(meanresps.T).rolling(4, center=True).mean().values.T\n",
    "\n",
    "    fig_clust = plot_clusters_dendro(smooth_mean_resps, stim_ref,\n",
    "                                 data_dict[k][\"linkage_mat\"], data_dict[k][\"clust_labels\"], prefix=k,\n",
    "                                 figure=fig_clust, w=1., h=0.66, w_p=0.1, h_p=x_pos, f_lim=2,\n",
    "                                 dendrolims=(dendrolim, 0), gamma=0.4, spacing=spacing, colorbar=cbar)\n",
    "    \n",
    "fig_clust.text(0.01, 0.975, 'A')\n",
    "fig_clust.text(0.01, 0.525, 'B')"
   ]
  },
  {
   "cell_type": "code",
   "execution_count": null,
   "metadata": {},
   "outputs": [],
   "source": [
    "if fig_fold is not None:\n",
    "    fig_clust.savefig(str(fig_fold / \"fig6.pdf\"))"
   ]
  },
  {
   "cell_type": "markdown",
   "metadata": {},
   "source": [
    "### Supplementary panels with all responses together"
   ]
  },
  {
   "cell_type": "code",
   "execution_count": null,
   "metadata": {},
   "outputs": [],
   "source": [
    "fig_fold = Path(r\"C:\\Users\\otprat\\Documents\\figures\\luminance\\manuscript_figures\\fig6supp\")\n",
    "\n",
    "if not os.path.isdir(fig_fold):\n",
    "    os.mkdir(fig_fold)"
   ]
  },
  {
   "cell_type": "code",
   "execution_count": null,
   "metadata": {},
   "outputs": [],
   "source": [
    "protocol = \"steps\"\n",
    "data_dict = protocol_data_dict[protocol]\n",
    "stim_ref = PooledData(path = master_path / protocol / \"GC\").stimarray_rep\n",
    "\n",
    "colors = sns.color_palette()[:3]\n",
    "fig_clust = plt.figure(figsize=(7, 9))\n",
    "for i, (k, dendrolim, spacing, cbar, x_pos, color) in enumerate(zip([\"GC\", \"IO\", \"PC\"], [940, 112, 582],\n",
    "                                                [3, 5, 3], [False, False, True], [0.6, 0.3, 0.0], colors)):\n",
    "    f_hist = re_histogram(data_dict[k][\"rel_idxs\"], data_dict[k][\"rel_thr\"], fig_clust,  \n",
    "                          w=0.18, h=0.08, w_p=0.02, h_p=x_pos+0.26, color=color)\n",
    "    \n",
    "    meanresps = data_dict[k][\"resamp_mn_resps\"]  # data_dict[k][\"deconv_mn_resps\"]\n",
    "    smooth_mean_resps = pd.DataFrame(meanresps.T).rolling(4, center=True).mean().values.T\n",
    "    \n",
    "    fig_clust = plot_clusters_dendro(smooth_mean_resps, stim_ref,\n",
    "                                 data_dict[k][\"linkage_mat\"], data_dict[k][\"clust_labels\"], prefix=k,\n",
    "                                 figure=fig_clust, w=1., h=0.42, w_p=0.1, h_p=x_pos, f_lim=2,\n",
    "                                 dendrolims=(dendrolim, 0), gamma=0.4, spacing=spacing, colorbar=cbar)"
   ]
  },
  {
   "cell_type": "code",
   "execution_count": null,
   "metadata": {},
   "outputs": [],
   "source": [
    "if fig_fold is not None:\n",
    "    fig_clust.savefig(str(fig_fold / \"steps_panel.pdf\"))"
   ]
  },
  {
   "cell_type": "code",
   "execution_count": null,
   "metadata": {},
   "outputs": [],
   "source": [
    "protocol = \"flashes\"\n",
    "data_dict = protocol_data_dict[protocol]\n",
    "stim_ref = PooledData(path = master_path / protocol / \"GC\").stimarray_rep\n",
    "\n",
    "colors = sns.color_palette()\n",
    "fig_clust = plt.figure(figsize=(7, 9))\n",
    "for i, (k, dendrolim, spacing, cbar, x_pos, color) in enumerate(zip([\"GC\", \"IO\", \"PC\"], [940, 112, 582],\n",
    "                                                [3, 5, 3], [False, False, True], [0.6, 0.3, 0.0], colors)):\n",
    "    f_hist = re_histogram(data_dict[k][\"rel_idxs\"], data_dict[k][\"rel_thr\"], fig_clust,  \n",
    "                          w=0.18, h=0.08, w_p=0.02, h_p=x_pos+0.26, color=color)\n",
    "    \n",
    "    meanresps = data_dict[k][\"resamp_mn_resps\"]  # data_dict[k][\"deconv_mn_resps\"]\n",
    "    smooth_mean_resps = pd.DataFrame(meanresps.T).rolling(4, center=True).mean().values.T\n",
    "    \n",
    "    fig_clust = plot_clusters_dendro(smooth_mean_resps, stim_ref,\n",
    "                                 data_dict[k][\"linkage_mat\"], data_dict[k][\"clust_labels\"], prefix=k, \n",
    "                                 figure=fig_clust, w=1., h=0.42, w_p=0.1, h_p=x_pos, f_lim=2,\n",
    "                                 dendrolims=(dendrolim, 0), gamma=0.4, spacing=spacing, colorbar=cbar)"
   ]
  },
  {
   "cell_type": "code",
   "execution_count": null,
   "metadata": {},
   "outputs": [],
   "source": [
    "if fig_fold is not None:\n",
    "    fig_clust.savefig(str(fig_fold / \"flashes_panel.pdf\"))"
   ]
  },
  {
   "cell_type": "markdown",
   "metadata": {},
   "source": [
    "#### Fish contributions to each cluster"
   ]
  },
  {
   "cell_type": "code",
   "execution_count": null,
   "metadata": {},
   "outputs": [],
   "source": [
    "from luminance_analysis.plotting import add_offset_axes"
   ]
  },
  {
   "cell_type": "code",
   "execution_count": null,
   "metadata": {},
   "outputs": [],
   "source": [
    "def plot_fish_contribution(protocol_data_dict, figure=None, frame=None):\n",
    "    \n",
    "    if figure is None:\n",
    "        figure = plt.figure(figsize=(9, 3))\n",
    "        \n",
    "    barWidth = 0.85\n",
    "    n_fish = 5\n",
    "    colors = (sns.color_palette(\"deep\", 10))\n",
    "    fish_contribution = {protocol:{} for protocol in protocol_data_dict.keys()}\n",
    "    brain_region = \"PC\"\n",
    "      \n",
    "    # Figure formatting parameters:\n",
    "    off = 0.1\n",
    "    size_f = 0.05\n",
    "    k_off = off\n",
    "    \n",
    "    for i, protocol in enumerate(protocol_data_dict.keys()):\n",
    "        data_dict = protocol_data_dict[protocol]\n",
    "        \n",
    "        clusters = np.unique(data_dict[brain_region]['clust_labels'])\n",
    "        n_clust = clusters.shape[0]\n",
    "        roi_map = data_dict[brain_region]['pooled_data'].roi_map\n",
    "\n",
    "        for fish in range(n_fish):\n",
    "            fish_labels = data_dict[brain_region]['clust_labels'][roi_map[0, :] == fish]\n",
    "            fish_contribution[protocol]['{} Fish {}'.format(brain_region, fish+1)] = np.array([np.sum(fish_labels == c) for c in range(n_clust)])\n",
    "\n",
    "        contributions_df = pd.DataFrame(fish_contribution[protocol])\n",
    "        ax_hist = add_offset_axes(figure, (k_off, 0.15, size_f*len(contributions_df), .7), frame=frame)\n",
    "        k_off += size_f*len(contributions_df) + off\n",
    "        \n",
    "        \n",
    "        for i, c in enumerate(contributions_df.columns):\n",
    "            ax_hist.bar(clusters+1, contributions_df[c], \n",
    "                        bottom=sum([contributions_df[prev] for prev in list(contributions_df.columns)[:i]]),\n",
    "                    width=barWidth, label=c, color=colors[i])\n",
    "\n",
    "        #ax_hist.legend()\n",
    "        ax_hist.set_xlabel(\"Cluster #\")\n",
    "        ax_hist.set_ylabel(\"Number of ROIs\")\n",
    "        ax_hist.text(.5, 1, protocol.capitalize(), ha='center', va='top', transform=ax_hist.transAxes, fontsize=8.5)\n",
    "        \n",
    "    plt.tight_layout()    \n",
    "    return(figure)"
   ]
  },
  {
   "cell_type": "code",
   "execution_count": null,
   "metadata": {},
   "outputs": [],
   "source": [
    "fig_fish_contrib = plot_fish_contribution(protocol_data_dict)\n",
    "\n",
    "fig_fish_contrib.text(.025, .9, 'A')\n",
    "fig_fish_contrib.text(.525, .9, 'B')"
   ]
  },
  {
   "cell_type": "code",
   "execution_count": null,
   "metadata": {},
   "outputs": [],
   "source": [
    "if fig_fold is not None:\n",
    "    fig_fish_contrib.savefig(str(fig_fold / \"fig6_supplementary.pdf\"))"
   ]
  },
  {
   "cell_type": "code",
   "execution_count": null,
   "metadata": {},
   "outputs": [],
   "source": []
  }
 ],
 "metadata": {
  "kernelspec": {
   "display_name": "Python 3 (ipykernel)",
   "language": "python",
   "name": "python3"
  },
  "language_info": {
   "codemirror_mode": {
    "name": "ipython",
    "version": 3
   },
   "file_extension": ".py",
   "mimetype": "text/x-python",
   "name": "python",
   "nbconvert_exporter": "python",
   "pygments_lexer": "ipython3",
   "version": "3.8.10"
  }
 },
 "nbformat": 4,
 "nbformat_minor": 4
}
