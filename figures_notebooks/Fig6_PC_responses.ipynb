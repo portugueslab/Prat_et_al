{
 "cells": [
  {
   "cell_type": "code",
   "execution_count": 1,
   "metadata": {},
   "outputs": [],
   "source": [
    "%matplotlib widget"
   ]
  },
  {
   "cell_type": "code",
   "execution_count": 2,
   "metadata": {},
   "outputs": [],
   "source": [
    "import flammkuchen as fl\n",
    "from matplotlib import pyplot as plt\n",
    "import numpy as np\n",
    "from scipy import io\n",
    "import os\n",
    "import seaborn as sns\n",
    "import matplotlib.gridspec as gridspec\n",
    "from matplotlib.ticker import FormatStrFormatter\n",
    "from pathlib import Path\n",
    "import pandas as pd\n",
    "from luminance_analysis import PooledData, traces_stim_from_path, get_meanresp_during_interval\n",
    "\n",
    "plt.style.use(\"figures.mplstyle\")"
   ]
  },
  {
   "cell_type": "code",
   "execution_count": 3,
   "metadata": {},
   "outputs": [],
   "source": [
    "fig_fold = Path(r\"C:\\Users\\otprat\\Documents\\figures\\luminance\\manuscript_figures\\fig6\")\n",
    "\n",
    "if not os.path.isdir(fig_fold):\n",
    "    os.mkdir(fig_fold)"
   ]
  },
  {
   "cell_type": "markdown",
   "metadata": {},
   "source": [
    "## Load all data"
   ]
  },
  {
   "cell_type": "code",
   "execution_count": 4,
   "metadata": {},
   "outputs": [],
   "source": [
    "master_path = Path(r\"\\\\FUNES\\Shared\\experiments\\E0032_luminance\\neat_exps\")\n",
    "# master_path = Path(r\"J:\\_Shared\\GC_IO_luminance\\data\\neat_exps\")\n",
    "# master_path = Path(r\"/Users/luigipetrucco/Desktop/data_dictionaries\")"
   ]
  },
  {
   "cell_type": "code",
   "execution_count": 5,
   "metadata": {},
   "outputs": [],
   "source": [
    "from luminance_analysis.utilities import deconv_resamp_norm_trace, reliability, nanzscore\n",
    "from skimage.filters import threshold_otsu\n",
    "from scipy.cluster.hierarchy import dendrogram, linkage, cut_tree, to_tree, set_link_color_palette\n",
    "from luminance_analysis.plotting import plot_clusters_dendro, shade_plot, stim_plot, cluster_cols\n",
    "from luminance_analysis.clustering import cluster_id_search, find_trunc_dendro_clusters"
   ]
  },
  {
   "cell_type": "code",
   "execution_count": 6,
   "metadata": {},
   "outputs": [
    {
     "name": "stdout",
     "output_type": "stream",
     "text": [
      "[<luminance_analysis.FishData object at 0x0000022120AFC408>, <luminance_analysis.FishData object at 0x0000022120AFC488>, <luminance_analysis.FishData object at 0x0000022120ADDF08>, <luminance_analysis.FishData object at 0x0000022120AD9708>, <luminance_analysis.FishData object at 0x0000022120ADFEC8>]\n",
      "[<luminance_analysis.FishData object at 0x0000022120AD5EC8>, <luminance_analysis.FishData object at 0x0000022120AD5E48>, <luminance_analysis.FishData object at 0x0000022120AD9DC8>, <luminance_analysis.FishData object at 0x0000022120ADF988>, <luminance_analysis.FishData object at 0x0000022120AE5508>]\n"
     ]
    },
    {
     "name": "stderr",
     "output_type": "stream",
     "text": [
      "C:\\tools\\miniconda3\\envs\\rplab\\lib\\site-packages\\numpy\\lib\\function_base.py:2642: RuntimeWarning: invalid value encountered in true_divide\n",
      "  c /= stddev[:, None]\n",
      "C:\\tools\\miniconda3\\envs\\rplab\\lib\\site-packages\\numpy\\lib\\function_base.py:2643: RuntimeWarning: invalid value encountered in true_divide\n",
      "  c /= stddev[None, :]\n"
     ]
    },
    {
     "name": "stdout",
     "output_type": "stream",
     "text": [
      "[<luminance_analysis.FishData object at 0x00000221217CC348>, <luminance_analysis.FishData object at 0x00000221217CC3C8>, <luminance_analysis.FishData object at 0x00000221217CF988>, <luminance_analysis.FishData object at 0x00000221217D0F48>, <luminance_analysis.FishData object at 0x00000221217D2548>]\n"
     ]
    },
    {
     "data": {
      "application/vnd.jupyter.widget-view+json": {
       "model_id": "2fe181f434754174a8b0c9ac944629f8",
       "version_major": 2,
       "version_minor": 0
      },
      "text/plain": [
       "Canvas(toolbar=Toolbar(toolitems=[('Home', 'Reset original view', 'home', 'home'), ('Back', 'Back to previous …"
      ]
     },
     "metadata": {},
     "output_type": "display_data"
    },
    {
     "name": "stdout",
     "output_type": "stream",
     "text": [
      "[<luminance_analysis.FishData object at 0x00000221219A2B08>, <luminance_analysis.FishData object at 0x00000221219A2B88>, <luminance_analysis.FishData object at 0x00000221219AC108>, <luminance_analysis.FishData object at 0x00000221219AE648>, <luminance_analysis.FishData object at 0x00000221219B6B88>]\n",
      "[<luminance_analysis.FishData object at 0x00000221219A5BC8>, <luminance_analysis.FishData object at 0x00000221219A5B48>, <luminance_analysis.FishData object at 0x00000221219ACB48>, <luminance_analysis.FishData object at 0x00000221219B4508>, <luminance_analysis.FishData object at 0x0000022121833708>]\n",
      "[<luminance_analysis.FishData object at 0x000002212182BF88>, <luminance_analysis.FishData object at 0x000002212182BBC8>, <luminance_analysis.FishData object at 0x00000221219ACF48>, <luminance_analysis.FishData object at 0x00000221219B6448>, <luminance_analysis.FishData object at 0x0000022121833C48>]\n",
      "[<luminance_analysis.FishData object at 0x000002212182BAC8>, <luminance_analysis.FishData object at 0x00000221219B4188>, <luminance_analysis.FishData object at 0x00000221219B5648>, <luminance_analysis.FishData object at 0x00000221219B6A08>, <luminance_analysis.FishData object at 0x00000221219A5688>]\n",
      "[<luminance_analysis.FishData object at 0x00000221219B45C8>, <luminance_analysis.FishData object at 0x00000221219B4788>, <luminance_analysis.FishData object at 0x00000221219B5F88>, <luminance_analysis.FishData object at 0x00000221219B6308>, <luminance_analysis.FishData object at 0x00000221219AECC8>]\n",
      "[<luminance_analysis.FishData object at 0x000002212183D088>, <luminance_analysis.FishData object at 0x0000022121803E08>, <luminance_analysis.FishData object at 0x00000221219B5448>, <luminance_analysis.FishData object at 0x00000221219AE588>, <luminance_analysis.FishData object at 0x00000221219B4908>]\n"
     ]
    },
    {
     "data": {
      "application/vnd.jupyter.widget-view+json": {
       "model_id": "cf03fb00d361480fb275df2085408035",
       "version_major": 2,
       "version_minor": 0
      },
      "text/plain": [
       "Canvas(toolbar=Toolbar(toolitems=[('Home', 'Reset original view', 'home', 'home'), ('Back', 'Back to previous …"
      ]
     },
     "metadata": {},
     "output_type": "display_data"
    },
    {
     "name": "stdout",
     "output_type": "stream",
     "text": [
      "[<luminance_analysis.FishData object at 0x0000022120E46748>, <luminance_analysis.FishData object at 0x0000022120E467C8>, <luminance_analysis.FishData object at 0x0000022120E53D08>, <luminance_analysis.FishData object at 0x0000022120E4D588>, <luminance_analysis.FishData object at 0x0000022120E5CDC8>]\n",
      "[<luminance_analysis.FishData object at 0x0000022120E49CC8>, <luminance_analysis.FishData object at 0x0000022120E49C08>, <luminance_analysis.FishData object at 0x0000022120E4DB08>, <luminance_analysis.FishData object at 0x00000221218A0048>, <luminance_analysis.FishData object at 0x0000022120E56F48>]\n",
      "[<luminance_analysis.FishData object at 0x0000022120E513C8>, <luminance_analysis.FishData object at 0x0000022120E51388>, <luminance_analysis.FishData object at 0x0000022120E4D088>, <luminance_analysis.FishData object at 0x0000022120E56B08>, <luminance_analysis.FishData object at 0x0000022120E63708>]\n",
      "[<luminance_analysis.FishData object at 0x000002212189CC88>, <luminance_analysis.FishData object at 0x00000221219CEC88>, <luminance_analysis.FishData object at 0x0000022120E62988>, <luminance_analysis.FishData object at 0x0000022120E58548>, <luminance_analysis.FishData object at 0x0000022120E51588>]\n",
      "[<luminance_analysis.FishData object at 0x00000221218A0888>, <luminance_analysis.FishData object at 0x00000221218AA148>, <luminance_analysis.FishData object at 0x0000022120E63748>, <luminance_analysis.FishData object at 0x0000022120E51288>, <luminance_analysis.FishData object at 0x0000022120E6C948>]\n",
      "[<luminance_analysis.FishData object at 0x00000221218AA208>, <luminance_analysis.FishData object at 0x00000221219CEC08>, <luminance_analysis.FishData object at 0x0000022120E58208>, <luminance_analysis.FishData object at 0x0000022120E46648>, <luminance_analysis.FishData object at 0x0000022120E66A08>]\n"
     ]
    },
    {
     "data": {
      "application/vnd.jupyter.widget-view+json": {
       "model_id": "5663a9e1657f4e0b8a4b82de7b7d40d8",
       "version_major": 2,
       "version_minor": 0
      },
      "text/plain": [
       "Canvas(toolbar=Toolbar(toolitems=[('Home', 'Reset original view', 'home', 'home'), ('Back', 'Back to previous …"
      ]
     },
     "metadata": {},
     "output_type": "display_data"
    },
    {
     "name": "stdout",
     "output_type": "stream",
     "text": [
      "[<luminance_analysis.FishData object at 0x0000022120EDE108>, <luminance_analysis.FishData object at 0x0000022120EDD188>, <luminance_analysis.FishData object at 0x0000022120ED82C8>, <luminance_analysis.FishData object at 0x0000022120EE9448>, <luminance_analysis.FishData object at 0x0000022120EE3788>]\n",
      "[<luminance_analysis.FishData object at 0x0000022120EDD3C8>, <luminance_analysis.FishData object at 0x0000022120EDDE48>, <luminance_analysis.FishData object at 0x0000022120EE93C8>, <luminance_analysis.FishData object at 0x0000022120E681C8>, <luminance_analysis.FishData object at 0x0000022120EEAC88>]\n",
      "[<luminance_analysis.FishData object at 0x0000022120ED8588>, <luminance_analysis.FishData object at 0x0000022120ED8888>, <luminance_analysis.FishData object at 0x0000022120EF2C08>, <luminance_analysis.FishData object at 0x0000022120EE96C8>, <luminance_analysis.FishData object at 0x0000022120F01B88>]\n",
      "[<luminance_analysis.FishData object at 0x0000022120E7C6C8>, <luminance_analysis.FishData object at 0x0000022120E82488>, <luminance_analysis.FishData object at 0x0000022120E80188>, <luminance_analysis.FishData object at 0x00000221219CE648>, <luminance_analysis.FishData object at 0x0000022120F01848>]\n",
      "[<luminance_analysis.FishData object at 0x0000022120EEDC48>, <luminance_analysis.FishData object at 0x0000022120EED148>, <luminance_analysis.FishData object at 0x0000022120EF2188>, <luminance_analysis.FishData object at 0x0000022120E69A88>, <luminance_analysis.FishData object at 0x0000022120F015C8>]\n",
      "[<luminance_analysis.FishData object at 0x0000022120E681C8>, <luminance_analysis.FishData object at 0x0000022120E68F08>, <luminance_analysis.FishData object at 0x0000022120EEE988>, <luminance_analysis.FishData object at 0x0000022120EF2308>, <luminance_analysis.FishData object at 0x0000022120F01A08>]\n"
     ]
    },
    {
     "name": "stderr",
     "output_type": "stream",
     "text": [
      "c:\\users\\otprat\\repos\\luminance_analysis\\luminance_analysis\\__init__.py:448: RuntimeWarning: Mean of empty slice\n",
      "  meanresps = np.nanmean(traces, 2)\n",
      "c:\\users\\otprat\\repos\\luminance_analysis\\luminance_analysis\\utilities.py:86: RuntimeWarning: Mean of empty slice\n",
      "  reliability[i] = np.nanmean(corr)\n"
     ]
    },
    {
     "name": "stdout",
     "output_type": "stream",
     "text": [
      "[<luminance_analysis.FishData object at 0x0000022120EED248>, <luminance_analysis.FishData object at 0x0000022120EEDC88>, <luminance_analysis.FishData object at 0x0000022120EEE508>, <luminance_analysis.FishData object at 0x0000022120EF23C8>, <luminance_analysis.FishData object at 0x0000022120ED8108>]\n"
     ]
    },
    {
     "data": {
      "application/vnd.jupyter.widget-view+json": {
       "model_id": "dbd1fef1ab3247a89095c8b5e9f603d0",
       "version_major": 2,
       "version_minor": 0
      },
      "text/plain": [
       "Canvas(toolbar=Toolbar(toolitems=[('Home', 'Reset original view', 'home', 'home'), ('Back', 'Back to previous …"
      ]
     },
     "metadata": {},
     "output_type": "display_data"
    },
    {
     "name": "stdout",
     "output_type": "stream",
     "text": [
      "[<luminance_analysis.FishData object at 0x000002212139D148>, <luminance_analysis.FishData object at 0x000002212139D1C8>, <luminance_analysis.FishData object at 0x000002212139C688>, <luminance_analysis.FishData object at 0x000002212139AB88>, <luminance_analysis.FishData object at 0x00000221213960C8>]\n"
     ]
    },
    {
     "name": "stderr",
     "output_type": "stream",
     "text": [
      "c:\\users\\otprat\\repos\\luminance_analysis\\luminance_analysis\\__init__.py:471: RuntimeWarning: Mean of empty slice\n",
      "  for t in timepoints])\n"
     ]
    },
    {
     "name": "stdout",
     "output_type": "stream",
     "text": [
      "[<luminance_analysis.FishData object at 0x000002212139DD48>, <luminance_analysis.FishData object at 0x000002212139DCC8>, <luminance_analysis.FishData object at 0x0000022121398808>, <luminance_analysis.FishData object at 0x000002212139C808>, <luminance_analysis.FishData object at 0x0000022121396288>]\n",
      "[<luminance_analysis.FishData object at 0x000002212139D288>, <luminance_analysis.FishData object at 0x000002212139D4C8>, <luminance_analysis.FishData object at 0x0000022121398148>, <luminance_analysis.FishData object at 0x000002212139C708>, <luminance_analysis.FishData object at 0x00000221216E5908>]\n",
      "[<luminance_analysis.FishData object at 0x000002212138D3C8>, <luminance_analysis.FishData object at 0x0000022120F15908>, <luminance_analysis.FishData object at 0x0000022120EEA448>, <luminance_analysis.FishData object at 0x00000221216F3908>, <luminance_analysis.FishData object at 0x00000221216EA688>]\n",
      "[<luminance_analysis.FishData object at 0x0000022120EF8948>, <luminance_analysis.FishData object at 0x000002212138D688>, <luminance_analysis.FishData object at 0x000002212139D6C8>, <luminance_analysis.FishData object at 0x00000221216F3F48>, <luminance_analysis.FishData object at 0x0000022120EEA408>]\n",
      "[<luminance_analysis.FishData object at 0x0000022120F153C8>, <luminance_analysis.FishData object at 0x0000022120F15908>, <luminance_analysis.FishData object at 0x000002212139DB88>, <luminance_analysis.FishData object at 0x00000221216F3848>, <luminance_analysis.FishData object at 0x0000022120EEA348>]\n"
     ]
    },
    {
     "data": {
      "application/vnd.jupyter.widget-view+json": {
       "model_id": "d707178272f542e6b51787cb2bdd0761",
       "version_major": 2,
       "version_minor": 0
      },
      "text/plain": [
       "Canvas(toolbar=Toolbar(toolitems=[('Home', 'Reset original view', 'home', 'home'), ('Back', 'Back to previous …"
      ]
     },
     "metadata": {},
     "output_type": "display_data"
    },
    {
     "name": "stdout",
     "output_type": "stream",
     "text": [
      "[<luminance_analysis.FishData object at 0x00000221210B8808>, <luminance_analysis.FishData object at 0x00000221210B8888>, <luminance_analysis.FishData object at 0x00000221210BAE08>, <luminance_analysis.FishData object at 0x00000221210B9408>, <luminance_analysis.FishData object at 0x00000221210C59C8>]\n",
      "[<luminance_analysis.FishData object at 0x00000221210B8E88>, <luminance_analysis.FishData object at 0x00000221210B8DC8>, <luminance_analysis.FishData object at 0x00000221216E3188>, <luminance_analysis.FishData object at 0x00000221210C5708>, <luminance_analysis.FishData object at 0x00000221210BFA48>]\n",
      "[<luminance_analysis.FishData object at 0x00000221210B73C8>, <luminance_analysis.FishData object at 0x00000221210B72C8>, <luminance_analysis.FishData object at 0x00000221210B9D88>, <luminance_analysis.FishData object at 0x00000221210C5208>, <luminance_analysis.FishData object at 0x000002212139E708>]\n",
      "[<luminance_analysis.FishData object at 0x00000221216ECC88>, <luminance_analysis.FishData object at 0x00000221216EC648>, <luminance_analysis.FishData object at 0x00000221210C5F08>, <luminance_analysis.FishData object at 0x00000221210BF148>, <luminance_analysis.FishData object at 0x00000221210B8AC8>]\n",
      "[<luminance_analysis.FishData object at 0x00000221216ECE48>, <luminance_analysis.FishData object at 0x00000221216EC648>, <luminance_analysis.FishData object at 0x000002212138DDC8>, <luminance_analysis.FishData object at 0x00000221210C0308>, <luminance_analysis.FishData object at 0x00000221210BC588>]\n",
      "[<luminance_analysis.FishData object at 0x00000221210C54C8>, <luminance_analysis.FishData object at 0x00000221210C5808>, <luminance_analysis.FishData object at 0x00000221216E3808>, <luminance_analysis.FishData object at 0x00000221210B7E88>, <luminance_analysis.FishData object at 0x00000221210C0888>]\n"
     ]
    },
    {
     "data": {
      "application/vnd.jupyter.widget-view+json": {
       "model_id": "a8d2ecaae6db4a21aa0189b47d09c074",
       "version_major": 2,
       "version_minor": 0
      },
      "text/plain": [
       "Canvas(toolbar=Toolbar(toolitems=[('Home', 'Reset original view', 'home', 'home'), ('Back', 'Back to previous …"
      ]
     },
     "metadata": {},
     "output_type": "display_data"
    },
    {
     "name": "stdout",
     "output_type": "stream",
     "text": [
      "[<luminance_analysis.FishData object at 0x00000221212B9C88>, <luminance_analysis.FishData object at 0x00000221212B9D08>, <luminance_analysis.FishData object at 0x00000221212CAE48>, <luminance_analysis.FishData object at 0x00000221212C8F08>, <luminance_analysis.FishData object at 0x00000221212B2288>]\n",
      "[<luminance_analysis.FishData object at 0x00000221212B8D08>, <luminance_analysis.FishData object at 0x00000221212B8B88>, <luminance_analysis.FishData object at 0x00000221212B6F08>, <luminance_analysis.FishData object at 0x00000221212C1A08>, <luminance_analysis.FishData object at 0x00000221212C60C8>]\n",
      "[<luminance_analysis.FishData object at 0x00000221212B7448>, <luminance_analysis.FishData object at 0x00000221212B7408>, <luminance_analysis.FishData object at 0x00000221212B2288>, <luminance_analysis.FishData object at 0x00000221210E3088>, <luminance_analysis.FishData object at 0x00000221212B94C8>]\n",
      "[<luminance_analysis.FishData object at 0x00000221212CE0C8>, <luminance_analysis.FishData object at 0x00000221212CEB48>, <luminance_analysis.FishData object at 0x00000221212B66C8>, <luminance_analysis.FishData object at 0x00000221212D1708>, <luminance_analysis.FishData object at 0x00000221212C65C8>]\n"
     ]
    }
   ],
   "source": [
    "tau_6f = 5\n",
    "tau_6s = 8\n",
    "ker_len = 20\n",
    "normalization = \"zscore\"\n",
    "\n",
    "\n",
    "brain_regions_list = [\"GC\", \"IO\", \"PC\"]\n",
    "tau_list = [tau_6f, tau_6f, tau_6s]\n",
    "nan_thr_list = [0, 1, 1]\n",
    "n_cluster_dict = dict(steps=[8, 6, 8], flashes=[4, 5, 4])\n",
    "\n",
    "protocol_data_dict = dict()\n",
    "\n",
    "for protocol in [\"steps\", \"flashes\"]:\n",
    "    #load stimulus of GCs and use it as a the reference for time array and stimulus array:\n",
    "    stim_ref = PooledData(path = master_path / protocol / \"GC\").stimarray_rep\n",
    "\n",
    "    # Get number of clusters for each protocol:\n",
    "    n_cluster_list = n_cluster_dict[protocol]\n",
    "    \n",
    "    data_dict = {k:{} for k in brain_regions_list}\n",
    "\n",
    "    for brain_region, tau, n_cluster, nan_thr in zip(brain_regions_list, tau_list, \n",
    "                                                     n_cluster_list, nan_thr_list):\n",
    "        #Load data :\n",
    "        path = master_path / protocol / brain_region\n",
    "        stim, traces, meanresps = traces_stim_from_path(path)\n",
    "\n",
    "        # Mean traces, calculate reliability index :\n",
    "        rel_idxs = reliability(traces)\n",
    "\n",
    "        # Find threshold from reliability histogram...\n",
    "        rel_thr = threshold_otsu(rel_idxs[~np.isnan(rel_idxs)])\n",
    "\n",
    "        # ...and load again filtering with the threshold:\n",
    "        _, traces, meanresps, pooled_data = traces_stim_from_path(path, resp_threshold=rel_thr, nanfraction_thr=nan_thr, return_pooled_data=True)\n",
    "\n",
    "        # Hierarchical clustering:\n",
    "        linked = linkage(meanresps, 'ward')\n",
    "\n",
    "        # Truncate dendrogram at n_cluster level:\n",
    "        plt.figure(figsize=(0.1, 0.1))  \n",
    "        dendro = dendrogram(linked, n_cluster, truncate_mode =\"lastp\")\n",
    "        plt.close()\n",
    "        cluster_ids = dendro[\"leaves\"]\n",
    "        labels = find_trunc_dendro_clusters(linked, dendro) \n",
    "\n",
    "        # Deconvolution, resampling / normalization:\n",
    "        deconv_meanresps = np.empty((meanresps.shape[0], stim_ref.shape[0]))\n",
    "        resamp_meanresps = np.empty((meanresps.shape[0], stim_ref.shape[0]))\n",
    "        for roi_i in range(deconv_meanresps.shape[0]):\n",
    "            deconv_meanresps[roi_i, :] = deconv_resamp_norm_trace(meanresps[roi_i, :], stim[:, 0],\n",
    "                                                                    stim_ref[:, 0], tau, ker_len,\n",
    "                                                                    smooth_wnd=4,\n",
    "                                                                    normalization=normalization)\n",
    "            resamp_meanresps[roi_i, :] = deconv_resamp_norm_trace(meanresps[roi_i, :], stim[:, 0],\n",
    "                                                                    stim_ref[:, 0], None, ker_len,\n",
    "                                                                    smooth_wnd=4,\n",
    "                                                                    normalization=normalization)\n",
    "\n",
    "        cluster_resps = np.empty((n_cluster, stim_ref.shape[0]))\n",
    "        for clust_i in range(n_cluster):\n",
    "            cluster_resp = np.nanmean(deconv_meanresps[labels==clust_i, :], 0)  # average cluster responses\n",
    "            cluster_resps[clust_i, :] = nanzscore(cluster_resp)  # normalize\n",
    "\n",
    "        # Get mean responses of all ROIs to the different luminances of the two step series (upward and downward)\n",
    "        start_after_stim = 2.5\n",
    "        post_int_s = 5\n",
    "        start_after_isi = 4.5\n",
    "        post_isi_s = 7\n",
    "        ##Calculate average activity during a luminance value when it was approached from below:\n",
    "        up_trans_t_sec = np.array([34, 46, 58]) #Times [s.] of upward transitions\n",
    "        resp_upward = get_meanresp_during_interval(path, up_trans_t_sec, start_after_stim, post_int_s, resp_threshold=rel_thr, nanfraction_thr=nan_thr)\n",
    "        resp_upward_isi = get_meanresp_during_interval(path, up_trans_t_sec-7, start_after_isi, post_isi_s, resp_threshold=rel_thr, nanfraction_thr=nan_thr)\n",
    "        ##Calculate average activity during a luminance value when it was approached from above:\n",
    "        down_trans_t_sec = np.array([101, 89, 77]) #Times [s.] of downward transitions (sorted to match order of upward transitions\n",
    "        resp_downward = get_meanresp_during_interval(path, down_trans_t_sec, start_after_stim, post_int_s, resp_threshold=rel_thr, nanfraction_thr=nan_thr)\n",
    "        resp_downward_isi = get_meanresp_during_interval(path, down_trans_t_sec-7, start_after_isi, post_isi_s, resp_threshold=rel_thr, nanfraction_thr=nan_thr)\n",
    "\n",
    "        # Add everything to dictionary:\n",
    "        data_dict[brain_region][\"linkage_mat\"] = linked\n",
    "        data_dict[brain_region][\"clust_labels\"] = labels\n",
    "        data_dict[brain_region][\"pooled_data\"] = pooled_data\n",
    "        data_dict[brain_region][\"raw_mn_resps\"] = meanresps\n",
    "        data_dict[brain_region][\"deconv_mn_resps\"] = deconv_meanresps\n",
    "        data_dict[brain_region][\"resamp_mn_resps\"] = resamp_meanresps\n",
    "        data_dict[brain_region][\"rel_idxs\"] = rel_idxs\n",
    "        data_dict[brain_region][\"rel_thr\"] = rel_thr\n",
    "        data_dict[brain_region][\"clust_resps\"] = cluster_resps\n",
    "        \n",
    "    protocol_data_dict[protocol] = data_dict"
   ]
  },
  {
   "cell_type": "markdown",
   "metadata": {},
   "source": [
    "### PC responses panels"
   ]
  },
  {
   "cell_type": "code",
   "execution_count": 7,
   "metadata": {},
   "outputs": [],
   "source": [
    "from luminance_analysis.plotting import plot_clusters_dendro, re_histogram"
   ]
  },
  {
   "cell_type": "code",
   "execution_count": 8,
   "metadata": {},
   "outputs": [
    {
     "data": {
      "application/vnd.jupyter.widget-view+json": {
       "model_id": "7b71fa0bcc7a484c88184cd5b361fa46",
       "version_major": 2,
       "version_minor": 0
      },
      "text/plain": [
       "Canvas(toolbar=Toolbar(toolitems=[('Home', 'Reset original view', 'home', 'home'), ('Back', 'Back to previous …"
      ]
     },
     "metadata": {},
     "output_type": "display_data"
    },
    {
     "name": "stdout",
     "output_type": "stream",
     "text": [
      "[<luminance_analysis.FishData object at 0x00000221212B29C8>, <luminance_analysis.FishData object at 0x00000221212B2A88>, <luminance_analysis.FishData object at 0x00000221210E3108>, <luminance_analysis.FishData object at 0x00000221212B47C8>, <luminance_analysis.FishData object at 0x00000221212D1C48>]\n"
     ]
    },
    {
     "name": "stderr",
     "output_type": "stream",
     "text": [
      "c:\\users\\otprat\\repos\\luminance_analysis\\luminance_analysis\\plotting.py:291: UserWarning: This figure includes Axes that are not compatible with tight_layout, so results might be incorrect.\n",
      "  plt.tight_layout()\n"
     ]
    },
    {
     "name": "stdout",
     "output_type": "stream",
     "text": [
      "[211 299 341 411 457 543 605 672]\n"
     ]
    },
    {
     "name": "stderr",
     "output_type": "stream",
     "text": [
      "c:\\users\\otprat\\repos\\luminance_analysis\\luminance_analysis\\plotting.py:229: RuntimeWarning: Mean of empty slice\n",
      "  np.nanmean(traces[labels == i, :], 0) -\n",
      "c:\\users\\otprat\\repos\\luminance_analysis\\luminance_analysis\\plotting.py:229: RuntimeWarning: Mean of empty slice\n",
      "  np.nanmean(traces[labels == i, :], 0) -\n",
      "c:\\users\\otprat\\repos\\luminance_analysis\\luminance_analysis\\plotting.py:229: RuntimeWarning: Mean of empty slice\n",
      "  np.nanmean(traces[labels == i, :], 0) -\n",
      "c:\\users\\otprat\\repos\\luminance_analysis\\luminance_analysis\\plotting.py:229: RuntimeWarning: Mean of empty slice\n",
      "  np.nanmean(traces[labels == i, :], 0) -\n",
      "c:\\users\\otprat\\repos\\luminance_analysis\\luminance_analysis\\plotting.py:229: RuntimeWarning: Mean of empty slice\n",
      "  np.nanmean(traces[labels == i, :], 0) -\n",
      "c:\\users\\otprat\\repos\\luminance_analysis\\luminance_analysis\\plotting.py:229: RuntimeWarning: Mean of empty slice\n",
      "  np.nanmean(traces[labels == i, :], 0) -\n",
      "c:\\users\\otprat\\repos\\luminance_analysis\\luminance_analysis\\plotting.py:229: RuntimeWarning: Mean of empty slice\n",
      "  np.nanmean(traces[labels == i, :], 0) -\n",
      "c:\\users\\otprat\\repos\\luminance_analysis\\luminance_analysis\\plotting.py:229: RuntimeWarning: Mean of empty slice\n",
      "  np.nanmean(traces[labels == i, :], 0) -\n"
     ]
    },
    {
     "name": "stdout",
     "output_type": "stream",
     "text": [
      "[<luminance_analysis.FishData object at 0x00000221212B8308>, <luminance_analysis.FishData object at 0x00000221212D1688>, <luminance_analysis.FishData object at 0x00000221478D1388>, <luminance_analysis.FishData object at 0x0000022121633908>, <luminance_analysis.FishData object at 0x000002212163EE88>]\n"
     ]
    },
    {
     "name": "stderr",
     "output_type": "stream",
     "text": [
      "c:\\users\\otprat\\repos\\luminance_analysis\\luminance_analysis\\plotting.py:291: UserWarning: This figure includes Axes that are not compatible with tight_layout, so results might be incorrect.\n",
      "  plt.tight_layout()\n"
     ]
    },
    {
     "name": "stdout",
     "output_type": "stream",
     "text": [
      "[103 221 514 690]\n"
     ]
    },
    {
     "name": "stderr",
     "output_type": "stream",
     "text": [
      "c:\\users\\otprat\\repos\\luminance_analysis\\luminance_analysis\\plotting.py:229: RuntimeWarning: Mean of empty slice\n",
      "  np.nanmean(traces[labels == i, :], 0) -\n",
      "c:\\users\\otprat\\repos\\luminance_analysis\\luminance_analysis\\plotting.py:229: RuntimeWarning: Mean of empty slice\n",
      "  np.nanmean(traces[labels == i, :], 0) -\n",
      "c:\\users\\otprat\\repos\\luminance_analysis\\luminance_analysis\\plotting.py:229: RuntimeWarning: Mean of empty slice\n",
      "  np.nanmean(traces[labels == i, :], 0) -\n",
      "c:\\users\\otprat\\repos\\luminance_analysis\\luminance_analysis\\plotting.py:229: RuntimeWarning: Mean of empty slice\n",
      "  np.nanmean(traces[labels == i, :], 0) -\n"
     ]
    },
    {
     "data": {
      "text/plain": [
       "Text(0.01, 0.525, 'B')"
      ]
     },
     "execution_count": 8,
     "metadata": {},
     "output_type": "execute_result"
    }
   ],
   "source": [
    "color = sns.color_palette()[2]\n",
    "k = \"PC\"\n",
    "spacing = 3\n",
    "fig_clust = plt.figure(figsize=(7, 6))\n",
    "\n",
    "#for protocol in [\"steps\", \"flashes\"]:\n",
    "\n",
    "for i, (protocol, dendrolim, cbar, x_pos) in enumerate(zip([\"steps\", \"flashes\"], [392, 292], \n",
    "                                                           [False, True], [0.45, 0.0])):\n",
    "    data_dict = protocol_data_dict[protocol]\n",
    "    stim_ref = PooledData(path = master_path / protocol / \"GC\").stimarray_rep\n",
    "    f_hist = re_histogram(data_dict[k][\"rel_idxs\"], data_dict[k][\"rel_thr\"], fig_clust,  \n",
    "                          w=0.18, h=0.08, w_p=0.02, h_p=x_pos+0.42, color=color)\n",
    "\n",
    "    meanresps = data_dict[k][\"resamp_mn_resps\"]  # data_dict[k][\"deconv_mn_resps\"]\n",
    "    smooth_mean_resps = pd.DataFrame(meanresps.T).rolling(4, center=True).mean().values.T\n",
    "\n",
    "    fig_clust = plot_clusters_dendro(smooth_mean_resps, stim_ref,\n",
    "                                 data_dict[k][\"linkage_mat\"], data_dict[k][\"clust_labels\"], prefix=k,\n",
    "                                 figure=fig_clust, w=1., h=0.66, w_p=0.1, h_p=x_pos, f_lim=2,\n",
    "                                 dendrolims=(dendrolim, 0), gamma=0.4, spacing=spacing, colorbar=cbar)\n",
    "    \n",
    "fig_clust.text(0.01, 0.975, 'A')\n",
    "fig_clust.text(0.01, 0.525, 'B')"
   ]
  },
  {
   "cell_type": "code",
   "execution_count": 9,
   "metadata": {},
   "outputs": [],
   "source": [
    "if fig_fold is not None:\n",
    "    fig_clust.savefig(str(fig_fold / \"steps_panel.pdf\"))"
   ]
  },
  {
   "cell_type": "markdown",
   "metadata": {},
   "source": [
    "### Supplementary panels with all responses together"
   ]
  },
  {
   "cell_type": "code",
   "execution_count": 10,
   "metadata": {},
   "outputs": [],
   "source": [
    "fig_fold = Path(r\"C:\\Users\\otprat\\Documents\\figures\\luminance\\manuscript_figures\\fig6supp\")\n",
    "\n",
    "if not os.path.isdir(fig_fold):\n",
    "    os.mkdir(fig_fold)"
   ]
  },
  {
   "cell_type": "code",
   "execution_count": 11,
   "metadata": {},
   "outputs": [
    {
     "name": "stdout",
     "output_type": "stream",
     "text": [
      "[<luminance_analysis.FishData object at 0x00000221337EEDC8>, <luminance_analysis.FishData object at 0x00000221337EEE48>, <luminance_analysis.FishData object at 0x0000022133800448>, <luminance_analysis.FishData object at 0x000002213380CA08>, <luminance_analysis.FishData object at 0x00000221337FF088>]\n"
     ]
    },
    {
     "data": {
      "application/vnd.jupyter.widget-view+json": {
       "model_id": "920f6abc91d44709a40067aecc71d008",
       "version_major": 2,
       "version_minor": 0
      },
      "text/plain": [
       "Canvas(toolbar=Toolbar(toolitems=[('Home', 'Reset original view', 'home', 'home'), ('Back', 'Back to previous …"
      ]
     },
     "metadata": {},
     "output_type": "display_data"
    },
    {
     "name": "stderr",
     "output_type": "stream",
     "text": [
      "c:\\users\\otprat\\repos\\luminance_analysis\\luminance_analysis\\plotting.py:291: UserWarning: This figure includes Axes that are not compatible with tight_layout, so results might be incorrect.\n",
      "  plt.tight_layout()\n"
     ]
    },
    {
     "name": "stdout",
     "output_type": "stream",
     "text": [
      "[ 108  328  819  965 1023 1211 1595 2365]\n"
     ]
    },
    {
     "name": "stderr",
     "output_type": "stream",
     "text": [
      "c:\\users\\otprat\\repos\\luminance_analysis\\luminance_analysis\\plotting.py:229: RuntimeWarning: Mean of empty slice\n",
      "  np.nanmean(traces[labels == i, :], 0) -\n",
      "c:\\users\\otprat\\repos\\luminance_analysis\\luminance_analysis\\plotting.py:229: RuntimeWarning: Mean of empty slice\n",
      "  np.nanmean(traces[labels == i, :], 0) -\n",
      "c:\\users\\otprat\\repos\\luminance_analysis\\luminance_analysis\\plotting.py:229: RuntimeWarning: Mean of empty slice\n",
      "  np.nanmean(traces[labels == i, :], 0) -\n",
      "c:\\users\\otprat\\repos\\luminance_analysis\\luminance_analysis\\plotting.py:229: RuntimeWarning: Mean of empty slice\n",
      "  np.nanmean(traces[labels == i, :], 0) -\n",
      "c:\\users\\otprat\\repos\\luminance_analysis\\luminance_analysis\\plotting.py:229: RuntimeWarning: Mean of empty slice\n",
      "  np.nanmean(traces[labels == i, :], 0) -\n",
      "c:\\users\\otprat\\repos\\luminance_analysis\\luminance_analysis\\plotting.py:229: RuntimeWarning: Mean of empty slice\n",
      "  np.nanmean(traces[labels == i, :], 0) -\n",
      "c:\\users\\otprat\\repos\\luminance_analysis\\luminance_analysis\\plotting.py:229: RuntimeWarning: Mean of empty slice\n",
      "  np.nanmean(traces[labels == i, :], 0) -\n",
      "c:\\users\\otprat\\repos\\luminance_analysis\\luminance_analysis\\plotting.py:229: RuntimeWarning: Mean of empty slice\n",
      "  np.nanmean(traces[labels == i, :], 0) -\n",
      "c:\\users\\otprat\\repos\\luminance_analysis\\luminance_analysis\\plotting.py:291: UserWarning: This figure includes Axes that are not compatible with tight_layout, so results might be incorrect.\n",
      "  plt.tight_layout()\n"
     ]
    },
    {
     "name": "stdout",
     "output_type": "stream",
     "text": [
      "[18 32 41 45 54 66]\n"
     ]
    },
    {
     "name": "stderr",
     "output_type": "stream",
     "text": [
      "c:\\users\\otprat\\repos\\luminance_analysis\\luminance_analysis\\plotting.py:229: RuntimeWarning: Mean of empty slice\n",
      "  np.nanmean(traces[labels == i, :], 0) -\n",
      "c:\\users\\otprat\\repos\\luminance_analysis\\luminance_analysis\\plotting.py:229: RuntimeWarning: Mean of empty slice\n",
      "  np.nanmean(traces[labels == i, :], 0) -\n",
      "c:\\users\\otprat\\repos\\luminance_analysis\\luminance_analysis\\plotting.py:229: RuntimeWarning: Mean of empty slice\n",
      "  np.nanmean(traces[labels == i, :], 0) -\n",
      "c:\\users\\otprat\\repos\\luminance_analysis\\luminance_analysis\\plotting.py:229: RuntimeWarning: Mean of empty slice\n",
      "  np.nanmean(traces[labels == i, :], 0) -\n",
      "c:\\users\\otprat\\repos\\luminance_analysis\\luminance_analysis\\plotting.py:229: RuntimeWarning: Mean of empty slice\n",
      "  np.nanmean(traces[labels == i, :], 0) -\n",
      "c:\\users\\otprat\\repos\\luminance_analysis\\luminance_analysis\\plotting.py:229: RuntimeWarning: Mean of empty slice\n",
      "  np.nanmean(traces[labels == i, :], 0) -\n",
      "c:\\users\\otprat\\repos\\luminance_analysis\\luminance_analysis\\plotting.py:291: UserWarning: This figure includes Axes that are not compatible with tight_layout, so results might be incorrect.\n",
      "  plt.tight_layout()\n"
     ]
    },
    {
     "name": "stdout",
     "output_type": "stream",
     "text": [
      "[211 299 341 411 457 543 605 672]\n"
     ]
    },
    {
     "name": "stderr",
     "output_type": "stream",
     "text": [
      "c:\\users\\otprat\\repos\\luminance_analysis\\luminance_analysis\\plotting.py:229: RuntimeWarning: Mean of empty slice\n",
      "  np.nanmean(traces[labels == i, :], 0) -\n",
      "c:\\users\\otprat\\repos\\luminance_analysis\\luminance_analysis\\plotting.py:229: RuntimeWarning: Mean of empty slice\n",
      "  np.nanmean(traces[labels == i, :], 0) -\n",
      "c:\\users\\otprat\\repos\\luminance_analysis\\luminance_analysis\\plotting.py:229: RuntimeWarning: Mean of empty slice\n",
      "  np.nanmean(traces[labels == i, :], 0) -\n",
      "c:\\users\\otprat\\repos\\luminance_analysis\\luminance_analysis\\plotting.py:229: RuntimeWarning: Mean of empty slice\n",
      "  np.nanmean(traces[labels == i, :], 0) -\n",
      "c:\\users\\otprat\\repos\\luminance_analysis\\luminance_analysis\\plotting.py:229: RuntimeWarning: Mean of empty slice\n",
      "  np.nanmean(traces[labels == i, :], 0) -\n",
      "c:\\users\\otprat\\repos\\luminance_analysis\\luminance_analysis\\plotting.py:229: RuntimeWarning: Mean of empty slice\n",
      "  np.nanmean(traces[labels == i, :], 0) -\n",
      "c:\\users\\otprat\\repos\\luminance_analysis\\luminance_analysis\\plotting.py:229: RuntimeWarning: Mean of empty slice\n",
      "  np.nanmean(traces[labels == i, :], 0) -\n",
      "c:\\users\\otprat\\repos\\luminance_analysis\\luminance_analysis\\plotting.py:229: RuntimeWarning: Mean of empty slice\n",
      "  np.nanmean(traces[labels == i, :], 0) -\n"
     ]
    }
   ],
   "source": [
    "protocol = \"steps\"\n",
    "data_dict = protocol_data_dict[protocol]\n",
    "stim_ref = PooledData(path = master_path / protocol / \"GC\").stimarray_rep\n",
    "\n",
    "colors = sns.color_palette()[:3]\n",
    "fig_clust = plt.figure(figsize=(7, 9))\n",
    "for i, (k, dendrolim, spacing, cbar, x_pos, color) in enumerate(zip([\"GC\", \"IO\", \"PC\"], [940, 112, 582],\n",
    "                                                [3, 5, 3], [False, False, True], [0.6, 0.3, 0.0], colors)):\n",
    "    f_hist = re_histogram(data_dict[k][\"rel_idxs\"], data_dict[k][\"rel_thr\"], fig_clust,  \n",
    "                          w=0.18, h=0.08, w_p=0.02, h_p=x_pos+0.26, color=color)\n",
    "    \n",
    "    meanresps = data_dict[k][\"resamp_mn_resps\"]  # data_dict[k][\"deconv_mn_resps\"]\n",
    "    smooth_mean_resps = pd.DataFrame(meanresps.T).rolling(4, center=True).mean().values.T\n",
    "    \n",
    "    fig_clust = plot_clusters_dendro(smooth_mean_resps, stim_ref,\n",
    "                                 data_dict[k][\"linkage_mat\"], data_dict[k][\"clust_labels\"], prefix=k,\n",
    "                                 figure=fig_clust, w=1., h=0.42, w_p=0.1, h_p=x_pos, f_lim=2,\n",
    "                                 dendrolims=(dendrolim, 0), gamma=0.4, spacing=spacing, colorbar=cbar)"
   ]
  },
  {
   "cell_type": "code",
   "execution_count": 12,
   "metadata": {},
   "outputs": [],
   "source": [
    "if fig_fold is not None:\n",
    "    fig_clust.savefig(str(fig_fold / \"steps_panel.pdf\"))"
   ]
  },
  {
   "cell_type": "code",
   "execution_count": 13,
   "metadata": {},
   "outputs": [
    {
     "name": "stdout",
     "output_type": "stream",
     "text": [
      "[<luminance_analysis.FishData object at 0x000002213377CDC8>, <luminance_analysis.FishData object at 0x000002216546F988>, <luminance_analysis.FishData object at 0x0000022165471E48>, <luminance_analysis.FishData object at 0x000002216548A408>, <luminance_analysis.FishData object at 0x0000022165485A88>]\n"
     ]
    },
    {
     "data": {
      "application/vnd.jupyter.widget-view+json": {
       "model_id": "e05ab392ac6c4d8cb6d560b338c25819",
       "version_major": 2,
       "version_minor": 0
      },
      "text/plain": [
       "Canvas(toolbar=Toolbar(toolitems=[('Home', 'Reset original view', 'home', 'home'), ('Back', 'Back to previous …"
      ]
     },
     "metadata": {},
     "output_type": "display_data"
    },
    {
     "name": "stderr",
     "output_type": "stream",
     "text": [
      "c:\\users\\otprat\\repos\\luminance_analysis\\luminance_analysis\\plotting.py:291: UserWarning: This figure includes Axes that are not compatible with tight_layout, so results might be incorrect.\n",
      "  plt.tight_layout()\n"
     ]
    },
    {
     "name": "stdout",
     "output_type": "stream",
     "text": [
      "[ 445  874 1379 2570]\n"
     ]
    },
    {
     "name": "stderr",
     "output_type": "stream",
     "text": [
      "c:\\users\\otprat\\repos\\luminance_analysis\\luminance_analysis\\plotting.py:229: RuntimeWarning: Mean of empty slice\n",
      "  np.nanmean(traces[labels == i, :], 0) -\n",
      "c:\\users\\otprat\\repos\\luminance_analysis\\luminance_analysis\\plotting.py:229: RuntimeWarning: Mean of empty slice\n",
      "  np.nanmean(traces[labels == i, :], 0) -\n",
      "c:\\users\\otprat\\repos\\luminance_analysis\\luminance_analysis\\plotting.py:229: RuntimeWarning: Mean of empty slice\n",
      "  np.nanmean(traces[labels == i, :], 0) -\n",
      "c:\\users\\otprat\\repos\\luminance_analysis\\luminance_analysis\\plotting.py:229: RuntimeWarning: Mean of empty slice\n",
      "  np.nanmean(traces[labels == i, :], 0) -\n",
      "c:\\users\\otprat\\repos\\luminance_analysis\\luminance_analysis\\plotting.py:291: UserWarning: This figure includes Axes that are not compatible with tight_layout, so results might be incorrect.\n",
      "  plt.tight_layout()\n"
     ]
    },
    {
     "name": "stdout",
     "output_type": "stream",
     "text": [
      "[ 2  8 10 13 26]\n"
     ]
    },
    {
     "name": "stderr",
     "output_type": "stream",
     "text": [
      "c:\\users\\otprat\\repos\\luminance_analysis\\luminance_analysis\\plotting.py:229: RuntimeWarning: Mean of empty slice\n",
      "  np.nanmean(traces[labels == i, :], 0) -\n",
      "c:\\users\\otprat\\repos\\luminance_analysis\\luminance_analysis\\plotting.py:229: RuntimeWarning: Mean of empty slice\n",
      "  np.nanmean(traces[labels == i, :], 0) -\n",
      "c:\\users\\otprat\\repos\\luminance_analysis\\luminance_analysis\\plotting.py:229: RuntimeWarning: Mean of empty slice\n",
      "  np.nanmean(traces[labels == i, :], 0) -\n",
      "c:\\users\\otprat\\repos\\luminance_analysis\\luminance_analysis\\plotting.py:229: RuntimeWarning: Mean of empty slice\n",
      "  np.nanmean(traces[labels == i, :], 0) -\n",
      "c:\\users\\otprat\\repos\\luminance_analysis\\luminance_analysis\\plotting.py:229: RuntimeWarning: Mean of empty slice\n",
      "  np.nanmean(traces[labels == i, :], 0) -\n",
      "c:\\users\\otprat\\repos\\luminance_analysis\\luminance_analysis\\plotting.py:291: UserWarning: This figure includes Axes that are not compatible with tight_layout, so results might be incorrect.\n",
      "  plt.tight_layout()\n"
     ]
    },
    {
     "name": "stdout",
     "output_type": "stream",
     "text": [
      "[103 221 514 690]\n"
     ]
    },
    {
     "name": "stderr",
     "output_type": "stream",
     "text": [
      "c:\\users\\otprat\\repos\\luminance_analysis\\luminance_analysis\\plotting.py:229: RuntimeWarning: Mean of empty slice\n",
      "  np.nanmean(traces[labels == i, :], 0) -\n",
      "c:\\users\\otprat\\repos\\luminance_analysis\\luminance_analysis\\plotting.py:229: RuntimeWarning: Mean of empty slice\n",
      "  np.nanmean(traces[labels == i, :], 0) -\n",
      "c:\\users\\otprat\\repos\\luminance_analysis\\luminance_analysis\\plotting.py:229: RuntimeWarning: Mean of empty slice\n",
      "  np.nanmean(traces[labels == i, :], 0) -\n",
      "c:\\users\\otprat\\repos\\luminance_analysis\\luminance_analysis\\plotting.py:229: RuntimeWarning: Mean of empty slice\n",
      "  np.nanmean(traces[labels == i, :], 0) -\n"
     ]
    }
   ],
   "source": [
    "protocol = \"flashes\"\n",
    "data_dict = protocol_data_dict[protocol]\n",
    "stim_ref = PooledData(path = master_path / protocol / \"GC\").stimarray_rep\n",
    "\n",
    "colors = sns.color_palette()\n",
    "fig_clust = plt.figure(figsize=(7, 9))\n",
    "for i, (k, dendrolim, spacing, cbar, x_pos, color) in enumerate(zip([\"GC\", \"IO\", \"PC\"], [940, 112, 582],\n",
    "                                                [3, 5, 3], [False, False, True], [0.6, 0.3, 0.0], colors)):\n",
    "    f_hist = re_histogram(data_dict[k][\"rel_idxs\"], data_dict[k][\"rel_thr\"], fig_clust,  \n",
    "                          w=0.18, h=0.08, w_p=0.02, h_p=x_pos+0.26, color=color)\n",
    "    \n",
    "    meanresps = data_dict[k][\"resamp_mn_resps\"]  # data_dict[k][\"deconv_mn_resps\"]\n",
    "    smooth_mean_resps = pd.DataFrame(meanresps.T).rolling(4, center=True).mean().values.T\n",
    "    \n",
    "    fig_clust = plot_clusters_dendro(smooth_mean_resps, stim_ref,\n",
    "                                 data_dict[k][\"linkage_mat\"], data_dict[k][\"clust_labels\"], prefix=k, \n",
    "                                 figure=fig_clust, w=1., h=0.42, w_p=0.1, h_p=x_pos, f_lim=2,\n",
    "                                 dendrolims=(dendrolim, 0), gamma=0.4, spacing=spacing, colorbar=cbar)"
   ]
  },
  {
   "cell_type": "code",
   "execution_count": 14,
   "metadata": {},
   "outputs": [],
   "source": [
    "if fig_fold is not None:\n",
    "    fig_clust.savefig(str(fig_fold / \"flashes_panel.pdf\"))"
   ]
  },
  {
   "cell_type": "markdown",
   "metadata": {},
   "source": [
    "#### Fish contributions to each cluster"
   ]
  },
  {
   "cell_type": "code",
   "execution_count": 15,
   "metadata": {},
   "outputs": [],
   "source": [
    "from luminance_analysis.plotting import add_offset_axes"
   ]
  },
  {
   "cell_type": "code",
   "execution_count": 16,
   "metadata": {},
   "outputs": [],
   "source": [
    "def plot_fish_contribution(protocol_data_dict, figure=None, frame=None):\n",
    "    \n",
    "    if figure is None:\n",
    "        figure = plt.figure(figsize=(9, 3))\n",
    "        \n",
    "    barWidth = 0.85\n",
    "    n_fish = 5\n",
    "    colors = (sns.color_palette(\"deep\", 10))\n",
    "    fish_contribution = {protocol:{} for protocol in protocol_data_dict.keys()}\n",
    "    brain_region = \"PC\"\n",
    "      \n",
    "    # Figure formatting parameters:\n",
    "    off = 0.1\n",
    "    size_f = 0.05\n",
    "    k_off = off\n",
    "    \n",
    "    for i, protocol in enumerate(protocol_data_dict.keys()):\n",
    "        data_dict = protocol_data_dict[protocol]\n",
    "        \n",
    "        clusters = np.unique(data_dict[brain_region]['clust_labels'])\n",
    "        n_clust = clusters.shape[0]\n",
    "        roi_map = data_dict[brain_region]['pooled_data'].roi_map\n",
    "\n",
    "        for fish in range(n_fish):\n",
    "            fish_labels = data_dict[brain_region]['clust_labels'][roi_map[0, :] == fish]\n",
    "            fish_contribution[protocol]['{} Fish {}'.format(brain_region, fish+1)] = np.array([np.sum(fish_labels == c) for c in range(n_clust)])\n",
    "\n",
    "        contributions_df = pd.DataFrame(fish_contribution[protocol])\n",
    "        ax_hist = add_offset_axes(figure, (k_off, 0.15, size_f*len(contributions_df), .7), frame=frame)\n",
    "        k_off += size_f*len(contributions_df) + off\n",
    "        \n",
    "        \n",
    "        for i, c in enumerate(contributions_df.columns):\n",
    "            ax_hist.bar(clusters+1, contributions_df[c], \n",
    "                        bottom=sum([contributions_df[prev] for prev in list(contributions_df.columns)[:i]]),\n",
    "                    width=barWidth, label=c, color=colors[i])\n",
    "\n",
    "        #ax_hist.legend()\n",
    "        ax_hist.set_xlabel(\"Cluster #\")\n",
    "        ax_hist.set_ylabel(\"Number of ROIs\")\n",
    "        ax_hist.text(.5, 1, protocol.capitalize(), ha='center', va='top', transform=ax_hist.transAxes, fontsize=8.5)\n",
    "        \n",
    "    plt.tight_layout()    \n",
    "    return(figure)"
   ]
  },
  {
   "cell_type": "code",
   "execution_count": 17,
   "metadata": {},
   "outputs": [
    {
     "data": {
      "application/vnd.jupyter.widget-view+json": {
       "model_id": "ae2cf0fa74cb4878b5f7ba1cb0257182",
       "version_major": 2,
       "version_minor": 0
      },
      "text/plain": [
       "Canvas(toolbar=Toolbar(toolitems=[('Home', 'Reset original view', 'home', 'home'), ('Back', 'Back to previous …"
      ]
     },
     "metadata": {},
     "output_type": "display_data"
    },
    {
     "name": "stderr",
     "output_type": "stream",
     "text": [
      "C:\\tools\\miniconda3\\envs\\rplab\\lib\\site-packages\\ipykernel_launcher.py:43: UserWarning: This figure includes Axes that are not compatible with tight_layout, so results might be incorrect.\n"
     ]
    },
    {
     "data": {
      "text/plain": [
       "Text(0.525, 0.9, 'B')"
      ]
     },
     "execution_count": 17,
     "metadata": {},
     "output_type": "execute_result"
    }
   ],
   "source": [
    "fig_fish_contrib = plot_fish_contribution(protocol_data_dict)\n",
    "\n",
    "fig_fish_contrib.text(.025, .9, 'A')\n",
    "fig_fish_contrib.text(.525, .9, 'B')"
   ]
  },
  {
   "cell_type": "code",
   "execution_count": 18,
   "metadata": {},
   "outputs": [],
   "source": [
    "if fig_fold is not None:\n",
    "    fig_fish_contrib.savefig(str(fig_fold / \"Fish_contributions.pdf\"))"
   ]
  },
  {
   "cell_type": "code",
   "execution_count": null,
   "metadata": {},
   "outputs": [],
   "source": []
  }
 ],
 "metadata": {
  "kernelspec": {
   "display_name": "Python 3",
   "language": "python",
   "name": "python3"
  },
  "language_info": {
   "codemirror_mode": {
    "name": "ipython",
    "version": 3
   },
   "file_extension": ".py",
   "mimetype": "text/x-python",
   "name": "python",
   "nbconvert_exporter": "python",
   "pygments_lexer": "ipython3",
   "version": "3.7.10"
  }
 },
 "nbformat": 4,
 "nbformat_minor": 4
}
