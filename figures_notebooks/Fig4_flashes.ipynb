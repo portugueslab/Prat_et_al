{
 "cells": [
  {
   "cell_type": "code",
   "execution_count": null,
   "metadata": {},
   "outputs": [],
   "source": [
    "# %load_ext autoreload\n",
    "# %autoreload\n",
    "# %matplotlib widget"
   ]
  },
  {
   "cell_type": "code",
   "execution_count": null,
   "metadata": {},
   "outputs": [],
   "source": [
    "import flammkuchen as fl\n",
    "from matplotlib import pyplot as plt\n",
    "import numpy as np\n",
    "from scipy import io\n",
    "import seaborn as sns\n",
    "import matplotlib.gridspec as gridspec\n",
    "from matplotlib.ticker import FormatStrFormatter\n",
    "from pathlib import Path\n",
    "import pandas as pd\n",
    "import os\n",
    "from luminance_analysis import PooledData, traces_stim_from_path\n",
    "\n",
    "plt.style.use(\"figures.mplstyle\")"
   ]
  },
  {
   "cell_type": "code",
   "execution_count": null,
   "metadata": {},
   "outputs": [],
   "source": [
    "fig_fold = Path(r\"C:\\Users\\otprat\\Documents\\figures\\luminance\\manuscript_figures\\fig4\")\n",
    "\n",
    "if not os.path.isdir(fig_fold):\n",
    "    os.mkdir(fig_fold)"
   ]
  },
  {
   "cell_type": "markdown",
   "metadata": {},
   "source": [
    "## Load all data"
   ]
  },
  {
   "cell_type": "code",
   "execution_count": null,
   "metadata": {},
   "outputs": [],
   "source": [
    "# master_path = Path(r\"J:\\_Shared\\GC_IO_luminance\\data\\neat_exps\")\n",
    "master_path = Path(r\"\\\\portulab.synology.me\\legacy\\experiments\\E0032_luminance\\neat_exps\")"
   ]
  },
  {
   "cell_type": "code",
   "execution_count": null,
   "metadata": {},
   "outputs": [],
   "source": [
    "from luminance_analysis.utilities import deconv_resamp_norm_trace, reliability, nanzscore\n",
    "from skimage.filters import threshold_otsu\n",
    "from scipy.cluster.hierarchy import dendrogram, linkage, cut_tree, to_tree, set_link_color_palette\n",
    "from luminance_analysis.plotting import plot_clusters_dendro, shade_plot\n",
    "from luminance_analysis.clustering import cluster_id_search, find_trunc_dendro_clusters"
   ]
  },
  {
   "cell_type": "code",
   "execution_count": null,
   "metadata": {},
   "outputs": [],
   "source": [
    "tau_6f = 5\n",
    "tau_6s = 8\n",
    "ker_len = 20\n",
    "normalization = \"zscore\"\n",
    "protocol = 'flashes'\n",
    "\n",
    "brain_regions_list = [\"GC\", \"IO\", \"PC\"]\n",
    "tau_list = [tau_6f, tau_6f, tau_6s]\n",
    "n_cluster_list = [4, 5, 4]\n",
    "nan_thr_list = [0, 1, 1]\n",
    "\n",
    "data_dict = {k:{} for k in brain_regions_list}\n",
    "\n",
    "#load stimulus of GCs and use it as a the reference for time array and stimulus array:\n",
    "stim_ref = PooledData(path = master_path / protocol / \"GC\").stimarray_rep\n",
    "\n",
    "for brain_region, tau, n_cluster, nan_thr in zip(brain_regions_list, tau_list, \n",
    "                                                 n_cluster_list, nan_thr_list):\n",
    "    #Load data :\n",
    "    path = master_path / protocol / brain_region\n",
    "    stim, traces, meanresps = traces_stim_from_path(path)\n",
    "\n",
    "    # Mean traces, calculate reliability index :\n",
    "    rel_idxs = reliability(traces)\n",
    "    \n",
    "    # Find threshold from reliability histogram...\n",
    "    rel_thr = threshold_otsu(rel_idxs[~np.isnan(rel_idxs)])\n",
    "\n",
    "    # ...and load again filtering with the threshold:\n",
    "    _, traces, meanresps, pooled_data = traces_stim_from_path(path, resp_threshold=rel_thr, nanfraction_thr=nan_thr, return_pooled_data=True)\n",
    "\n",
    "    # Hierarchical clustering:\n",
    "    linked = linkage(meanresps, 'ward')\n",
    "    \n",
    "    # Truncate dendrogram at n_cluster level:\n",
    "    plt.figure(figsize=(0.1, 0.1))  \n",
    "    dendro = dendrogram(linked, n_cluster, truncate_mode =\"lastp\")\n",
    "    plt.close()\n",
    "    cluster_ids = dendro[\"leaves\"]\n",
    "    labels = find_trunc_dendro_clusters(linked, dendro) \n",
    "    \n",
    "    # Deconvolution, resampling / normalization:\n",
    "    deconv_meanresps = np.empty((meanresps.shape[0], stim_ref.shape[0]))\n",
    "    resamp_meanresps = np.empty((meanresps.shape[0], stim_ref.shape[0]))\n",
    "    for roi_i in range(deconv_meanresps.shape[0]):\n",
    "        deconv_meanresps[roi_i, :] = deconv_resamp_norm_trace(meanresps[roi_i, :], stim[:, 0],\n",
    "                                                                stim_ref[:, 0], tau, ker_len,\n",
    "                                                                smooth_wnd=4,\n",
    "                                                                normalization=normalization)\n",
    "        resamp_meanresps[roi_i, :] = deconv_resamp_norm_trace(meanresps[roi_i, :], stim[:, 0],\n",
    "                                                                stim_ref[:, 0], None, ker_len,\n",
    "                                                                smooth_wnd=4,\n",
    "                                                                normalization=normalization)\n",
    "    \n",
    "    cluster_resps = np.empty((n_cluster, stim_ref.shape[0]))\n",
    "    for clust_i in range(n_cluster):\n",
    "        cluster_resp = np.nanmean(deconv_meanresps[labels==clust_i, :], 0)  # average cluster responses\n",
    "        cluster_resps[clust_i, :] = nanzscore(cluster_resp)  # normalize\n",
    "\n",
    "\n",
    "    # Add everything to dictionary:\n",
    "    data_dict[brain_region][\"linkage_mat\"] = linked\n",
    "    data_dict[brain_region][\"clust_labels\"] = labels\n",
    "    data_dict[brain_region][\"pooled_data\"] = pooled_data\n",
    "    data_dict[brain_region][\"raw_mn_resps\"] = meanresps\n",
    "    data_dict[brain_region][\"deconv_mn_resps\"] = deconv_meanresps\n",
    "    data_dict[brain_region][\"resamp_mn_resps\"] = resamp_meanresps\n",
    "    data_dict[brain_region][\"rel_idxs\"] = rel_idxs\n",
    "    data_dict[brain_region][\"rel_thr\"] = rel_thr\n",
    "    data_dict[brain_region][\"clust_resps\"] = cluster_resps"
   ]
  },
  {
   "cell_type": "markdown",
   "metadata": {},
   "source": [
    "### Clustering overview"
   ]
  },
  {
   "cell_type": "code",
   "execution_count": null,
   "metadata": {},
   "outputs": [],
   "source": [
    "from luminance_analysis.plotting import plot_clusters_dendro, re_histogram"
   ]
  },
  {
   "cell_type": "code",
   "execution_count": null,
   "metadata": {},
   "outputs": [],
   "source": [
    "colors = sns.color_palette()[:2]\n",
    "fig_clust = plt.figure(figsize=(7, 6))\n",
    "for i, (k, dendrolim, spacing, cbar, x_pos, color) in enumerate(zip([\"GC\", \"IO\"], [940, 82],\n",
    "                                                [3, 5], [False, True], [0.45, 0.0], colors)):\n",
    "    f_hist = re_histogram(data_dict[k][\"rel_idxs\"], data_dict[k][\"rel_thr\"], fig_clust,  \n",
    "                          w=0.18, h=0.08, w_p=0.02, h_p=x_pos+0.4, color=color)\n",
    "    \n",
    "    meanresps = data_dict[k][\"resamp_mn_resps\"]  # data_dict[k][\"deconv_mn_resps\"]\n",
    "    smooth_mean_resps = pd.DataFrame(meanresps.T).rolling(4, center=True).mean().values.T\n",
    "    \n",
    "    fig_clust = plot_clusters_dendro(smooth_mean_resps, stim_ref,\n",
    "                                 data_dict[k][\"linkage_mat\"], data_dict[k][\"clust_labels\"], prefix=k, \n",
    "                                 figure=fig_clust, w=1., h=0.65, w_p=0.1, h_p=x_pos, f_lim=2,\n",
    "                                 dendrolims=(dendrolim, 0), gamma=0.4, spacing=spacing, colorbar=cbar)\n",
    "    \n",
    "fig_clust.text(0.005, 0.95, 'A')\n",
    "fig_clust.text(0.005, 0.5, 'B')"
   ]
  },
  {
   "cell_type": "code",
   "execution_count": null,
   "metadata": {},
   "outputs": [],
   "source": [
    "if fig_fold is not None:\n",
    "    fig_clust.savefig(str(fig_fold / \"fig4.pdf\"))"
   ]
  },
  {
   "cell_type": "markdown",
   "metadata": {},
   "source": [
    "### Supplementary figures"
   ]
  },
  {
   "cell_type": "code",
   "execution_count": null,
   "metadata": {},
   "outputs": [],
   "source": [
    "fig_fold = Path(r\"C:\\Users\\otprat\\Documents\\figures\\luminance\\manuscript_figures\\fig4supp\")\n",
    "\n",
    "if not os.path.isdir(fig_fold):\n",
    "    os.mkdir(fig_fold)"
   ]
  },
  {
   "cell_type": "code",
   "execution_count": null,
   "metadata": {},
   "outputs": [],
   "source": [
    "%load_ext autoreload\n",
    "from luminance_analysis.plotting import make_bar, get_yg_custom_cmap, add_offset_axes, shade_plot, stim_plot\n",
    "%autoreload"
   ]
  },
  {
   "cell_type": "markdown",
   "metadata": {},
   "source": [
    "#### Stimulus plot"
   ]
  },
  {
   "cell_type": "code",
   "execution_count": null,
   "metadata": {},
   "outputs": [],
   "source": [
    "stim_arr = PooledData(path = master_path / protocol / \"GC\").stimarray"
   ]
  },
  {
   "cell_type": "code",
   "execution_count": null,
   "metadata": {},
   "outputs": [],
   "source": [
    "fig_stim = stim_plot(stim_arr, xlims = (0, 54), gamma=0.4, figure=None, frame=None)"
   ]
  },
  {
   "cell_type": "code",
   "execution_count": null,
   "metadata": {},
   "outputs": [],
   "source": [
    "if fig_fold is not None:\n",
    "    fig_stim.savefig(str(fig_fold / \"Stimulation_protocol.pdf\"))"
   ]
  },
  {
   "cell_type": "markdown",
   "metadata": {},
   "source": [
    "#### Fish contribution to each cluster"
   ]
  },
  {
   "cell_type": "code",
   "execution_count": null,
   "metadata": {},
   "outputs": [],
   "source": [
    "def plot_fish_contribution(data_dict, figure=None, frame=None):\n",
    "    \n",
    "    if figure is None:\n",
    "        figure = plt.figure(figsize=(6, 3))\n",
    "        \n",
    "    barWidth = 0.85\n",
    "    n_fish = 5\n",
    "    colors = (sns.color_palette(\"deep\", 10))\n",
    "    fish_contribution = {brain_region:{} for brain_region in [\"GC\", \"IO\"]}\n",
    "        \n",
    "    for i, brain_region in enumerate([\"GC\", \"IO\"]):\n",
    "                \n",
    "        ax_hist = add_offset_axes(figure, (0.1 + 0.5*i, 0.15, .35, .7), frame=frame)\n",
    "        \n",
    "        clusters = np.unique(data_dict[brain_region]['clust_labels'])\n",
    "        n_clust = clusters.shape[0]\n",
    "        roi_map = data_dict[brain_region]['pooled_data'].roi_map\n",
    "\n",
    "        for fish in range(n_fish):\n",
    "            fish_labels = data_dict[brain_region]['clust_labels'][roi_map[0, :] == fish]\n",
    "            fish_contribution[brain_region]['{} Fish {}'.format(brain_region, fish+1)] = np.array([np.sum(fish_labels == c) for c in range(n_clust)])\n",
    "\n",
    "        contributions_df = pd.DataFrame(fish_contribution[brain_region])\n",
    "        for i, c in enumerate(contributions_df.columns):\n",
    "            ax_hist.bar(clusters+1, contributions_df[c], bottom=sum([contributions_df[prev] for prev in list(contributions_df.columns)[:i]]),\n",
    "                    width=barWidth, label=c, color=colors[i])\n",
    "\n",
    "        #ax_hist.legend()\n",
    "        ax_hist.set_xlabel(\"Cluster #\")\n",
    "        #ax_hist.text(.5, 1, brain_region, ha='center', va='top', transform=ax_hist.transAxes, fontsize=8.5)\n",
    "        ax_hist.set_title(brain_region)\n",
    "        \n",
    "        if brain_region == 'GC':\n",
    "            ax_hist.set_ylabel(\"Number of ROIs\")\n",
    "        \n",
    "    plt.tight_layout()    \n",
    "    return(figure)"
   ]
  },
  {
   "cell_type": "code",
   "execution_count": null,
   "metadata": {},
   "outputs": [],
   "source": [
    "fig_fish_contrib = plot_fish_contribution(data_dict)"
   ]
  },
  {
   "cell_type": "code",
   "execution_count": null,
   "metadata": {},
   "outputs": [],
   "source": [
    "if fig_fold is not None:\n",
    "    fig_fish_contrib.savefig(str(fig_fold / \"Fish_contributions.pdf\"))"
   ]
  },
  {
   "cell_type": "markdown",
   "metadata": {},
   "source": [
    "### Assemble figure"
   ]
  },
  {
   "cell_type": "code",
   "execution_count": null,
   "metadata": {},
   "outputs": [],
   "source": [
    "figureS4 = plt.figure(figsize=(8, 3))\n",
    "\n",
    "#Stimulus plot:\n",
    "stim_panel = stim_plot(stim_arr, xlims = (0, 54), gamma=0.4, figure=figureS4, frame=(0.04, 0.275, 0.25, 0.5))\n",
    "figureS4.text(.005, .75, 'A')\n",
    "\n",
    "#Fish contributions to cluster plot:\n",
    "fish_contrib_panel = plot_fish_contribution(data_dict, figure=figureS4, frame=(0.3, 0.2, 0.7, 0.7))\n",
    "figureS4.text(.275, .75, 'B')\n"
   ]
  },
  {
   "cell_type": "code",
   "execution_count": null,
   "metadata": {},
   "outputs": [],
   "source": [
    "if fig_fold is not None:\n",
    "    figureS4.savefig(str(fig_fold / \"fig4_supplementary.pdf\"))"
   ]
  },
  {
   "cell_type": "code",
   "execution_count": null,
   "metadata": {},
   "outputs": [],
   "source": []
  }
 ],
 "metadata": {
  "kernelspec": {
   "display_name": "Python 3",
   "language": "python",
   "name": "python3"
  },
  "language_info": {
   "codemirror_mode": {
    "name": "ipython",
    "version": 3
   },
   "file_extension": ".py",
   "mimetype": "text/x-python",
   "name": "python",
   "nbconvert_exporter": "python",
   "pygments_lexer": "ipython3",
   "version": "3.7.10"
  }
 },
 "nbformat": 4,
 "nbformat_minor": 4
}
