{
 "cells": [
  {
   "cell_type": "code",
   "execution_count": null,
   "metadata": {},
   "outputs": [],
   "source": [
    "# %matplotlib widget"
   ]
  },
  {
   "cell_type": "code",
   "execution_count": null,
   "metadata": {},
   "outputs": [],
   "source": [
    "import flammkuchen as fl\n",
    "from matplotlib import pyplot as plt\n",
    "import numpy as np\n",
    "from scipy import io\n",
    "import os\n",
    "import seaborn as sns\n",
    "import matplotlib.gridspec as gridspec\n",
    "from matplotlib.ticker import FormatStrFormatter\n",
    "from pathlib import Path\n",
    "import pandas as pd\n",
    "from luminance_analysis import PooledData, traces_stim_from_path, get_meanresp_during_interval\n",
    "\n",
    "plt.style.use(\"figures.mplstyle\")"
   ]
  },
  {
   "cell_type": "code",
   "execution_count": null,
   "metadata": {},
   "outputs": [],
   "source": [
    "fig_fold = Path(r\"C:\\Users\\otprat\\Documents\\figures\\luminance\\manuscript_figures\\fig2\")\n",
    "\n",
    "if not os.path.isdir(fig_fold):\n",
    "    os.mkdir(fig_fold)"
   ]
  },
  {
   "cell_type": "markdown",
   "metadata": {},
   "source": [
    "## Load all data"
   ]
  },
  {
   "cell_type": "code",
   "execution_count": null,
   "metadata": {},
   "outputs": [],
   "source": [
    "master_path = Path(r\"\\\\FUNES2\\legacy\\experiments\\E0032_luminance\\neat_exps\")"
   ]
  },
  {
   "cell_type": "code",
   "execution_count": null,
   "metadata": {},
   "outputs": [],
   "source": [
    "from luminance_analysis.utilities import deconv_resamp_norm_trace, reliability, nanzscore\n",
    "from skimage.filters import threshold_otsu\n",
    "from scipy.cluster.hierarchy import dendrogram, linkage, cut_tree, to_tree, set_link_color_palette\n",
    "from luminance_analysis.plotting import plot_clusters_dendro, shade_plot, stim_plot, cluster_cols\n",
    "from luminance_analysis.clustering import cluster_id_search, find_trunc_dendro_clusters"
   ]
  },
  {
   "cell_type": "code",
   "execution_count": null,
   "metadata": {},
   "outputs": [],
   "source": [
    "tau_6f = 5\n",
    "tau_6s = 8\n",
    "ker_len = 20\n",
    "normalization = \"zscore\"\n",
    "protocol = 'steps'\n",
    "\n",
    "brain_regions_list = [\"GC\", \"IO\"]\n",
    "tau_list = [tau_6f, tau_6f, tau_6s]\n",
    "n_cluster_list = [8, 6, 8]\n",
    "nan_thr_list = [0, 1, 1]\n",
    "\n",
    "data_dict = {k:{} for k in brain_regions_list}\n",
    "\n",
    "#load stimulus of GCs and use it as a the reference for time array and stimulus array:\n",
    "stim_ref = PooledData(path = master_path / protocol / \"GC\").stimarray_rep\n",
    "\n",
    "for brain_region, tau, n_cluster, nan_thr in zip(brain_regions_list, tau_list, \n",
    "                                                 n_cluster_list, nan_thr_list):\n",
    "    #Load data :\n",
    "    path = master_path / protocol / brain_region\n",
    "    stim, traces, meanresps = traces_stim_from_path(path)\n",
    "\n",
    "    # Mean traces, calculate reliability index :\n",
    "    rel_idxs = reliability(traces)\n",
    "    \n",
    "    # Find threshold from reliability histogram...\n",
    "    rel_thr = threshold_otsu(rel_idxs[~np.isnan(rel_idxs)])\n",
    "\n",
    "    # ...and load again filtering with the threshold:\n",
    "    _, traces, meanresps, pooled_data = traces_stim_from_path(path, resp_threshold=rel_thr, nanfraction_thr=nan_thr, return_pooled_data=True)\n",
    "\n",
    "    # Hierarchical clustering:\n",
    "    linked = linkage(meanresps, 'ward')\n",
    "    \n",
    "    # Truncate dendrogram at n_cluster level:\n",
    "    plt.figure(figsize=(0.1, 0.1))  \n",
    "    dendro = dendrogram(linked, n_cluster, truncate_mode =\"lastp\")\n",
    "    plt.close()\n",
    "    cluster_ids = dendro[\"leaves\"]\n",
    "    labels = find_trunc_dendro_clusters(linked, dendro) \n",
    "    \n",
    "    # Deconvolution, resampling / normalization:\n",
    "    deconv_meanresps = np.empty((meanresps.shape[0], stim_ref.shape[0]))\n",
    "    resamp_meanresps = np.empty((meanresps.shape[0], stim_ref.shape[0]))\n",
    "    for roi_i in range(deconv_meanresps.shape[0]):\n",
    "        deconv_meanresps[roi_i, :] = deconv_resamp_norm_trace(meanresps[roi_i, :], stim[:, 0],\n",
    "                                                                stim_ref[:, 0], tau, ker_len,\n",
    "                                                                smooth_wnd=4,\n",
    "                                                                normalization=normalization)\n",
    "        resamp_meanresps[roi_i, :] = deconv_resamp_norm_trace(meanresps[roi_i, :], stim[:, 0],\n",
    "                                                                stim_ref[:, 0], None, ker_len,\n",
    "                                                                smooth_wnd=4,\n",
    "                                                                normalization=normalization)\n",
    "    \n",
    "    cluster_resps = np.empty((n_cluster, stim_ref.shape[0]))\n",
    "    for clust_i in range(n_cluster):\n",
    "        cluster_resp = np.nanmean(deconv_meanresps[labels==clust_i, :], 0)  # average cluster responses\n",
    "        cluster_resps[clust_i, :] = nanzscore(cluster_resp)  # normalize\n",
    "\n",
    "    # Get mean responses of all ROIs to the different luminances of the two step series (upward and downward)\n",
    "    start_after_stim = 2.5\n",
    "    post_int_s = 5\n",
    "    start_after_isi = 4.5\n",
    "    post_isi_s = 7\n",
    "    ##Calculate average activity during a luminance value when it was approached from below:\n",
    "    up_trans_t_sec = np.array([34, 46, 58]) #Times [s.] of upward transitions\n",
    "    resp_upward = get_meanresp_during_interval(path, up_trans_t_sec, start_after_stim, post_int_s, resp_threshold=rel_thr, nanfraction_thr=nan_thr)\n",
    "    resp_upward_isi = get_meanresp_during_interval(path, up_trans_t_sec-7, start_after_isi, post_isi_s, resp_threshold=rel_thr, nanfraction_thr=nan_thr)\n",
    "    ##Calculate average activity during a luminance value when it was approached from above:\n",
    "    down_trans_t_sec = np.array([101, 89, 77]) #Times [s.] of downward transitions (sorted to match order of upward transitions\n",
    "    resp_downward = get_meanresp_during_interval(path, down_trans_t_sec, start_after_stim, post_int_s, resp_threshold=rel_thr, nanfraction_thr=nan_thr)\n",
    "    resp_downward_isi = get_meanresp_during_interval(path, down_trans_t_sec-7, start_after_isi, post_isi_s, resp_threshold=rel_thr, nanfraction_thr=nan_thr)\n",
    "\n",
    "    # Add everything to dictionary:\n",
    "    data_dict[brain_region][\"linkage_mat\"] = linked\n",
    "    data_dict[brain_region][\"clust_labels\"] = labels\n",
    "    data_dict[brain_region][\"pooled_data\"] = pooled_data\n",
    "    data_dict[brain_region][\"raw_mn_resps\"] = meanresps\n",
    "    data_dict[brain_region][\"deconv_mn_resps\"] = deconv_meanresps\n",
    "    data_dict[brain_region][\"resamp_mn_resps\"] = resamp_meanresps\n",
    "    data_dict[brain_region][\"rel_idxs\"] = rel_idxs\n",
    "    data_dict[brain_region][\"rel_thr\"] = rel_thr\n",
    "    data_dict[brain_region][\"clust_resps\"] = cluster_resps\n",
    "    data_dict[brain_region][\"resp_upward\"] = resp_upward\n",
    "    data_dict[brain_region][\"resp_downward\"] = resp_downward\n",
    "    data_dict[brain_region][\"resp_upward_isi\"] = resp_upward_isi\n",
    "    data_dict[brain_region][\"resp_downward_isi\"] = resp_downward_isi"
   ]
  },
  {
   "cell_type": "markdown",
   "metadata": {},
   "source": [
    "### Clustering overview"
   ]
  },
  {
   "cell_type": "code",
   "execution_count": null,
   "metadata": {},
   "outputs": [],
   "source": [
    "%load_ext autoreload\n",
    "%autoreload\n",
    "\n",
    "from luminance_analysis.plotting import plot_clusters_dendro, re_histogram"
   ]
  },
  {
   "cell_type": "code",
   "execution_count": null,
   "metadata": {},
   "outputs": [],
   "source": [
    "colors = sns.color_palette()[:2]\n",
    "fig_clust = plt.figure(figsize=(7, 6))\n",
    "for i, (k, dendrolim, spacing, cbar, x_pos, color) in enumerate(zip([\"GC\", \"IO\"], [1040, 112],\n",
    "                                                [3, 5], [False, False], [0.47, 0.], colors)):\n",
    "    f_hist = re_histogram(data_dict[k][\"rel_idxs\"], data_dict[k][\"rel_thr\"], fig_clust,  \n",
    "                          w=0.18, h=0.1, w_p=0.04, h_p=x_pos+0.4125, color=color)\n",
    "    \n",
    "    meanresps = data_dict[k][\"resamp_mn_resps\"]  # data_dict[k][\"deconv_mn_resps\"]\n",
    "    smooth_mean_resps = pd.DataFrame(meanresps.T).rolling(4, center=True).mean().values.T\n",
    "    \n",
    "    fig_clust = plot_clusters_dendro(smooth_mean_resps, stim_ref,\n",
    "                                 data_dict[k][\"linkage_mat\"], data_dict[k][\"clust_labels\"], prefix=k,\n",
    "                                 figure=fig_clust, w=1., h=0.65, w_p=0.1, h_p=x_pos, f_lim=2,\n",
    "                                 dendrolims=(dendrolim, 0), gamma=0.4, spacing=spacing, colorbar=cbar)\n",
    "    \n",
    "fig_clust.text(.01,.98, 'A')\n",
    "fig_clust.text(.01,.51, 'B')"
   ]
  },
  {
   "cell_type": "code",
   "execution_count": null,
   "metadata": {},
   "outputs": [],
   "source": [
    "if fig_fold is not None:\n",
    "    fig_clust.savefig(str(fig_fold / \"fig2.pdf\"))"
   ]
  },
  {
   "cell_type": "markdown",
   "metadata": {},
   "source": [
    "### Supplementary figures"
   ]
  },
  {
   "cell_type": "code",
   "execution_count": null,
   "metadata": {},
   "outputs": [],
   "source": [
    "fig_fold = Path(r\"C:\\Users\\otprat\\Documents\\figures\\luminance\\manuscript_figures\\fig2supp\")\n",
    "\n",
    "if not os.path.isdir(fig_fold):\n",
    "    os.mkdir(fig_fold)"
   ]
  },
  {
   "cell_type": "code",
   "execution_count": null,
   "metadata": {},
   "outputs": [],
   "source": [
    "%load_ext autoreload\n",
    "from luminance_analysis.plotting import make_bar, get_yg_custom_cmap, add_offset_axes, shade_plot, stim_plot\n",
    "%autoreload"
   ]
  },
  {
   "cell_type": "markdown",
   "metadata": {},
   "source": [
    "#### Stimulus plot"
   ]
  },
  {
   "cell_type": "code",
   "execution_count": null,
   "metadata": {},
   "outputs": [],
   "source": [
    "stim_arr = PooledData(path = master_path / protocol / \"GC\").stimarray"
   ]
  },
  {
   "cell_type": "code",
   "execution_count": null,
   "metadata": {},
   "outputs": [],
   "source": [
    "fig_stim = stim_plot(stim_arr, xlims = (0, 108), gamma=0.4, figure=None, frame=None)"
   ]
  },
  {
   "cell_type": "code",
   "execution_count": null,
   "metadata": {},
   "outputs": [],
   "source": [
    "if fig_fold is not None:\n",
    "    fig_stim.savefig(str(fig_fold / \"Stimulation_protocol.pdf\"))"
   ]
  },
  {
   "cell_type": "markdown",
   "metadata": {},
   "source": [
    "#### Fish contributions to each cluster"
   ]
  },
  {
   "cell_type": "code",
   "execution_count": null,
   "metadata": {},
   "outputs": [],
   "source": [
    "def plot_fish_contribution(data_dict, figure=None, frame=None):\n",
    "    \n",
    "    if figure is None:\n",
    "        figure = plt.figure(figsize=(6, 3))\n",
    "        \n",
    "    barWidth = 0.85\n",
    "    n_fish = 5\n",
    "    colors = (sns.color_palette(\"deep\", 10))\n",
    "    fish_contribution = {brain_region:{} for brain_region in brain_regions_list}\n",
    "        \n",
    "    for i, brain_region in enumerate(brain_regions_list):\n",
    "        \n",
    "        ax_hist = add_offset_axes(figure, (0.05 + 0.5*i, 0.15, .4, .7), frame=frame)\n",
    "        \n",
    "        clusters = np.unique(data_dict[brain_region]['clust_labels'])\n",
    "        n_clust = clusters.shape[0]\n",
    "        roi_map = data_dict[brain_region]['pooled_data'].roi_map\n",
    "\n",
    "        for fish in range(n_fish):\n",
    "            fish_labels = data_dict[brain_region]['clust_labels'][roi_map[0, :] == fish]\n",
    "            fish_contribution[brain_region]['{} Fish {}'.format(brain_region, fish+1)] = np.array([np.sum(fish_labels == c) for c in range(n_clust)])\n",
    "\n",
    "        contributions_df = pd.DataFrame(fish_contribution[brain_region])\n",
    "        for i, c in enumerate(contributions_df.columns):\n",
    "            ax_hist.bar(clusters+1, contributions_df[c], bottom=sum([contributions_df[prev] for prev in list(contributions_df.columns)[:i]]),\n",
    "                    width=barWidth, label=c, color=colors[i])\n",
    "\n",
    "#         ax_hist.legend(bbox_to_anchor=(1,1))\n",
    "        ax_hist.set_xlabel(\"Cluster #\")\n",
    "        ax_hist.set_ylabel(\"Number of ROIs\")\n",
    "        ax_hist.text(.5, 1, brain_region, ha='center', va='top', transform=ax_hist.transAxes, fontsize=8.5)\n",
    "        plt.tight_layout()\n",
    "                \n",
    "    return(figure)"
   ]
  },
  {
   "cell_type": "code",
   "execution_count": null,
   "metadata": {},
   "outputs": [],
   "source": [
    "fig_fish_contrib = plot_fish_contribution(data_dict)"
   ]
  },
  {
   "cell_type": "code",
   "execution_count": null,
   "metadata": {},
   "outputs": [],
   "source": [
    "if fig_fold is not None:\n",
    "    fig_fish_contrib.savefig(str(fig_fold / \"Fish_contributions.pdf\"))"
   ]
  },
  {
   "cell_type": "markdown",
   "metadata": {},
   "source": [
    "#### Mean response to all flash levels by cluster"
   ]
  },
  {
   "cell_type": "code",
   "execution_count": null,
   "metadata": {},
   "outputs": [],
   "source": [
    "from scipy import stats"
   ]
  },
  {
   "cell_type": "code",
   "execution_count": null,
   "metadata": {},
   "outputs": [],
   "source": [
    "# def plot_fish_steps_resps(data_dict, brain_region, figure=None, frame=None):\n",
    "    \n",
    "#     if figure is None:\n",
    "#         figure = plt.figure(figsize=(4, 5))\n",
    "         \n",
    "#     clusters = np.unique(data_dict[brain_region]['clust_labels'])\n",
    "#     step_series = ['resp_upward', 'resp_downward']\n",
    "#     series_titles = ['Up transitions', 'Down transitions']\n",
    "#     x_ticks = [[0, 1, 2, 3], ['Dark', '5%', '20%', '100%']]\n",
    "#     ylims = [-2, 30]\n",
    "#     offset = 4\n",
    "#     alpha = 0.01\n",
    "#     n_tests = 48\n",
    "#     alpha_corrected=alpha/n_tests\n",
    "    \n",
    "#     for i, (serie, title) in enumerate(zip(step_series, series_titles)):        \n",
    "#         ax_hist = add_offset_axes(figure, (0.1+0.4*i, 0.15, .35, .8), frame=frame)\n",
    "            \n",
    "#         for cluster, color in zip(clusters, cluster_cols()):\n",
    "#             cluster_resps = data_dict[brain_region][serie][:, data_dict[brain_region]['clust_labels'] == cluster]\n",
    "#             isi_cluster_resps = data_dict[brain_region][serie+'_isi'][:, data_dict[brain_region]['clust_labels'] == cluster]\n",
    "\n",
    "#             if serie == 'resp_upward':\n",
    "#                 insert_idx = 0\n",
    "#             elif serie == 'resp_downward':\n",
    "#                 insert_idx = 3\n",
    "#             cluster_resps = np.insert(cluster_resps, insert_idx, np.nanmean(isi_cluster_resps, 0), 0)\n",
    "\n",
    "#             ax_hist.errorbar(x_ticks[0], np.nanmean(cluster_resps, 1) + offset*cluster, yerr=np.std(cluster_resps, 1), capsize=3, c=color, ls='none', marker='o', markersize=3)\n",
    "#             ax_hist.axhline(offset*cluster, c='gray', alpha=.3, ls=':')\n",
    "#             if serie == 'resp_upward':\n",
    "#                 ax_hist.set_yticks(offset*clusters)\n",
    "#                 ax_hist.set_yticklabels(np.zeros_like(clusters))\n",
    "#                 ax_hist.set_ylabel('Average response during luminance step')\n",
    "#             else:\n",
    "#                 ax_hist.set_yticks([])\n",
    "                \n",
    "#             ax_hist.set_xlabel('Luminance')\n",
    "#             ax_hist.set_xticks(x_ticks[0])\n",
    "#             ax_hist.set_xticklabels(x_ticks[1])\n",
    "#             ax_hist.set_ylim(ylims)\n",
    "#             ax_hist.text(.5,1, title, ha='center', va='top', transform=ax_hist.transAxes, fontsize=7)\n",
    "                        \n",
    "# #             #T-tests\n",
    "# #             x_pos = [(x_ticks[0][i]+x_ticks[0][i+1])/2 for i in [0, 1, 2]]\n",
    "# #             for i in [0, 1, 2]:\n",
    "# #                 data1 = cluster_resps[i, :]\n",
    "# #                 data2 = cluster_resps[i+1, :]\n",
    "                \n",
    "# #                 d, pval = stats.ttest_ind(data1, data2)\n",
    "# #                 y_pos = ((np.nanmean(data1)+np.nanmean(data2))/2)+cluster*offset\n",
    "                \n",
    "# #                 if pval < alpha:\n",
    "# #                     ax_hist.text(x_pos[i], y_pos, '*', ha='center', color=color)\n",
    "# #                 else:\n",
    "# #                     ax_hist.text(x_pos[i], y_pos, 'n.s.', fontsize=7, ha='center', va='bottom', color=color)\n",
    "                    \n",
    "#     plt.tight_layout()\n",
    "    \n",
    "#     return(figure)"
   ]
  },
  {
   "cell_type": "code",
   "execution_count": null,
   "metadata": {},
   "outputs": [],
   "source": [
    "def plot_fish_steps_resps(data_dict, brain_region, figure=None, frame=None):\n",
    "    \n",
    "    if figure is None:\n",
    "        figure = plt.figure(figsize=(4, 7))\n",
    "         \n",
    "    clusters = np.unique(data_dict[brain_region]['clust_labels'])\n",
    "    step_series = ['resp_upward', 'resp_downward']\n",
    "    series_titles = ['Up transitions', 'Down transitions']\n",
    "    x_ticks = [[0, 1, 2, 3], ['Dark', '5%', '20%', '100%']]\n",
    "    ylims = [-2, 30]\n",
    "    offset = 4\n",
    "    alpha = 0.01\n",
    "    n_tests = 48\n",
    "    alpha_corrected=alpha/n_tests\n",
    "    \n",
    "    for i, (serie, title) in enumerate(zip(step_series, series_titles)):        \n",
    "        ax_hist = add_offset_axes(figure, (0.1+0.4*i, 0.15, .35, .75), frame=frame)\n",
    "            \n",
    "        for cluster, color in zip(clusters, cluster_cols()):\n",
    "            cluster_resps = data_dict[brain_region][serie][:, data_dict[brain_region]['clust_labels'] == cluster]\n",
    "            isi_cluster_resps = data_dict[brain_region][serie+'_isi'][:, data_dict[brain_region]['clust_labels'] == cluster]\n",
    "\n",
    "            if serie == 'resp_upward':\n",
    "                insert_idx = 0\n",
    "            elif serie == 'resp_downward':\n",
    "                insert_idx = 3\n",
    "            cluster_resps = np.insert(cluster_resps, insert_idx, np.nanmean(isi_cluster_resps, 0), 0)\n",
    "\n",
    "            ax_hist.errorbar(x_ticks[0], np.nanmean(cluster_resps, 1) + offset*cluster, yerr=np.std(cluster_resps, 1), capsize=3, c=color, ls='none', marker='o', markersize=3)\n",
    "            ax_hist.axhline(offset*cluster, c='gray', alpha=.3, ls=':')\n",
    "            if serie == 'resp_upward':\n",
    "                ax_hist.set_yticks(offset*clusters)\n",
    "                ax_hist.set_yticklabels(np.zeros_like(clusters))\n",
    "                ax_hist.set_ylabel('Average response during luminance step')\n",
    "            else:\n",
    "                ax_hist.set_yticks([])\n",
    "                \n",
    "            ax_hist.set_xlabel('Luminance')\n",
    "            ax_hist.set_xticks(x_ticks[0])\n",
    "            ax_hist.set_xticklabels(x_ticks[1])\n",
    "            ax_hist.set_ylim(ylims)\n",
    "#             ax_hist.text(.5,1, title, ha='center', va='top', transform=ax_hist.transAxes, fontsize=7)\n",
    "                        \n",
    "#             #T-tests\n",
    "#             x_pos = [(x_ticks[0][i]+x_ticks[0][i+1])/2 for i in [0, 1, 2]]\n",
    "#             for i in [0, 1, 2]:\n",
    "#                 data1 = cluster_resps[i, :]\n",
    "#                 data2 = cluster_resps[i+1, :]\n",
    "                \n",
    "#                 d, pval = stats.ttest_ind(data1, data2)\n",
    "#                 y_pos = ((np.nanmean(data1)+np.nanmean(data2))/2)+cluster*offset\n",
    "                \n",
    "#                 if pval < alpha:\n",
    "#                     ax_hist.text(x_pos[i], y_pos, '*', ha='center', color=color)\n",
    "#                 else:\n",
    "#                     ax_hist.text(x_pos[i], y_pos, 'n.s.', fontsize=7, ha='center', va='bottom', color=color)\n",
    "                    \n",
    "    for i, (serie, title, xlims) in enumerate(zip(step_series, series_titles, [[35.5,71.5], [74.8,111]])):        \n",
    "        ax_hist = add_offset_axes(figure, (0.1+0.4*i, 0.925, .35, 1), frame=frame)\n",
    "        ax_hist.plot(stim_arr[0, :], stim_arr[1, :])\n",
    "        ax_hist.set_xlim(xlims)\n",
    "        ax_hist.set_ylim(-.25,25)\n",
    "        ax_hist.axis('off')\n",
    "        \n",
    "        \n",
    "        if i==0:\n",
    "            ax_hist.text(41.5,0.7, '5%', ha='center', va='top', fontsize=7)\n",
    "            ax_hist.text(54,0.85, '20%', ha='center', va='top', fontsize=7)\n",
    "            ax_hist.text(65.5,1.65, '100%', ha='center', va='top', fontsize=7)\n",
    "            ax_hist.text(48,-0.2, 'Dark', ha='center', va='top', fontsize=7)\n",
    "        else:\n",
    "            ax_hist.text(78.5,1.5, '100%', ha='center', va='top', fontsize=7)\n",
    "            ax_hist.text(85,0.05, '20%', ha='center', va='top', fontsize=7)\n",
    "            ax_hist.text(96.5,-0.1, '5%', ha='center', va='top', fontsize=7)\n",
    "            ax_hist.text(108.5,-0.2, 'Dark', ha='center', va='top', fontsize=7)\n",
    "\n",
    "#     plt.tight_layout()\n",
    "    \n",
    "    return(figure)"
   ]
  },
  {
   "cell_type": "code",
   "execution_count": null,
   "metadata": {},
   "outputs": [],
   "source": [
    "fig_steps_resps = plot_fish_steps_resps(data_dict, 'GC')"
   ]
  },
  {
   "cell_type": "code",
   "execution_count": null,
   "metadata": {},
   "outputs": [],
   "source": [
    "if fig_fold is not None:\n",
    "    fig_steps_resps.savefig(str(fig_fold / \"Average responses to luminance steps.pdf\"))"
   ]
  },
  {
   "cell_type": "markdown",
   "metadata": {},
   "source": [
    "#### Plot individual traces"
   ]
  },
  {
   "cell_type": "code",
   "execution_count": null,
   "metadata": {},
   "outputs": [],
   "source": [
    "from luminance_analysis.roi_display import overimpose_shade, merge_anatomy_and_mask"
   ]
  },
  {
   "cell_type": "code",
   "execution_count": null,
   "metadata": {},
   "outputs": [],
   "source": [
    "example_rois = [1777, 29, 430, 1032]"
   ]
  },
  {
   "cell_type": "code",
   "execution_count": null,
   "metadata": {},
   "outputs": [],
   "source": [
    "def plot_roi_traces(data_dict, brain_region, rois, stimulus_array, figure=None, frame=None):\n",
    "    \n",
    "    if figure is None:\n",
    "        figure = plt.figure(figsize=(6.5, 2.5))\n",
    "        \n",
    "    ybarlength = 4\n",
    "    xbarlength = 10\n",
    "    pooled_data = data_dict[brain_region]['pooled_data']\n",
    "    traces = pooled_data.traces\n",
    "    stim = stimulus_array\n",
    "    clusters = data_dict[brain_region]['clust_labels'][rois]\n",
    "\n",
    "    for i, roi in enumerate(rois):        \n",
    "        ax_trace = add_offset_axes(figure, (0.1, 0.1+0.2*i, .6, .2), frame=frame)\n",
    "        ax_anato = add_offset_axes(figure, (0.75, 0.1+0.2*i, .1, .2), frame=frame)\n",
    "        \n",
    "        color = cluster_cols()[clusters[i]]\n",
    "\n",
    "        #Plot ROI repetitions\n",
    "        roi_traces_zscored = np.empty_like(traces[roi, :, :])\n",
    "        for rep in range(traces[roi, :, :].shape[1]):\n",
    "            roi_traces_zscored[:, rep] = nanzscore(traces[roi, :, rep])\n",
    "\n",
    "        ax_trace.plot(stim[:, 0], roi_traces_zscored, c=color, alpha=0.065)\n",
    "        ax_trace.plot(stim[:, 0], np.nanmean(roi_traces_zscored, 1), c=color)\n",
    "        shade_plot((stim[:, 0], stim[:, 1]), ax=ax_trace)\n",
    "        ax_trace.set_xlim([min(stim[:, 0]), max(stim[:, 0])])\n",
    "        ax_trace.set_ylim((-1.8,5.2))\n",
    "        \n",
    "        #Plot scale bars\n",
    "        if i == 0:\n",
    "            # Y axis bar\n",
    "            make_bar(ax_trace, [0, ybarlength], label=\"{} s.d. dF/F\".format(ybarlength), orientation='vertical', lw=1)\n",
    "            # X axis bar\n",
    "            make_bar(ax_trace, [2, 2+xbarlength], label=\"{} s\".format(xbarlength), lw=1)\n",
    "        else:\n",
    "            ax_trace.axis('off')   \n",
    "\n",
    "        #Plot ROI anatomy\n",
    "        anatomy_stack, mask_stack = pooled_data.get_roi_anatomy_stacks(roi, crop_around=25)\n",
    "        figure_anatomy = merge_anatomy_and_mask(anatomy_stack, mask_stack, color, gamma=0.5)\n",
    "\n",
    "        ax_anato.imshow(figure_anatomy)\n",
    "        ax_anato.axis('off')\n",
    "\n",
    "    plt.tight_layout()\n",
    "    \n",
    "    return(figure)"
   ]
  },
  {
   "cell_type": "code",
   "execution_count": null,
   "metadata": {},
   "outputs": [],
   "source": [
    "fig_traces = plot_roi_traces(data_dict, 'GC', example_rois, stim_ref, figure=None, frame=None)"
   ]
  },
  {
   "cell_type": "code",
   "execution_count": null,
   "metadata": {},
   "outputs": [],
   "source": [
    "if fig_fold is not None:\n",
    "    fig_traces.savefig(str(fig_fold / \"GC traces.pdf\"))"
   ]
  },
  {
   "cell_type": "markdown",
   "metadata": {},
   "source": [
    "#### Sensory history plot"
   ]
  },
  {
   "cell_type": "code",
   "execution_count": null,
   "metadata": {},
   "outputs": [],
   "source": [
    "def plot_sensory_history(data_dict, brain_region, figure=None, frame=None, align='h'):\n",
    "\n",
    "    if figure is None:\n",
    "        figure = plt.figure(figsize=(5, 5))\n",
    "         \n",
    "    labels = data_dict[brain_region]['clust_labels']\n",
    "    clusters = np.unique(labels)\n",
    "    resp_upward = data_dict[brain_region]['resp_upward'][:2, :]\n",
    "    resp_downward = data_dict[brain_region]['resp_downward'][1:, :]\n",
    "    step_series = ['resp_upward', 'resp_downward']\n",
    "    series_titles = ['UP transitions', 'DOWN transitions']\n",
    "    colors = cluster_cols()\n",
    "    \n",
    "    for i, title in enumerate([\"5% luminance\", \"20% luminance\"]):    \n",
    "        if align == 'h':\n",
    "            ax_scatter = add_offset_axes(figure, (0.1+0.45*i, 0.15, .35, .35), frame=frame)\n",
    "        elif align == 'v':\n",
    "            ax_scatter = add_offset_axes(figure, (0.1, 1-0.45*(1+i), .35, .35), frame=frame)\n",
    "      \n",
    "        for j in range(clusters.shape[0]):\n",
    "            mnx = resp_upward[i,labels==j].mean()\n",
    "            stdx = resp_upward[i,labels==j].std()\n",
    "            mny = resp_downward[i,labels==j].mean()\n",
    "            stdy = resp_downward[i,labels==j].std()\n",
    "            ax_scatter.scatter(mnx, mny, color=colors[j], s=6, alpha=1, \n",
    "                    edgecolors=None)\n",
    "            ax_scatter.plot([mnx, mnx], [mny - stdy/2, mny+stdy/2], color=colors[j])\n",
    "            ax_scatter.plot([mnx - stdx/2, mnx+stdx/2], [mny, mny], color=colors[j])\n",
    "\n",
    "        lims = [-1, 1.5]\n",
    "        ticks = np.arange(-0.5, 1.6, 1)\n",
    "        ax_scatter.plot(lims, lims, color=\"k\", linewidth=0.4, zorder=-10)  # linear edge\n",
    "        ax_scatter.set_aspect('auto')\n",
    "        ax_scatter.set_xticks(ticks)\n",
    "\n",
    "        ax_scatter.set_yticks(ticks)\n",
    "#         ax_scatter.set_title(title)\n",
    "        ax_scatter.text(.5,1.1, title, ha='center', va='top', transform=ax_scatter.transAxes, fontsize=7)        \n",
    "        \n",
    "        if align == 'h':\n",
    "            ax_scatter.set_xlabel(\"Low-high transition\")\n",
    "            if i == 0:\n",
    "                ax_scatter.set_ylabel(\"High-low transition\")\n",
    "            else:\n",
    "                ax_scatter.set_yticklabels([])\n",
    "        elif align == 'v':\n",
    "            ax_scatter.set_ylabel(\"Low-high transition\")\n",
    "            if i == 1:\n",
    "                ax_scatter.set_xlabel(\"High-low transition\")\n",
    "            else:\n",
    "                ax_scatter.set_xticklabels([])\n",
    "\n",
    "    plt.tight_layout()\n",
    "    return(figure)"
   ]
  },
  {
   "cell_type": "code",
   "execution_count": null,
   "metadata": {},
   "outputs": [],
   "source": [
    "fig_sens_hist = plot_sensory_history(data_dict, 'GC', align='v')"
   ]
  },
  {
   "cell_type": "code",
   "execution_count": null,
   "metadata": {},
   "outputs": [],
   "source": [
    "if fig_fold is not None:\n",
    "    fig_sens_hist.savefig(str(fig_fold / \"Sensory_history_in_GCs.pdf\"))"
   ]
  },
  {
   "cell_type": "markdown",
   "metadata": {},
   "source": [
    "### Assemble figure"
   ]
  },
  {
   "cell_type": "code",
   "execution_count": null,
   "metadata": {},
   "outputs": [],
   "source": [
    "#OLD VERSION\n",
    "# figureS2 = plt.figure(figsize=(7, 9))\n",
    "\n",
    "# #Stimulus plot:\n",
    "# stim_panel = stim_plot(stim_arr, xlims = (0, 108), gamma=0.4, figure=figureS2, frame=(0.05, 0.8, 0.35, 0.2))\n",
    "\n",
    "# #Cluster step reponses plot:\n",
    "# steps_resps_panel = plot_fish_steps_resps(data_dict, 'GC', figure=figureS2, frame=(0.35, 0.485, 0.75, 0.5))\n",
    "\n",
    "# #Traces plot\n",
    "# traces_panel = plot_roi_traces(data_dict, 'GC', example_rois, stim_ref, figure=figureS2, frame=(0.05, 0.275, 1, .25))\n",
    "\n",
    "# #Fish contributions plot\n",
    "# fish_contrib_panel = plot_fish_contribution(data_dict, figure=figureS2, frame=(0.05, 0.05, 1, .25))\n",
    "\n",
    "# #Sensory history figure\n",
    "# sens_hist_panel = plot_sensory_history(data_dict, 'GC',  figure=figureS2, frame=(0.05, 0.535, .5, .275), align='v')"
   ]
  },
  {
   "cell_type": "code",
   "execution_count": null,
   "metadata": {},
   "outputs": [],
   "source": [
    "figureS2 = plt.figure(figsize=(7, 9))\n",
    "\n",
    "#Stimulus plot:\n",
    "stim_panel = stim_plot(stim_arr, xlims = (0, 108), gamma=0.4, figure=figureS2, frame=(0.05, 0.8, 0.4, 0.2))\n",
    "figureS2.text(.05,.98, 'A')\n",
    "\n",
    "#Sensory history figure\n",
    "sens_hist_panel = plot_sensory_history(data_dict, 'GC',  figure=figureS2, frame=(0.1, 0.535, .45, .275), align='v')\n",
    "figureS2.text(.05,.8, 'C')\n",
    "\n",
    "#Cluster step reponses plot:\n",
    "steps_resps_panel = plot_fish_steps_resps(data_dict, 'GC', figure=figureS2, frame=(0.35, 0.485, 0.6, 0.5))\n",
    "figureS2.text(.375,.98, 'B')\n",
    "\n",
    "#Traces plot\n",
    "traces_panel = plot_roi_traces(data_dict, 'GC', example_rois, stim_ref, figure=figureS2, frame=(0.05, 0.275, .9, .25))\n",
    "figureS2.text(.1, .5, 'D')\n",
    "\n",
    "#Fish contributions plot\n",
    "fish_contrib_panel = plot_fish_contribution(data_dict, figure=figureS2, frame=(0.05, 0.05, .9, .25))\n",
    "figureS2.text(.025, .275, 'E')\n"
   ]
  },
  {
   "cell_type": "code",
   "execution_count": null,
   "metadata": {},
   "outputs": [],
   "source": [
    "if fig_fold is not None:\n",
    "    figureS2.savefig(str(fig_fold / \"fig2_supplementary.pdf\"))"
   ]
  },
  {
   "cell_type": "code",
   "execution_count": null,
   "metadata": {},
   "outputs": [],
   "source": []
  },
  {
   "cell_type": "code",
   "execution_count": null,
   "metadata": {},
   "outputs": [],
   "source": []
  },
  {
   "cell_type": "code",
   "execution_count": null,
   "metadata": {},
   "outputs": [],
   "source": []
  },
  {
   "cell_type": "code",
   "execution_count": null,
   "metadata": {},
   "outputs": [],
   "source": []
  },
  {
   "cell_type": "code",
   "execution_count": null,
   "metadata": {
    "tags": []
   },
   "outputs": [],
   "source": []
  }
 ],
 "metadata": {
  "kernelspec": {
   "display_name": "Python 3 (ipykernel)",
   "language": "python",
   "name": "python3"
  },
  "language_info": {
   "codemirror_mode": {
    "name": "ipython",
    "version": 3
   },
   "file_extension": ".py",
   "mimetype": "text/x-python",
   "name": "python",
   "nbconvert_exporter": "python",
   "pygments_lexer": "ipython3",
   "version": "3.8.10"
  }
 },
 "nbformat": 4,
 "nbformat_minor": 4
}
